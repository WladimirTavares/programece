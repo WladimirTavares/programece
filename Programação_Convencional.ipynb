{
  "nbformat": 4,
  "nbformat_minor": 0,
  "metadata": {
    "colab": {
      "provenance": [],
      "collapsed_sections": [
        "ZpHwvcpK_DSt",
        "J_cF2yv1rUh8",
        "31Ljirji_MDa",
        "sE7bQ_C__QCx",
        "eD5M8QholNme",
        "RFJfnySCobfI",
        "bb6LHuk7uF1P",
        "1doX3m4N3Gij",
        "Q_W8AOVe9O1f",
        "9JXhMnv-tWBQ",
        "lrijDnv_uMxu",
        "T6A8jed-0KYy",
        "B94WY8e70cqF",
        "V3LL7nNnp70Y",
        "xnYmfwzEuvx9",
        "E-k0CMdbivlx",
        "BsY11R17qu8V",
        "qMmhc6kbrlSZ",
        "v0nHaHjoshjm",
        "nVQqdb-o67iG",
        "4yuVBwIe8JFT",
        "JIHd9rP2CvVh",
        "vYkmbJg-Fiqt",
        "yOfkBV7-JTgZ",
        "luxqE55oJYuK",
        "zt5h97wiJb_k",
        "89xDVMTUJiTz",
        "W2JTITzmvNwa",
        "UDJM2Egh5pe6",
        "JBjuAdzP-Txd",
        "kLtM11W1-WNz",
        "Uyvm5vd4-c4d",
        "PXGYMQiw-3cR",
        "6PbXpc_A_4dE"
      ]
    },
    "kernelspec": {
      "name": "python3",
      "display_name": "Python 3"
    },
    "language_info": {
      "name": "python"
    }
  },
  "cells": [
    {
      "cell_type": "markdown",
      "source": [
        "# Programe_CE Disciplina Programação Convencional\n",
        "\n",
        "\n",
        "\n",
        "Existem bons materiais de estudo online para o estudo da linguagem Python:\n",
        "\n",
        "* [Learn Python](https://www.learnpython.org/)\n",
        "* [Python UFRJ](https://dcc.ufrj.br/~pythonufrj/python1_37.html)\n",
        "\n",
        "A própria documentação da linguagem Python é uma boa fonte de estudo:\n",
        "* [Python Language Reference](https://docs.python.org/3/reference/)\n",
        "\n",
        "o curso será baseado no seguinte curso:\n",
        "* [Computational Economics](https://juejung.github.io/jdocs/Comp/html/index.html)\n",
        "\n",
        "Compiladores on-line Python:\n",
        "* [Python tutor](http://pythontutor.com/visualize.html#mode=edit)\n",
        "* [Online Python Compiler](https://www.onlinegdb.com/online_python_compiler)\n",
        "\n",
        "Notebooks:\n",
        "* [Colab Research Google](https://colab.research.google.com/)\n",
        "* [Jupyter](https://mybinder.org/v2/gh/ipython/ipython-in-depth/master?filepath=binder/Index.ipynb)\n",
        "\n",
        "Ambiente de Desenvolvimento Integrado:\n",
        "* [VS Code](https://code.visualstudio.com/#alt-downloads)\n",
        "\n",
        "\n"
      ],
      "metadata": {
        "id": "gvbXOKrOHb71"
      }
    },
    {
      "cell_type": "markdown",
      "metadata": {
        "id": "vkbKSnYVusov"
      },
      "source": [
        "# Programa - Ola Mundo\n",
        "\n",
        "A função print é responsável por imprimir mensagens na tela ou em algum dispositivo padrão de saída.\n",
        "\n",
        "# Sintaxe\n",
        "\n",
        "```python\n",
        "print(object(s), sep=separator,end=end,file=file)\n",
        "```\n",
        "\n",
        "```python\n",
        "print(\"Ola Mundo\", end = \"!!!!\")\n",
        "```\n",
        "\n",
        "\n",
        "\n"
      ]
    },
    {
      "cell_type": "code",
      "metadata": {
        "id": "nEV3ngkUuq8O",
        "colab": {
          "base_uri": "https://localhost:8080/"
        },
        "outputId": "83446de1-2b2b-434f-a0f1-443f5bbb1dd7"
      },
      "source": [
        "print(\"Olá Mundo\")\n",
        "print(\"Nome\",\"Matricula\", sep=',', end='.\\n')\n",
        "print(\"Ola\",\"Muádo\",sep=\", \", end=\"!\\n\")\n"
      ],
      "execution_count": null,
      "outputs": [
        {
          "output_type": "stream",
          "name": "stdout",
          "text": [
            "Olá Mundo\n",
            "Nome,Matricula.\n",
            "Ola, Muádo!\n"
          ]
        }
      ]
    },
    {
      "cell_type": "markdown",
      "metadata": {
        "id": "unidOl2qzPzF"
      },
      "source": [
        "# Tipos de Dados\n",
        "\n",
        "Um tipo de dado é um conjunto de valores com um conjunto de operações. \n",
        "\n",
        "A linguagem Python possui vários tipos de dados padrões separados várias categorias:\n",
        "* Texto : str\n",
        "* Numéricos: int, float, complex\n",
        "* Sequência: list, tuple, range\n",
        "* Mapeamento: dict\n",
        "* Conjunto: set, frozenset\n",
        "* Boleanos: bool\n",
        "* Binários: bytes, bytearray, memoryview\n",
        "\n"
      ]
    },
    {
      "cell_type": "code",
      "metadata": {
        "colab": {
          "base_uri": "https://localhost:8080/"
        },
        "id": "mRqiOuY63XEF",
        "outputId": "18cd73d6-c3f0-45ff-ef0c-b473a17d4395"
      },
      "source": [
        "a = 5\n",
        "print(type(a))\n",
        "b = 2.5\n",
        "print(type(b))\n",
        "l = [1,2,3]\n",
        "print(type(l))\n",
        "s = \"Ola mundo\"\n",
        "print(type(s))\n",
        "ponto = (2,3)\n",
        "print(type(ponto))\n",
        "dic = { \"selic\" : 3.5, \"ipca\" : 6.1}\n",
        "print(type(dic))\n",
        "print(dic[\"selic\"])\n",
        "flag = True\n",
        "print(type(flag))\n",
        "s1 = {1,2,3}\n",
        "print( type(s1) )\n",
        "s2 = {4,3,6}\n",
        "print( s1.union(s2) )\n",
        "print( s1.intersection(s2) )\n",
        "print( \"uniao de dois conjuntos\" + str( set.union(s1,s2))  )\n",
        "r = range(1,10)\n",
        "print(r)\n",
        "r = list(range(1,10))\n",
        "print(r)"
      ],
      "execution_count": null,
      "outputs": [
        {
          "output_type": "stream",
          "name": "stdout",
          "text": [
            "<class 'int'>\n",
            "<class 'float'>\n",
            "<class 'list'>\n",
            "<class 'str'>\n",
            "<class 'tuple'>\n",
            "<class 'dict'>\n",
            "3.5\n",
            "<class 'bool'>\n",
            "<class 'set'>\n",
            "{1, 2, 3, 4, 6}\n",
            "{3}\n",
            "uniao de dois conjuntos{1, 2, 3, 4, 6}\n",
            "range(1, 10)\n",
            "[1, 2, 3, 4, 5, 6, 7, 8, 9]\n"
          ]
        }
      ]
    },
    {
      "cell_type": "code",
      "source": [
        "a = 42\n",
        "print(type(a))\n",
        "print(id(a))\n",
        "a = 4.2\n",
        "print(type(a))\n",
        "print(id(a))\n",
        "\n",
        "b = set([1,2])\n",
        "help(set.union)"
      ],
      "metadata": {
        "id": "Y1TNFc9SOOAH",
        "colab": {
          "base_uri": "https://localhost:8080/"
        },
        "outputId": "40c5abb5-ec86-4cec-8328-03573e5f67a9"
      },
      "execution_count": null,
      "outputs": [
        {
          "output_type": "stream",
          "name": "stdout",
          "text": [
            "<class 'int'>\n",
            "11257376\n",
            "<class 'float'>\n",
            "140155441414320\n",
            "Help on method_descriptor:\n",
            "\n",
            "union(...)\n",
            "    Return the union of sets as a new set.\n",
            "    \n",
            "    (i.e. all elements that are in either set.)\n",
            "\n"
          ]
        }
      ]
    },
    {
      "cell_type": "markdown",
      "source": [
        "# Python Tutor"
      ],
      "metadata": {
        "id": "yKbpl2hIIb46"
      }
    },
    {
      "cell_type": "markdown",
      "source": [
        "![image.png](data:image/png;base64,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)"
      ],
      "metadata": {
        "id": "oSE2JjXuIWKj"
      }
    },
    {
      "cell_type": "markdown",
      "metadata": {
        "id": "8XBe7AG-sqbQ"
      },
      "source": [
        "# Operações básicas com tipos númericos"
      ]
    },
    {
      "cell_type": "code",
      "metadata": {
        "colab": {
          "base_uri": "https://localhost:8080/"
        },
        "id": "qArJN_009fm7",
        "outputId": "35f7ee04-cf32-4fd2-daab-6c7cdbc6df60"
      },
      "source": [
        "x = 2.5\n",
        "y = 3.0\n",
        "print(x+y)\n",
        "print(x-y)\n",
        "print(x**2)\n",
        "print(x/y)"
      ],
      "execution_count": null,
      "outputs": [
        {
          "output_type": "stream",
          "text": [
            "5.5\n",
            "-0.5\n",
            "6.25\n",
            "0.8333333333333334\n"
          ],
          "name": "stdout"
        }
      ]
    },
    {
      "cell_type": "markdown",
      "metadata": {
        "id": "lj7vHOMa2QdN"
      },
      "source": [
        "# Impressão de formatada\n"
      ]
    },
    {
      "cell_type": "code",
      "metadata": {
        "colab": {
          "base_uri": "https://localhost:8080/"
        },
        "id": "OwpF4sA--GDA",
        "outputId": "ee69d929-7a1f-48bd-c121-1d56576aa8b5"
      },
      "source": [
        "import math as m\n",
        "x = 2.5\n",
        "print(\"x = \", x)\n",
        "print(\"pi = %.15f\" % m.pi)\n",
        "print(\"pi = {:.25f}\".format(m.pi))\n",
        "x = 2.56\n",
        "y = 3.56\n",
        "print(\"x = {:05.2f}, y = {:2.2f}\".format(x,y))\n",
        "print(\"sqrt(2) = \", m.sqrt(2))\n",
        "\n",
        "x = 1\n",
        "y = 2\n",
        "z = 3\n",
        "\n",
        "print(\"primeiro {2} segundo {1} terceiro {0}\".format(x,y,z) )\n"
      ],
      "execution_count": null,
      "outputs": [
        {
          "output_type": "stream",
          "name": "stdout",
          "text": [
            "x =  2.5\n",
            "pi = 3.141592653589793\n",
            "pi = 3.1415926535897931159979635\n",
            "x = 02.56, y = 3.56\n",
            "sqrt(2) =  1.4142135623730951\n",
            "primeiro 3 segundo 2 terceiro 1\n"
          ]
        }
      ]
    },
    {
      "cell_type": "markdown",
      "source": [
        "# Função\n",
        "\n",
        "Trecho de código que pode ser chamado por um nome e que podemos passar parâmetros\n",
        "\n"
      ],
      "metadata": {
        "id": "lXdqC6F_lr_K"
      }
    },
    {
      "cell_type": "code",
      "source": [
        "#biblioteca com funções matemáticas\n",
        "import math\n",
        "# def nome_funcao(lista_parametros):\n",
        "#   comando\n",
        "#   comando\n",
        "#   [return ] opcional\n",
        "\n",
        "\n",
        "def pi():\n",
        "  return math.pi\n",
        "\n",
        "def quadrado(r):\n",
        "  return r*r\n",
        "\n",
        "def area_circulo(r):\n",
        "  return pi()*quadrado(r)\n",
        "\n",
        "area_circulo(2)\n",
        "\n"
      ],
      "metadata": {
        "colab": {
          "base_uri": "https://localhost:8080/"
        },
        "id": "GKmBMqyzl1et",
        "outputId": "b5bc932a-2c82-47ef-dc0c-b53aee08df2b"
      },
      "execution_count": null,
      "outputs": [
        {
          "output_type": "execute_result",
          "data": {
            "text/plain": [
              "12.566370614359172"
            ]
          },
          "metadata": {},
          "execution_count": 43
        }
      ]
    },
    {
      "cell_type": "code",
      "source": [
        "def soma(a,b):\n",
        "  return a+b\n",
        "soma(4,5)"
      ],
      "metadata": {
        "colab": {
          "base_uri": "https://localhost:8080/"
        },
        "id": "8kRknPIiR44O",
        "outputId": "1608bc83-d773-4fcd-cc4e-d13f5775ea82"
      },
      "execution_count": null,
      "outputs": [
        {
          "output_type": "execute_result",
          "data": {
            "text/plain": [
              "9"
            ]
          },
          "metadata": {},
          "execution_count": 1
        }
      ]
    },
    {
      "cell_type": "markdown",
      "source": [
        "\n",
        "# Módulo math\n",
        "Módulo que permite que o programador realize certos cálculos matemáticos.\n",
        "Para usar uma função que está definida em um módulo, primeiro a função deve importar o módulo usando o comando \n",
        "\n",
        "`import math`"
      ],
      "metadata": {
        "id": "EQwF6hoYmzRI"
      }
    },
    {
      "cell_type": "markdown",
      "source": [
        "Faça um programa que calcula o valor de \n",
        "\n",
        "$$C(n,k) = \\frac{n!}{k!(n-k)}$$"
      ],
      "metadata": {
        "id": "GNYPilybnB-p"
      }
    },
    {
      "cell_type": "code",
      "source": [
        "import math as m\n",
        "def C(n,k):\n",
        "  return m.factorial(n)/(m.factorial(k)*m.factorial(n-k))\n",
        "\n",
        "print( C(10,6) ) \n",
        "\n",
        "def raizes (a,b,c):\n",
        "  delta=b*b-4*a*c\n",
        "  if delta<0:\n",
        "    print('não possui raízes reais.')\n",
        "  else:\n",
        "    x_1=(-b+m.sqrt(delta))/2*a\n",
        "    x_2=(-b-m.sqrt(delta))/2*a\n",
        "    return x_1,x_2\n",
        "raizes(1,1,1)\n",
        "print(raizes(1,-5,6))\n"
      ],
      "metadata": {
        "colab": {
          "base_uri": "https://localhost:8080/"
        },
        "id": "enwGF3c0nMtD",
        "outputId": "a2cbfe22-3a4c-4d68-db36-1fe940c04f89"
      },
      "execution_count": null,
      "outputs": [
        {
          "output_type": "stream",
          "name": "stdout",
          "text": [
            "210.0\n",
            "não possui raízes reais.\n",
            "(3.0, 2.0)\n"
          ]
        }
      ]
    },
    {
      "cell_type": "markdown",
      "source": [
        "**Tipo sequência de texto**\n",
        "\n",
        "Os dados textuais em Python são tratados com objetos str, ou strings.\n",
        "\n",
        "As strings possuem diversos métodos que podem ser consultados aqui:\n",
        "\n",
        "[Documentação Tipo sequência de texto](https://docs.python.org/pt-br/3/library/stdtypes.html#str)\n",
        "\n",
        "\n"
      ],
      "metadata": {
        "id": "LCO5PHXibkwP"
      }
    },
    {
      "cell_type": "code",
      "execution_count": null,
      "metadata": {
        "colab": {
          "base_uri": "https://localhost:8080/"
        },
        "id": "3bVZRKGCbfGG",
        "outputId": "279e5e1b-02df-4da6-df14-c5690e8f7b73"
      },
      "outputs": [
        {
          "output_type": "stream",
          "name": "stdout",
          "text": [
            "o gato comeu a roupa do rei joão\n",
            "O GATO COMEU A ROUPA DO REI JOÃO\n"
          ]
        }
      ],
      "source": [
        "# método lower\n",
        "s = \"O gato comeu a roupa do rei João\"\n",
        "\n",
        "# método para transformar para minisculos\n",
        "print( str.lower(s) )\n",
        "\n",
        "# método para transformar para maisculo\n",
        "print( str.upper(s) )\n",
        "\n",
        "\n"
      ]
    },
    {
      "cell_type": "code",
      "source": [
        "#devolve o menor índice na string s da substring 'a'\n",
        "s='O GATO COMEU A ROUPA DO REI JOÃO'\n",
        "print( str.index(s, 'RO') )\n",
        "\n",
        "help( str.index )"
      ],
      "metadata": {
        "colab": {
          "base_uri": "https://localhost:8080/"
        },
        "id": "k2yz5WpdehnD",
        "outputId": "caabb9f6-e3b9-4bca-8dc8-337048fa6f3f"
      },
      "execution_count": null,
      "outputs": [
        {
          "output_type": "stream",
          "name": "stdout",
          "text": [
            "15\n",
            "Help on method_descriptor:\n",
            "\n",
            "index(...)\n",
            "    S.index(sub[, start[, end]]) -> int\n",
            "    \n",
            "    Return the lowest index in S where substring sub is found, \n",
            "    such that sub is contained within S[start:end].  Optional\n",
            "    arguments start and end are interpreted as in slice notation.\n",
            "    \n",
            "    Raises ValueError when the substring is not found.\n",
            "\n"
          ]
        }
      ]
    },
    {
      "cell_type": "code",
      "source": [
        "#número de ocorrencia da substring 'a' na string s\n",
        "print( str.count(s, 'A', 0, len(s)-1) )\n",
        "\n",
        "#obter ajuda sobre uma função\n",
        "help( str.count )"
      ],
      "metadata": {
        "colab": {
          "base_uri": "https://localhost:8080/"
        },
        "id": "JqqaWSkaegCV",
        "outputId": "148236e3-2621-42c7-b506-7c29edf7f853"
      },
      "execution_count": null,
      "outputs": [
        {
          "output_type": "stream",
          "name": "stdout",
          "text": [
            "3\n",
            "Help on method_descriptor:\n",
            "\n",
            "count(...)\n",
            "    S.count(sub[, start[, end]]) -> int\n",
            "    \n",
            "    Return the number of non-overlapping occurrences of substring sub in\n",
            "    string S[start:end].  Optional arguments start and end are\n",
            "    interpreted as in slice notation.\n",
            "\n"
          ]
        }
      ]
    },
    {
      "cell_type": "code",
      "source": [
        "\n",
        "print( \"{0} {1} {2}\".format(\"primeiro\", \"segundo\", \"terceiro\") )\n",
        "\n",
        "print( \"{1} {2} {0}\".format(\"primeiro\", \"segundo\", \"terceiro\") )\n",
        "\n",
        "print( \"{2} {0} {1}\".format(\"primeiro\", \"segundo\", \"terceiro\") )\n",
        "\n",
        "print(\"sin({0:.5f}) = {0:.5f}\".format(m.pi/4,m.sin(m.pi/4)))\n"
      ],
      "metadata": {
        "colab": {
          "base_uri": "https://localhost:8080/"
        },
        "id": "1dGZN68LemzD",
        "outputId": "228860dc-6891-4f66-ac7c-cf6c820c031d"
      },
      "execution_count": null,
      "outputs": [
        {
          "output_type": "stream",
          "name": "stdout",
          "text": [
            "primeiro segundo terceiro\n",
            "segundo terceiro primeiro\n",
            "terceiro primeiro segundo\n",
            "sin(0.78540) = 0.78540\n"
          ]
        }
      ]
    },
    {
      "cell_type": "code",
      "source": [
        "s = \"texto bem grande\"\n",
        "\n",
        "print( s[0:])\n",
        "print( s[1:])\n",
        "print( s[2:])\n",
        "print( s[0:-1])\n",
        "print( s[0:-2])\n",
        "\n",
        "print(s[-2])"
      ],
      "metadata": {
        "colab": {
          "base_uri": "https://localhost:8080/"
        },
        "id": "Krap6hK9e0sE",
        "outputId": "d37453ab-f5a5-480b-fab0-47a917e99da9"
      },
      "execution_count": null,
      "outputs": [
        {
          "output_type": "stream",
          "name": "stdout",
          "text": [
            "texto bem grande\n",
            "exto bem grande\n",
            "xto bem grande\n",
            "texto bem grand\n",
            "texto bem gran\n",
            "d\n"
          ]
        }
      ]
    },
    {
      "cell_type": "code",
      "source": [
        "s = \"texto bem grande\"\n",
        "\n",
        "print( s[::2]) # pulando dois caracteres\n",
        "print( s[::-1]) # invertendo uma string"
      ],
      "metadata": {
        "colab": {
          "base_uri": "https://localhost:8080/"
        },
        "id": "ydVsUl-GgHXp",
        "outputId": "ad2fd337-565b-479b-93df-310729328fc6"
      },
      "execution_count": null,
      "outputs": [
        {
          "output_type": "stream",
          "name": "stdout",
          "text": [
            "txobmgad\n",
            "ednarg meb otxet\n"
          ]
        }
      ]
    },
    {
      "cell_type": "markdown",
      "source": [
        "Faça um programa que verifica se uma palavra é palindromo"
      ],
      "metadata": {
        "id": "lhm5LCZPkxcu"
      }
    },
    {
      "cell_type": "code",
      "source": [
        "def palindromo(s):\n",
        "  return s[::-1] == s\n",
        "\n",
        "\n",
        "print( palindromo(\"arara\") )\n",
        "\n",
        "print( palindromo(\"ouro\") )\n"
      ],
      "metadata": {
        "colab": {
          "base_uri": "https://localhost:8080/"
        },
        "id": "GN86PJqik1RZ",
        "outputId": "dcdcf3d8-d3dd-4cf8-aa61-ed890a710f1f"
      },
      "execution_count": null,
      "outputs": [
        {
          "output_type": "stream",
          "name": "stdout",
          "text": [
            "True\n",
            "False\n"
          ]
        }
      ]
    },
    {
      "cell_type": "markdown",
      "source": [
        "Ordem lexicográfica"
      ],
      "metadata": {
        "id": "JyXpHjdFlfaT"
      }
    },
    {
      "cell_type": "code",
      "source": [
        "print( \"ana\" < \"beatriz\")\n",
        "print( \"abelardo\" < \"bia\")\n",
        "print(\"Adail\"<\"Samuel\")"
      ],
      "metadata": {
        "colab": {
          "base_uri": "https://localhost:8080/"
        },
        "id": "jHsOxDLslOiI",
        "outputId": "e059020c-e35f-4007-b883-adcf64958467"
      },
      "execution_count": null,
      "outputs": [
        {
          "output_type": "stream",
          "name": "stdout",
          "text": [
            "True\n",
            "True\n",
            "True\n"
          ]
        }
      ]
    },
    {
      "cell_type": "markdown",
      "source": [
        "**Tupla**\n",
        "Uma tupla é uma sequência heterogênea (permite que seus elementos sejam de tipos\n",
        "diferentes)"
      ],
      "metadata": {
        "id": "8YxamKZjffpm"
      }
    },
    {
      "cell_type": "code",
      "source": [
        "s = (1,2,3,4,6)\n",
        "print(s)\n",
        "print(type(s))\n",
        "print(s[0]) # indexação\n",
        "print(s[0:2]) #fatiamento\n",
        "print(s[-1])\n"
      ],
      "metadata": {
        "colab": {
          "base_uri": "https://localhost:8080/"
        },
        "id": "9kVnfsWjfl8p",
        "outputId": "e13dd849-f9ae-43a2-c7f2-f9cb0de4d8ec"
      },
      "execution_count": null,
      "outputs": [
        {
          "output_type": "stream",
          "name": "stdout",
          "text": [
            "(1, 2, 3, 4, 6)\n",
            "<class 'tuple'>\n",
            "1\n",
            "(1, 2)\n",
            "6\n"
          ]
        }
      ]
    },
    {
      "cell_type": "markdown",
      "source": [
        "Faça uma função que recebe uma tupla como parâmetro  e devolve a tupla invertida"
      ],
      "metadata": {
        "id": "iFM2Z6mF2aal"
      }
    },
    {
      "cell_type": "code",
      "source": [
        "def inverte_tupla(tup):\n",
        "    return tup[::-1]\n",
        "\n",
        "tup = (1,2,3,4,5)\n",
        "print(inverte_tupla( tup) )"
      ],
      "metadata": {
        "colab": {
          "base_uri": "https://localhost:8080/"
        },
        "id": "UanqJmOxgY4l",
        "outputId": "e6abf5c4-a4b4-4483-bccf-484a9aaf960a"
      },
      "execution_count": null,
      "outputs": [
        {
          "output_type": "stream",
          "name": "stdout",
          "text": [
            "(5, 4, 3, 2, 1)\n"
          ]
        }
      ]
    },
    {
      "cell_type": "markdown",
      "source": [
        "Escreva a função intercala que recebe duas tuplas de três elementos cada e retorna uma tupla de seis elementos intercalando as duas tuplas."
      ],
      "metadata": {
        "id": "iVDaU8dt2XPa"
      }
    },
    {
      "cell_type": "code",
      "source": [
        "\n",
        "\n",
        "def intercala_tuplas( tup1, tup2 ):\n",
        "  return tup1[0], tup2[0], tup1[1], tup2[1], tup1[2], tup2[2]\n",
        "\n",
        "\n",
        "print( intercala_tuplas( (1,2,3) , (4,5,6) ) )"
      ],
      "metadata": {
        "colab": {
          "base_uri": "https://localhost:8080/"
        },
        "id": "PdavSwzigsyP",
        "outputId": "d751a49f-8e35-4919-c203-bd242d9641c5"
      },
      "execution_count": null,
      "outputs": [
        {
          "output_type": "stream",
          "name": "stdout",
          "text": [
            "(1, 4, 2, 5, 3, 6)\n"
          ]
        }
      ]
    },
    {
      "cell_type": "markdown",
      "source": [
        "**Listas**\n",
        "\n",
        "* Tipo de dados mais versátil do Python.\n",
        "* Uma lista é representada como uma sequência de valores entre colchetes e separados por vírgula.\n",
        "* Os elementos de uma lista podem ser de tipos de dados diferentes.\n",
        "* Listas são mutáveis !!!"
      ],
      "metadata": {
        "id": "hX853y9chXhq"
      }
    },
    {
      "cell_type": "code",
      "source": [
        "lista = [2,3,3,4]\n",
        "\n",
        "print( lista[0]) # indexação \n",
        "\n",
        "print( lista[0:2] ) # fatiamento\n",
        "\n",
        "lista.append(7)\n",
        "\n",
        "print(lista)\n",
        "\n",
        "print( 3 in lista ) # pertence \n",
        "\n",
        "print( 8 in lista ) # pertence\n",
        "lista[0]=8\n",
        "print(lista)\n",
        "print(8 in lista)\n",
        "print(lista[0:-1])\n",
        "lista2=[2,3,\"adail\",4.5]\n",
        "lista[0]=lista2[2]\n",
        "print(lista)\n",
        "s=(1,7,9)\n",
        "s=s[1],s[2],s[0]\n",
        "print(s)\n",
        "lista[0]=s[1]\n",
        "print(lista)"
      ],
      "metadata": {
        "colab": {
          "base_uri": "https://localhost:8080/"
        },
        "id": "f8umYydVhoTt",
        "outputId": "8c656851-db96-4335-c476-bf206713363e"
      },
      "execution_count": null,
      "outputs": [
        {
          "output_type": "stream",
          "name": "stdout",
          "text": [
            "2\n",
            "[2, 3]\n",
            "[2, 3, 3, 4, 7]\n",
            "True\n",
            "False\n",
            "[8, 3, 3, 4, 7]\n",
            "True\n",
            "[8, 3, 3, 4]\n",
            "['adail', 3, 3, 4, 7]\n",
            "(7, 9, 1)\n",
            "[9, 3, 3, 4, 7]\n"
          ]
        }
      ]
    },
    {
      "cell_type": "markdown",
      "metadata": {
        "id": "XcI1DlE-AnYh"
      },
      "source": [
        "# Lista\n",
        "\n",
        "A lista é tipo de dados que permite armazenar múltiplos valores em uma única variável. As listas são envolvidas por colchetes. A lista é tipo de dado ordenado e mutável.\n",
        "\n",
        "As principais funções de uma lista são:\n",
        "* l1.append(x) adiciona o elemento x na lista l1\n",
        "* l1.extend(l2) adiciona todos os elementos da lista l2 na lista l1.\n",
        "* l1.insert(x, index) insere um item x na posição index \n",
        "* l1.remove(value) remove um item na lista com o valor value\n",
        "* l1.pop(index) remove e devolve um elemento no índice index.\n",
        "* l1.clear() remove todos os items da lista l1.\n",
        "* l1.index(value) retorna o índice do primeiro elemento encontrado com o valor value.\n",
        "* l1.sort() ordena os elementos da lista\n",
        "\n"
      ]
    },
    {
      "cell_type": "code",
      "source": [
        "lista = [2,3,4,5]\n",
        "\n",
        "print( id(lista) ) \n",
        "\n",
        "lista.insert(0, 8)\n",
        "\n",
        "print( id(lista) ) \n",
        "\n",
        "print(lista)\n",
        "\n",
        "lista.remove(2)\n",
        "\n",
        "print(lista)\n",
        "\n",
        "help( lista.remove )\n",
        "\n",
        "del lista[0]\n",
        "\n",
        "print(lista)\n",
        "\n",
        "lista.append(5)\n",
        "print(lista)\n",
        "lista.extend([3,1,6])\n",
        "print(lista)\n",
        "list.append(lista,10)\n",
        "print(lista)\n",
        "lista.remove(5)\n",
        "print(lista)\n",
        "help(lista.remove)"
      ],
      "metadata": {
        "colab": {
          "base_uri": "https://localhost:8080/"
        },
        "id": "asbowvRIqAdM",
        "outputId": "38241cf0-7f48-44ea-b9d1-9eb0f06d03da"
      },
      "execution_count": null,
      "outputs": [
        {
          "output_type": "stream",
          "name": "stdout",
          "text": [
            "139653111432608\n",
            "139653111432608\n",
            "[8, 2, 3, 4, 5]\n",
            "[8, 3, 4, 5]\n",
            "Help on built-in function remove:\n",
            "\n",
            "remove(value, /) method of builtins.list instance\n",
            "    Remove first occurrence of value.\n",
            "    \n",
            "    Raises ValueError if the value is not present.\n",
            "\n",
            "[3, 4, 5]\n",
            "[3, 4, 5, 5]\n",
            "[3, 4, 5, 5, 3, 1, 6]\n",
            "[3, 4, 5, 5, 3, 1, 6, 10]\n",
            "[3, 4, 5, 3, 1, 6, 10]\n",
            "Help on built-in function remove:\n",
            "\n",
            "remove(value, /) method of builtins.list instance\n",
            "    Remove first occurrence of value.\n",
            "    \n",
            "    Raises ValueError if the value is not present.\n",
            "\n"
          ]
        }
      ]
    },
    {
      "cell_type": "code",
      "source": [
        "print ( [1,2] + [3,4] ) \n",
        "\n",
        "print ( [1,2] + [[3,4]] ) \n",
        "\n",
        "print ( [[1,2]] + [[3,4]] ) "
      ],
      "metadata": {
        "colab": {
          "base_uri": "https://localhost:8080/"
        },
        "id": "DZjxqhEdiFrX",
        "outputId": "b77b20c4-fcbf-4c6a-9ac2-1c66dce02dff"
      },
      "execution_count": null,
      "outputs": [
        {
          "output_type": "stream",
          "name": "stdout",
          "text": [
            "[1, 2, 3, 4]\n",
            "[1, 2, [3, 4]]\n",
            "[[1, 2], [3, 4]]\n"
          ]
        }
      ]
    },
    {
      "cell_type": "markdown",
      "source": [
        "`range(inf, sup, inc)`: retorna uma objeto que contém uma sequência de valores de inf a sup-1 com incremento de inc"
      ],
      "metadata": {
        "id": "il-5Hfr9izKK"
      }
    },
    {
      "cell_type": "code",
      "source": [
        "print( range(1,10) )\n",
        "\n",
        "print( list(range(1,10)) )\n",
        "\n",
        "print(list(range(0,101,2)))"
      ],
      "metadata": {
        "colab": {
          "base_uri": "https://localhost:8080/"
        },
        "id": "D5OA1Fy2jA1G",
        "outputId": "62a733a4-e202-4493-fe9f-91ba6e78c6df"
      },
      "execution_count": null,
      "outputs": [
        {
          "output_type": "stream",
          "name": "stdout",
          "text": [
            "range(1, 10)\n",
            "[1, 2, 3, 4, 5, 6, 7, 8, 9]\n",
            "[0, 2, 4, 6, 8, 10, 12, 14, 16, 18, 20, 22, 24, 26, 28, 30, 32, 34, 36, 38, 40, 42, 44, 46, 48, 50, 52, 54, 56, 58, 60, 62, 64, 66, 68, 70, 72, 74, 76, 78, 80, 82, 84, 86, 88, 90, 92, 94, 96, 98, 100]\n"
          ]
        }
      ]
    },
    {
      "cell_type": "markdown",
      "source": [
        "Faça um programa que devolve uma lista de todos os números pares entre inf e sup-1"
      ],
      "metadata": {
        "id": "hhM9GF7ijpbp"
      }
    },
    {
      "cell_type": "code",
      "source": [
        "def pares(inf, sup):\n",
        "  if inf%2 == 1:\n",
        "    inf = inf+1\n",
        "  return list( range(inf, sup+1, 2) )\n",
        "\n",
        "\n",
        "print( pares(1,10) )\n",
        "\n",
        "print( pares(1,9) )\n"
      ],
      "metadata": {
        "colab": {
          "base_uri": "https://localhost:8080/"
        },
        "id": "s0D3bNq6jrB6",
        "outputId": "d9fa693e-92a2-4e7a-fc14-2c39285e2cda"
      },
      "execution_count": null,
      "outputs": [
        {
          "output_type": "stream",
          "name": "stdout",
          "text": [
            "[2, 4, 6, 8, 10]\n",
            "[2, 4, 6, 8]\n"
          ]
        }
      ]
    },
    {
      "cell_type": "markdown",
      "source": [
        "Algumas funções que manipulam listas não possuem valor de retorno:\n",
        "* list.append\n",
        "* list.extend\n",
        "* list.insert\n",
        "* list.remove\n",
        "* list.reverse\n",
        "* list.sort\n",
        "Enquanto outras possuem:\n",
        "* list.pop\n",
        "* list.count\n",
        "* list.index"
      ],
      "metadata": {
        "id": "w0YzPz6Sq3Js"
      }
    },
    {
      "cell_type": "markdown",
      "metadata": {
        "id": "ZpHwvcpK_DSt"
      },
      "source": [
        "# Comando condicional\n",
        "\n",
        "Com o comando condicional podemos realizar um desvio do fluxo do programa baseado em uma expressão booleana. \n",
        "\n",
        "**Sintaxe**\n",
        "\n",
        "```\n",
        "if expr:\n",
        "  comando11\n",
        "  ...\n",
        "  comando1n\n",
        "else:\n",
        "  comando21\n",
        "  ...\n",
        "  comando2n  \n",
        "```\n",
        "\n",
        "ou\n",
        "\n",
        "```\n",
        "if expr1:\n",
        "  comando11\n",
        "  ...\n",
        "  comando1n\n",
        "elif expr2:\n",
        "  comando21\n",
        "  ...\n",
        "  comando2n\n",
        "else:\n",
        "  comando31\n",
        "  ...\n",
        "  comando 3n  \n",
        "```\n",
        "\n",
        "\n",
        "\n",
        "Por exemplo, construa uma função que recebe dois valores X,Y representando as coordenadas do plano cartesiano e retorna um inteiro que pode ser:\n",
        "* 0, origem ( x == 0 and y == 0)\n",
        "* 1, primeiro quadrante ( x > 0 and y > 0)\n",
        "* 2, segundo quadrante ( x < 0 and y > 0)\n",
        "* 3, terceiro quadrante (x < 0 and y < 0)\n",
        "* 4, quarto quadrante   (x > 0 and y < 0)\n",
        "* 5, eixo horizontal   ( x != 0 and y == 0)\n",
        "* 6, eixo vertical     ( x == 0 and y != 0)\n",
        "\n",
        "\n",
        "\n",
        "\n"
      ]
    },
    {
      "cell_type": "code",
      "metadata": {
        "colab": {
          "base_uri": "https://localhost:8080/"
        },
        "id": "oJ0OY2TsBRS1",
        "outputId": "fbb7572c-617f-43e9-b4f9-9f52c175e21b"
      },
      "source": [
        "def cartesiano(x,y):\n",
        "  if x == 0:\n",
        "    if y == 0:\n",
        "      return 0\n",
        "    else:\n",
        "      return 6\n",
        "  elif y == 0:\n",
        "    return 5\n",
        "  elif x > 0:\n",
        "    # x != 0 and y != 0 and x > 0\n",
        "    if y > 0:\n",
        "      return 1\n",
        "    else:\n",
        "      return 4\n",
        "  else:\n",
        "    # x != 0 and y != 0 and x < 0\n",
        "    if y > 0:\n",
        "      return 2\n",
        "    else:\n",
        "      return 3\n",
        "\n",
        "  \n",
        "print( cartesiano(0,0) == 0)\n",
        "print( cartesiano(1,0) == 5)\n",
        "print( cartesiano(0,1) == 6)\n",
        "print( cartesiano(1,1) == 1)\n",
        "print( cartesiano(-1,1) == 2)\n",
        "print( cartesiano(-1,-1) == 3)\n",
        "print( cartesiano(1,-1) == 4)"
      ],
      "execution_count": null,
      "outputs": [
        {
          "output_type": "stream",
          "text": [
            "True\n",
            "True\n",
            "True\n",
            "True\n",
            "True\n",
            "True\n",
            "True\n"
          ],
          "name": "stdout"
        }
      ]
    },
    {
      "cell_type": "markdown",
      "source": [
        "# Exercício REPLIT\n",
        "\n",
        "* Leitura e Impressão\n",
        "* Basquete\n",
        "* Conceito\n",
        "* Zerinho ou um Americano\n"
      ],
      "metadata": {
        "id": "XSUoxhHJ5h4r"
      }
    },
    {
      "cell_type": "markdown",
      "source": [
        "# While\n",
        "```\n",
        "while <condição>:\n",
        "<sequência de comandos>\n",
        "```\n",
        "* A <condição> é uma expressão ou dado do tipo booleano (True ou False), tal\n",
        "como os testes usados com o comando IF.\n",
        "\n",
        "* Estrutura também conhecida como laço de repetição ou “loop”: o bloco de\n",
        "comandos é sequencialmente repetido tantas vezes quanto o teste da condição for\n",
        "verdadeiro.\n",
        "* Somente quando a condição se torna falsa a próxima instrução após o bloco de comandos associado ao while é executada (fim do laço).\n",
        "\n",
        "\n"
      ],
      "metadata": {
        "id": "J_cF2yv1rUh8"
      }
    },
    {
      "cell_type": "markdown",
      "source": [
        "Faça uma função que calcula a soma de todos os números pares entre inf e sup\n",
        "\n"
      ],
      "metadata": {
        "id": "ac-xiQ8Oru8w"
      }
    },
    {
      "cell_type": "code",
      "source": [
        "def soma_pares(inf, sup):\n",
        "  i = inf\n",
        "  soma = 0\n",
        "  while i <= sup:\n",
        "    if i%2 == 0:\n",
        "      soma = soma + i\n",
        "    print( \"i = {}  soma = {}\".format(i,soma) )\n",
        "    i = i + 1\n",
        "  return soma\n",
        "\n",
        "soma_pares(0,15)\n",
        "def collatz(n):\n",
        "  while n!=1:\n",
        "    if n%2==0:\n",
        "      n=n//2\n",
        "    else: \n",
        "      n=3*n+1\n",
        "    print (n)\n",
        "collatz (12)"
      ],
      "metadata": {
        "colab": {
          "base_uri": "https://localhost:8080/"
        },
        "id": "o60HfRffruLw",
        "outputId": "ae24affe-b932-441c-ba79-1db35abdd904"
      },
      "execution_count": null,
      "outputs": [
        {
          "output_type": "stream",
          "name": "stdout",
          "text": [
            "i = 0  soma = 0\n",
            "i = 1  soma = 0\n",
            "i = 2  soma = 2\n",
            "i = 3  soma = 2\n",
            "i = 4  soma = 6\n",
            "i = 5  soma = 6\n",
            "i = 6  soma = 12\n",
            "i = 7  soma = 12\n",
            "i = 8  soma = 20\n",
            "i = 9  soma = 20\n",
            "i = 10  soma = 30\n",
            "i = 11  soma = 30\n",
            "i = 12  soma = 42\n",
            "i = 13  soma = 42\n",
            "i = 14  soma = 56\n",
            "i = 15  soma = 56\n",
            "6\n",
            "3\n",
            "10\n",
            "5\n",
            "16\n",
            "8\n",
            "4\n",
            "2\n",
            "1\n"
          ]
        }
      ]
    },
    {
      "cell_type": "markdown",
      "source": [
        "Faça um programa que gere uma lista dos primos entre inf e sup"
      ],
      "metadata": {
        "id": "ylC4lQsAsjCS"
      }
    },
    {
      "cell_type": "code",
      "source": [
        "def primo(n):\n",
        "  i = 2\n",
        "  while i < n:\n",
        "    if n%i == 0:\n",
        "      return False\n",
        "    i = i+1\n",
        "  return True\n",
        "\n",
        "def lista_primos(inf,sup):\n",
        "  \n",
        "  i = inf\n",
        "  lista = []\n",
        "  while( i <= sup):\n",
        "    if( primo(i)):\n",
        "      lista.append(i)\n",
        "    i = i+1\n",
        "  return lista\n",
        "\n",
        "lista_primos(1,100)\n"
      ],
      "metadata": {
        "colab": {
          "base_uri": "https://localhost:8080/"
        },
        "id": "44g8HFo7so_E",
        "outputId": "5e5d2086-5f8f-4603-ab3a-b8e77c2ea1c7"
      },
      "execution_count": null,
      "outputs": [
        {
          "output_type": "execute_result",
          "data": {
            "text/plain": [
              "[1,\n",
              " 2,\n",
              " 3,\n",
              " 5,\n",
              " 7,\n",
              " 11,\n",
              " 13,\n",
              " 17,\n",
              " 19,\n",
              " 23,\n",
              " 29,\n",
              " 31,\n",
              " 37,\n",
              " 41,\n",
              " 43,\n",
              " 47,\n",
              " 53,\n",
              " 59,\n",
              " 61,\n",
              " 67,\n",
              " 71,\n",
              " 73,\n",
              " 79,\n",
              " 83,\n",
              " 89,\n",
              " 97]"
            ]
          },
          "metadata": {},
          "execution_count": 28
        }
      ]
    },
    {
      "cell_type": "markdown",
      "source": [
        "# Exercício \n",
        "A exponencial ,$e^x$ pode ser calculada pela seguinte série:\n",
        "\n",
        "$$e^x = x^0 + \\frac{x^1}{1!} + \\frac{x^2}{2!} + \\ldots $$\n",
        "\n",
        "\n",
        "Faça um programa para calcular $e^x$. O programa pára quando a diferença entre o valor da série calculado até uma interação com o valor calculado na interação anterior é menor que 0,00001."
      ],
      "metadata": {
        "id": "eD5M8QholNme"
      }
    },
    {
      "cell_type": "code",
      "source": [
        "import math \n",
        "\n",
        "def fat(n):\n",
        "  if n == 0:\n",
        "    return 1\n",
        "  else:\n",
        "    return n*fat(n-1)\n",
        "\n",
        "def exponencial(x, epsilon = 0.00001):\n",
        "\n",
        "  ant = 0\n",
        "  i = 0\n",
        "  while True:\n",
        "    prox = ant + x**i/fat(i)\n",
        "    print( \"i = {}, prox = {:.10f}\".format(i, prox) )\n",
        "    if math.fabs( prox-ant) <=  epsilon:\n",
        "      return prox\n",
        "    else:\n",
        "      ant = prox\n",
        "    i += 1\n",
        "\n",
        "exp5 = exponencial(5, 1e-6 ) \n",
        "\n",
        "print( exp5 )\n",
        "\n",
        "print( math.exp(5) )\n",
        "\n",
        "print( math.fabs( exp5 - math.exp(5) )  )\n"
      ],
      "metadata": {
        "colab": {
          "base_uri": "https://localhost:8080/"
        },
        "id": "Xq6nukpdlsif",
        "outputId": "cf2dd30a-4ed9-4503-d68d-d42ca66c21d5"
      },
      "execution_count": null,
      "outputs": [
        {
          "output_type": "stream",
          "name": "stdout",
          "text": [
            "i = 0, prox = 1.0000000000\n",
            "i = 1, prox = 6.0000000000\n",
            "i = 2, prox = 18.5000000000\n",
            "i = 3, prox = 39.3333333333\n",
            "i = 4, prox = 65.3750000000\n",
            "i = 5, prox = 91.4166666667\n",
            "i = 6, prox = 113.1180555556\n",
            "i = 7, prox = 128.6190476190\n",
            "i = 8, prox = 138.3071676587\n",
            "i = 9, prox = 143.6894565697\n",
            "i = 10, prox = 146.3806010251\n",
            "i = 11, prox = 147.6038485049\n",
            "i = 12, prox = 148.1135349548\n",
            "i = 13, prox = 148.3095682048\n",
            "i = 14, prox = 148.3795800797\n",
            "i = 15, prox = 148.4029173714\n",
            "i = 16, prox = 148.4102102750\n",
            "i = 17, prox = 148.4123552467\n",
            "i = 18, prox = 148.4129510722\n",
            "i = 19, prox = 148.4131078683\n",
            "i = 20, prox = 148.4131470674\n",
            "i = 21, prox = 148.4131564005\n",
            "i = 22, prox = 148.4131585216\n",
            "i = 23, prox = 148.4131589828\n",
            "148.41315898276957\n",
            "148.4131591025766\n",
            "1.1980702652181208e-07\n"
          ]
        }
      ]
    },
    {
      "cell_type": "markdown",
      "source": [
        "# Exercício Algoritmo de Fatoração\n",
        "\n",
        "Entrada: um inteiro n\n",
        "\n",
        "1. i  = 2\n",
        "2. Enquanto n > 1:\n",
        "   1. Enquanto n % i == 0:  \n",
        "      1. Salve o fator i\n",
        "      2. n = n / i\n",
        "   2. i = i + 1 "
      ],
      "metadata": {
        "id": "31Ljirji_MDa"
      }
    },
    {
      "cell_type": "markdown",
      "source": [
        "# Exercício Algoritmo de Fatoração\n",
        "\n",
        "Entrada: um inteiro n\n",
        "\n",
        "1. i  = 2\n",
        "2. Enquanto i*i <= n:\n",
        "   1. Enquanto n % i == 0:  \n",
        "      1. Salve o fator i\n",
        "      2. n = n / i\n",
        "   2. i = i + 1 \n",
        "3. Salve o fator n"
      ],
      "metadata": {
        "id": "sE7bQ_C__QCx"
      }
    },
    {
      "cell_type": "markdown",
      "source": [
        "#Exercício \n",
        "\n",
        "O valor do seno ,sen(x), pode ser dado pela seguinte série:\n",
        "\n",
        "$$sen(x) = x - \\frac{x^3}{3!} + \\frac{x^5}{5!} - \\frac{x^7}{7!}$$\n",
        "\n",
        "Implemente uma função chamada seno(x) , para calcular o valor do seno de x.\n",
        "\n",
        "$$sen(\\frac{\\pi}{4}) = 0.70710678118$$\n",
        "\n",
        "O programa pára quando a diferença entre o valor da série calculado até uma interação com o valor calculado na interação anterior é menor que 0,00001."
      ],
      "metadata": {
        "id": "RFJfnySCobfI"
      }
    },
    {
      "cell_type": "code",
      "source": [
        "import math \n",
        "def sen(x,eps=1e-5):\n",
        "  i=1\n",
        "  sinal=1\n",
        "  ant=0\n",
        "  while True:\n",
        "    prox = ant+((x**i)*sinal)/math.factorial(i)\n",
        "    if math.fabs(prox-ant)<=eps:\n",
        "      return prox\n",
        "    else:\n",
        "      i+=2\n",
        "      sinal=-sinal\n",
        "      ant=prox   \n",
        "    print (\"i={}prox={}\".format(i,prox))\n",
        "sen(math.pi/4,1e-10)\n"
      ],
      "metadata": {
        "colab": {
          "base_uri": "https://localhost:8080/"
        },
        "id": "X9Ily_44X7LI",
        "outputId": "54664cc0-d80e-46a5-eeb4-ace4a80608ed"
      },
      "execution_count": null,
      "outputs": [
        {
          "output_type": "stream",
          "name": "stdout",
          "text": [
            "i=3prox=0.7853981633974483\n",
            "i=5prox=0.7046526512091675\n",
            "i=7prox=0.7071430457793603\n",
            "i=9prox=0.7071064695751781\n",
            "i=11prox=0.7071067829368671\n",
            "i=13prox=0.7071067811796194\n"
          ]
        },
        {
          "output_type": "execute_result",
          "data": {
            "text/plain": [
              "0.7071067811865679"
            ]
          },
          "metadata": {},
          "execution_count": 9
        }
      ]
    },
    {
      "cell_type": "markdown",
      "source": [
        "# Exercício \n",
        "A raiz quadrada de um número positivo N pode ser calculado pelo método de aproximações sucessivas de Newton. As aproximações $x_1, x_2, \\ldots$ são tais que $\\lim_{i \\to \\infty } x_i = \\sqrt{N}$ onde\n",
        "\n",
        "$$x_i = \\begin{cases}\n",
        "\\frac{N}{2} & \\mbox{ se } i = 1\\\\\n",
        "\\frac{(x_{i-1})^2 + N}{2x_{i-1}} & \\mbox{caso contrário}\\\\\n",
        "\\end{cases}$$\n",
        "\n",
        "Faça um programa que calcula a raiz de um número calculando o valor da raiz pelo método de aproximações sucessivas de Newton parando as interações quando a diferença entre o valor calculado em uma interação com o valor calculado na interação anterior seja menor que 0,00001\n",
        "\n"
      ],
      "metadata": {
        "id": "bb6LHuk7uF1P"
      }
    },
    {
      "cell_type": "code",
      "source": [
        "import math\n",
        "def raiz_quadrada(n,eps=1e-5):\n",
        "  ant=n/2\n",
        "  while True:\n",
        "    print(\"aprox={}\".format(ant))\n",
        "    prox=((ant**2)+n)/(2*ant)\n",
        "    if math.fabs(prox-ant)<=eps:\n",
        "      return prox\n",
        "    else:\n",
        "      ant=prox\n",
        "print(raiz_quadrada (48,1e-10))\n",
        "print(math.sqrt(48))"
      ],
      "metadata": {
        "colab": {
          "base_uri": "https://localhost:8080/"
        },
        "id": "_SuqnFLccUGw",
        "outputId": "99570092-7445-4f58-b33b-a1c9693ed791"
      },
      "execution_count": null,
      "outputs": [
        {
          "output_type": "stream",
          "name": "stdout",
          "text": [
            "aprox=24.0\n",
            "aprox=13.0\n",
            "aprox=8.346153846153847\n",
            "aprox=7.048652959943282\n",
            "aprox=6.929232372826539\n",
            "aprox=6.928203306700597\n",
            "aprox=6.92820323027551\n",
            "6.928203230275509\n",
            "6.928203230275509\n"
          ]
        }
      ]
    },
    {
      "cell_type": "markdown",
      "source": [
        "# Exercício Série harmônica alternada\n",
        "\n",
        "A série harmônica alternada é definida da seguinte maneira:\n",
        "\n",
        "$$ \\sum_{k=1}^{\\infty} \\frac{(-1)^{k+1}}{k} = 1 - \\frac{1}{2} + \\frac{1}{3} - \\frac{1}{4}+\\frac{1}{5} + \\ldots = ln(2)$$\n",
        "\n",
        "Faça uma função **alt_harmonic()** que calcula uma aproximação para $ln(2)$ parando quando a diferença entre o valor calculado em uma iteração com o valor calculado na iteração anterior seja menor que 0,00001."
      ],
      "metadata": {
        "id": "1doX3m4N3Gij"
      }
    },
    {
      "cell_type": "code",
      "source": [
        "import math\n",
        "def ln2(eps=1e-5):\n",
        "  ant=0\n",
        "  sinal=1\n",
        "  i=1\n",
        "  while True:\n",
        "    print(\"aprox={}\".format(ant))\n",
        "    prox=ant+sinal/i\n",
        "    if math.fabs(prox-ant)<eps:\n",
        "      return prox\n",
        "    else:\n",
        "      i+=1\n",
        "      sinal=-sinal\n",
        "      ant=prox\n",
        "print(ln2(1e-3))\n",
        "print(math.log(2))\n",
        "    \n"
      ],
      "metadata": {
        "colab": {
          "base_uri": "https://localhost:8080/"
        },
        "id": "97qY2tNHgd85",
        "outputId": "2ee66fa6-358c-4343-b6fd-9107dda97779"
      },
      "execution_count": null,
      "outputs": [
        {
          "output_type": "stream",
          "name": "stdout",
          "text": [
            "aprox=0\n",
            "aprox=1.0\n",
            "aprox=0.5\n",
            "aprox=0.8333333333333333\n",
            "aprox=0.5833333333333333\n",
            "aprox=0.7833333333333332\n",
            "aprox=0.6166666666666666\n",
            "aprox=0.7595238095238095\n",
            "aprox=0.6345238095238095\n",
            "aprox=0.7456349206349207\n",
            "aprox=0.6456349206349207\n",
            "aprox=0.7365440115440116\n",
            "aprox=0.6532106782106782\n",
            "aprox=0.7301337551337552\n",
            "aprox=0.6587051837051838\n",
            "aprox=0.7253718503718505\n",
            "aprox=0.6628718503718505\n",
            "aprox=0.7216953797836152\n",
            "aprox=0.6661398242280596\n",
            "aprox=0.718771403175428\n",
            "aprox=0.6687714031754279\n",
            "aprox=0.7163904507944756\n",
            "aprox=0.6709359053399302\n",
            "aprox=0.7144141662094954\n",
            "aprox=0.6727474995428288\n",
            "aprox=0.7127474995428288\n",
            "aprox=0.6742859610812904\n",
            "aprox=0.7113229981183273\n",
            "aprox=0.6756087124040416\n",
            "aprox=0.7100914710247312\n",
            "aprox=0.6767581376913979\n",
            "aprox=0.7090162022075269\n",
            "aprox=0.6777662022075269\n",
            "aprox=0.7080692325105572\n",
            "aprox=0.6786574678046748\n",
            "aprox=0.7072288963761034\n",
            "aprox=0.6794511185983256\n",
            "aprox=0.7064781456253526\n",
            "aprox=0.6801623561516684\n",
            "aprox=0.7058033817926941\n",
            "aprox=0.6808033817926941\n",
            "aprox=0.7051936256951331\n",
            "aprox=0.6813841018856093\n",
            "aprox=0.7046399158390977\n",
            "aprox=0.681912643111825\n",
            "aprox=0.7041348653340472\n",
            "aprox=0.6823957348992646\n",
            "aprox=0.7036723306439455\n",
            "aprox=0.6828389973106122\n",
            "aprox=0.7032471605759183\n",
            "aprox=0.6832471605759183\n",
            "aprox=0.7028550037131732\n",
            "aprox=0.683624234482404\n",
            "aprox=0.7024921590107058\n",
            "aprox=0.6839736404921873\n",
            "aprox=0.7021554586740055\n",
            "aprox=0.6842983158168626\n",
            "aprox=0.7018421754659854\n",
            "aprox=0.6846007961556405\n",
            "aprox=0.7015499486980133\n",
            "aprox=0.6848832820313466\n",
            "aprox=0.7012767246542975\n",
            "aprox=0.685147692396233\n",
            "aprox=0.7010207082692488\n",
            "aprox=0.6853957082692488\n",
            "aprox=0.7007803236538641\n",
            "aprox=0.685628808502349\n",
            "aprox=0.7005541816366774\n",
            "aprox=0.6858482992837363\n",
            "aprox=0.7003410529069246\n",
            "aprox=0.6860553386212104\n",
            "aprox=0.7001398456634639\n",
            "aprox=0.686250956774575\n",
            "aprox=0.6999495869115613\n",
            "aprox=0.6864360733980478\n",
            "aprox=0.6997694067313811\n",
            "aprox=0.686611511994539\n",
            "aprox=0.699598524981552\n",
            "aprox=0.6867780121610392\n",
            "aprox=0.6994362400091404\n",
            "aprox=0.6869362400091404\n",
            "aprox=0.6992819190214861\n",
            "aprox=0.6870867970702665\n",
            "aprox=0.6991349898413509\n",
            "aprox=0.687230227936589\n",
            "aprox=0.698994933818942\n",
            "aprox=0.6873670268421977\n",
            "aprox=0.698861279715761\n",
            "aprox=0.6874976433521246\n",
            "aprox=0.6987335984083044\n",
            "aprox=0.6876224872971933\n",
            "aprox=0.6986114982862043\n",
            "aprox=0.6877419330688129\n",
            "aprox=0.6984946212408559\n",
            "aprox=0.6878563233685155\n",
            "aprox=0.6983826391579893\n",
            "aprox=0.6879659724913226\n",
            "aprox=0.6982752508418381\n",
            "aprox=0.688071169209185\n",
            "aprox=0.698172179310195\n",
            "aprox=0.688172179310195\n",
            "aprox=0.6980731694092049\n",
            "aprox=0.6882692478405775\n",
            "aprox=0.6979779857046552\n",
            "aprox=0.6883626010892706\n",
            "aprox=0.6978864106130801\n",
            "aprox=0.6884524483489292\n",
            "aprox=0.6977982427414525\n",
            "aprox=0.6885389834821932\n",
            "aprox=0.6977132954087988\n",
            "aprox=0.6886223863178897\n",
            "aprox=0.6976313953268988\n",
            "aprox=0.6887028238983274\n",
            "aprox=0.6975523814204513\n",
            "aprox=0.6887804515958899\n",
            "aprox=0.6974761037698028\n",
            "aprox=0.6888554141146305\n",
            "aprox=0.697402422661639\n",
            "aprox=0.6889278463904526\n",
            "aprox=0.6973312077349904\n",
            "aprox=0.688997874401657\n",
            "aprox=0.6972623372115744\n",
            "aprox=0.689065615900099\n",
            "aprox=0.697195697200912\n",
            "aprox=0.6891311810718798\n",
            "aprox=0.6971311810718798\n",
            "aprox=0.6891946731353719\n",
            "aprox=0.6970686888834033\n",
            "aprox=0.6892561888834033\n",
            "aprox=0.6970081268678995\n",
            "aprox=0.6893158191755918\n",
            "aprox=0.6969494069618514\n",
            "aprox=0.6893736493860938\n",
            "aprox=0.6968924463785751\n",
            "aprox=0.6894297598114109\n",
            "aprox=0.6968371672188183\n",
            "aprox=0.6894842260423477\n",
            "aprox=0.6967834961153404\n",
            "aprox=0.6895371193037462\n",
            "aprox=0.6967313639080627\n",
            "aprox=0.6895885067652056\n",
            "aprox=0.6966807053467658\n",
            "aprox=0.6896384518256391\n",
            "aprox=0.6966314588186461\n",
            "aprox=0.6896870143742017\n",
            "aprox=0.6965835660983396\n",
            "aprox=0.6897342510298464\n",
            "aprox=0.6965369721182818\n",
            "aprox=0.689780215361525\n",
            "aprox=0.6964916247574982\n",
            "aprox=0.6898249580908314\n",
            "aprox=0.6964474746471229\n",
            "aprox=0.6898685272787018\n",
            "aprox=0.6964044749911201\n",
            "aprox=0.6899109684976137\n",
            "aprox=0.6963625814008395\n",
            "aprox=0.6899523249905831\n",
            "aprox=0.6963217517421755\n",
            "aprox=0.6899926378181248\n",
            "aprox=0.6962819459942254\n",
            "aprox=0.6900319459942255\n",
            "aprox=0.6962431261184491\n",
            "aprox=0.6900702866122762\n",
            "aprox=0.6962052559374295\n",
            "aprox=0.6901076949618198\n",
            "aprox=0.6961683010224259\n",
            "aprox=0.6901442046368838\n",
            "aprox=0.6961322285889796\n",
            "aprox=0.6901798476365987\n",
            "aprox=0.6960970073999123\n",
            "aprox=0.6902146544587359\n",
            "aprox=0.6960626076751102\n",
            "aprox=0.6902486541867381\n",
            "aprox=0.6960290010075474\n",
            "aprox=0.6902818745707657\n",
            "aprox=0.6959961602850514\n",
            "aprox=0.6903143421032332\n",
            "aprox=0.6959640596173574\n",
            "aprox=0.6903460820892675\n",
            "aprox=0.6959326742680385\n",
            "aprox=0.690377118712483\n",
            "aprox=0.695901980590936\n",
            "aprox=0.6904074750964305\n",
            "aprox=0.6958719559707475\n",
            "aprox=0.6904371733620518\n",
            "aprox=0.6958425787674571\n",
            "aprox=0.6904662346814356\n",
            "aprox=0.6958138282643234\n",
            "aprox=0.6904946793281531\n",
            "aprox=0.6957856846191584\n",
            "aprox=0.6905225267244215\n",
            "aprox=0.6957581288186623\n",
            "aprox=0.6905497954853289\n",
            "aprox=0.695731142635588\n",
            "aprox=0.6905765034603303\n",
            "aprox=0.6957047085885354\n",
            "aprox=0.6906026677722089\n",
            "aprox=0.6956788099041886\n",
            "aprox=0.6906283048536835\n",
            "aprox=0.6956534304818243\n",
            "aprox=0.6906534304818243\n",
            "aprox=0.6956285548599337\n",
            "aprox=0.6906780598104287\n",
            "aprox=0.695604168184813\n",
            "aprox=0.6907022074004993\n",
            "aprox=0.6955802561809871\n",
            "aprox=0.6907258872489482\n",
            "aprox=0.6955568051233444\n",
            "aprox=0.6907491128156521\n",
            "aprox=0.6955338018108674\n",
            "aprox=0.6907718970489627\n",
            "aprox=0.6955112335418537\n",
            "aprox=0.6907942524097782\n",
            "aprox=0.6954890880905293\n",
            "aprox=0.6908161908942677\n",
            "aprox=0.6954673536849654\n",
            "aprox=0.6908377240553357\n",
            "aprox=0.6954460189862113\n",
            "aprox=0.6908588630229086\n",
            "aprox=0.6954250730685707\n",
            "aprox=0.6908796185231162\n",
            "aprox=0.6954045054009442\n",
            "aprox=0.6909000008964398\n",
            "aprox=0.6953843058291752\n",
            "aprox=0.6909200201148895\n",
            "aprox=0.695364464559334\n",
            "aprox=0.690939685798272\n",
            "aprox=0.6953449721418844\n",
            "aprox=0.6909590072296037\n",
            "aprox=0.6953258194566779\n",
            "aprox=0.6909779933697214\n",
            "aprox=0.6953069976987257\n",
            "aprox=0.6909966528711395\n",
            "aprox=0.6952884983647017\n",
            "aprox=0.6910149940911975\n",
            "aprox=0.6952703132401337\n",
            "aprox=0.6910330251045405\n",
            "aprox=0.6952524343872408\n",
            "aprox=0.6910507537149719\n",
            "aprox=0.6952348541333819\n",
            "aprox=0.6910681874667153\n",
            "aprox=0.6952175650600763\n",
            "aprox=0.6910853336551176\n",
            "aprox=0.6952005599925661\n",
            "aprox=0.6911021993368285\n",
            "aprox=0.6951838319898898\n",
            "aprox=0.6911187913394833\n",
            "aprox=0.6951673743354347\n",
            "aprox=0.6911351162709186\n",
            "aprox=0.6951511805279468\n",
            "aprox=0.6911511805279468\n",
            "aprox=0.6951352442729667\n",
            "aprox=0.6911669903047127\n",
            "aprox=0.6951195594746732\n",
            "aprox=0.6911825516006574\n",
            "aprox=0.6951041202281084\n",
            "aprox=0.6911978702281084\n",
            "aprox=0.695088920811766\n",
            "aprox=0.6912129518195179\n",
            "aprox=0.6950739556805218\n",
            "aprox=0.6912278018343679\n",
            "aprox=0.695059219458889\n",
            "aprox=0.6912424255657593\n",
            "aprox=0.6950447069345806\n",
            "aprox=0.6912568281467019\n",
            "aprox=0.6950304130523622\n",
            "aprox=0.6912710145561216\n",
            "aprox=0.6950163329081815\n",
            "aprox=0.6912849896245995\n",
            "aprox=0.6950024617435586\n",
            "aprox=0.691298758039855\n",
            "aprox=0.6949887949402239\n",
            "aprox=0.6913123243519886\n",
            "aprox=0.6949753280149923\n",
            "aprox=0.6913256929784959\n",
            "aprox=0.6949620566148595\n",
            "aprox=0.6913388682090624\n",
            "aprox=0.6949489765123116\n",
            "aprox=0.6913518542101533\n",
            "aprox=0.6949360836008344\n",
            "aprox=0.6913646550294058\n",
            "aprox=0.6949233738906158\n",
            "aprox=0.6913772745998357\n",
            "aprox=0.6949108435044293\n",
            "aprox=0.691389716743866\n",
            "aprox=0.6948984886736905\n",
            "aprox=0.691401985177187\n",
            "aprox=0.6948863057346782\n",
            "aprox=0.691414083512456\n",
            "aprox=0.6948742911249128\n",
            "aprox=0.6914260152628439\n",
            "aprox=0.6948624413796823\n",
            "aprox=0.6914377838454357\n",
            "aprox=0.6948507531287123\n",
            "aprox=0.6914493925844946\n",
            "aprox=0.6948392230929691\n",
            "aprox=0.6914608447145907\n",
            "aprox=0.694827848081594\n",
            "aprox=0.6914721433836074\n",
            "aprox=0.6948166249889586\n",
            "aprox=0.6914832916556253\n",
            "aprox=0.6948055507918379\n",
            "aprox=0.6914942925136922\n",
            "aprox=0.6947946225466956\n",
            "aprox=0.691505148862485\n",
            "aprox=0.6947838373870752\n",
            "aprox=0.691515863530866\n",
            "aprox=0.694773192521094\n",
            "aprox=0.6915264392743408\n",
            "aprox=0.6947626852290333\n",
            "aprox=0.6915368787774204\n",
            "aprox=0.6947523128610217\n",
            "aprox=0.6915471846558935\n",
            "aprox=0.6947420728348073\n",
            "aprox=0.6915573594590111\n",
            "aprox=0.6947319626336143\n",
            "aprox=0.6915674056715889\n",
            "aprox=0.694721979804081\n",
            "aprox=0.6915773257160307\n",
            "aprox=0.6947121219542752\n",
            "aprox=0.6915871219542752\n",
            "aprox=0.694702386751783\n",
            "aprox=0.6915967966896712\n",
            "aprox=0.6946927719218694\n",
            "aprox=0.691606352168783\n",
            "aprox=0.6946832752457061\n",
            "aprox=0.6916157905831294\n",
            "aprox=0.6946738945586646\n",
            "aprox=0.6916251140708597\n",
            "aprox=0.6946646277486712\n",
            "aprox=0.6916343247183682\n",
            "aprox=0.6946554727546219\n",
            "aprox=0.6916434245618508\n",
            "aprox=0.6946464275648538\n",
            "aprox=0.691652415588806\n",
            "aprox=0.6946374902156717\n",
            "aprox=0.6916612997394812\n",
            "aprox=0.6946286587899263\n",
            "aprox=0.6916700789082695\n",
            "aprox=0.6946199314156442\n",
            "aprox=0.6916787549450559\n",
            "aprox=0.694611306264704\n",
            "aprox=0.6916873296565169\n",
            "aprox=0.6946027815515606\n",
            "aprox=0.6916958048073746\n",
            "aprox=0.6945943555320122\n",
            "aprox=0.6917041821216076\n",
            "aprox=0.6945860265020111\n",
            "aprox=0.6917124632836202\n",
            "aprox=0.6945777927965142\n",
            "aprox=0.6917206499393713\n",
            "aprox=0.6945696527883741\n",
            "aprox=0.6917287436974651\n",
            "aprox=0.6945616048872668\n",
            "aprox=0.6917367461302046\n",
            "aprox=0.6945536475386553\n",
            "aprox=0.6917446587746104\n",
            "aprox=0.6945457792227897\n",
            "aprox=0.6917524831334042\n",
            "aprox=0.6945379984537384\n",
            "aprox=0.6917602206759607\n",
            "aprox=0.6945303037784537\n",
            "aprox=0.6917678728392271\n",
            "aprox=0.6945226937758663\n",
            "aprox=0.6917754410286135\n",
            "aprox=0.6945151670560108\n",
            "aprox=0.6917829266188523\n",
            "aprox=0.6945077222591793\n",
            "aprox=0.6917903309548316\n",
            "aprox=0.6945003580551026\n",
            "aprox=0.6917976553523999\n",
            "aprox=0.6944930731421574\n",
            "aprox=0.6918049010991466\n",
            "aprox=0.6944858662465997\n",
            "aprox=0.6918120694551558\n",
            "aprox=0.6944787361218225\n",
            "aprox=0.6918191616537375\n",
            "aprox=0.6944716815476367\n",
            "aprox=0.691826178902134\n",
            "aprox=0.6944647013295747\n",
            "aprox=0.6918331223822063\n",
            "aprox=0.6944577942982167\n",
            "aprox=0.6918399932510964\n",
            "aprox=0.6944509593085376\n",
            "aprox=0.691846792641871\n",
            "aprox=0.6944441952392736\n",
            "aprox=0.691853521664144\n",
            "aprox=0.6944375009923094\n",
            "aprox=0.6918601814046805\n",
            "aprox=0.6944308754920842\n",
            "aprox=0.6918667729279816\n",
            "aprox=0.6944243176850149\n",
            "aprox=0.6918732972768517\n",
            "aprox=0.6944178265389381\n",
            "aprox=0.6918797554729483\n",
            "aprox=0.6944114010425686\n",
            "aprox=0.6918861485173161\n",
            "aprox=0.6944050402049735\n",
            "aprox=0.6918924773909032\n",
            "aprox=0.6943987430550635\n",
            "aprox=0.6918987430550636\n",
            "aprox=0.6943925086410985\n",
            "aprox=0.6919049464520437\n",
            "aprox=0.6943863360302075\n",
            "aprox=0.691911088505455\n",
            "aprox=0.6943802243079241\n",
            "aprox=0.691917170120732\n",
            "aprox=0.6943741725777344\n",
            "aprox=0.6919231921855775\n",
            "aprox=0.6943681799606386\n",
            "aprox=0.6919291555703947\n",
            "aprox=0.6943622455947256\n",
            "aprox=0.6919350611287062\n",
            "aprox=0.6943563686347595\n",
            "aprox=0.6919409096975614\n",
            "aprox=0.6943505482517782\n",
            "aprox=0.6919467020979321\n",
            "aprox=0.6943447836327042\n",
            "aprox=0.6919524391350966\n",
            "aprox=0.6943390739799654\n",
            "aprox=0.691958121599013\n",
            "aprox=0.6943334185111271\n",
            "aprox=0.6919637502646816\n",
            "aprox=0.694327816458535\n",
            "aprox=0.6919693258924973\n",
            "aprox=0.6943222670689678\n",
            "aprox=0.6919748492285922\n",
            "aprox=0.6943167696032995\n",
            "aprox=0.6919803210051686\n",
            "aprox=0.694311323336171\n",
            "aprox=0.6919857419408221\n",
            "aprox=0.6943059275556712\n",
            "aprox=0.6919911127408565\n",
            "aprox=0.6943005815630273\n",
            "aprox=0.6919964340975895\n",
            "aprox=0.6942952846723022\n",
            "aprox=0.6920017066906508\n",
            "aprox=0.6942900362101015\n",
            "aprox=0.6920069311872705\n",
            "aprox=0.6942848355152887\n",
            "aprox=0.6920121082425614\n",
            "aprox=0.6942796819387066\n",
            "aprox=0.6920172384997926\n",
            "aprox=0.6942745748429077\n",
            "aprox=0.6920223225906554\n",
            "aprox=0.6942695136018914\n",
            "aprox=0.6920273611355237\n",
            "aprox=0.6942644976008481\n",
            "aprox=0.6920323547437052\n",
            "aprox=0.69425952623591\n",
            "aprox=0.6920373040136878\n",
            "aprox=0.6942545989139095\n",
            "aprox=0.6920422095333786\n",
            "aprox=0.6942497150521424\n",
            "aprox=0.6920470718803362\n",
            "aprox=0.6942448740781384\n",
            "aprox=0.6920518916219981\n",
            "aprox=0.6942400754294379\n",
            "aprox=0.6920566693159008\n",
            "aprox=0.6942353185533736\n",
            "aprox=0.6920614055098954\n",
            "aprox=0.6942306029068585\n",
            "aprox=0.6920661007423563\n",
            "aprox=0.6942259279561792\n",
            "aprox=0.6920707555423861\n",
            "aprox=0.6942212931767947\n",
            "aprox=0.6920753704300135\n",
            "aprox=0.6942166980531399\n",
            "aprox=0.6920799459163878\n",
            "aprox=0.6942121420784347\n",
            "aprox=0.6920844825039667\n",
            "aprox=0.6942076247544975\n",
            "aprox=0.6920889806867009\n",
            "aprox=0.6942031455915635\n",
            "aprox=0.6920934409502133\n",
            "aprox=0.694198704108108\n",
            "aprox=0.6920978637719736\n",
            "aprox=0.6941942998306738\n",
            "aprox=0.6921022496214688\n",
            "aprox=0.6941899322937026\n",
            "aprox=0.6921065989603693\n",
            "aprox=0.6941856010393714\n",
            "aprox=0.692110912242691\n",
            "aprox=0.6941813056174322\n",
            "aprox=0.6921151899149528\n",
            "aprox=0.6941770455850559\n",
            "aprox=0.6921194324163316\n",
            "aprox=0.6941728205066806\n",
            "aprox=0.6921236401788118\n",
            "aprox=0.6941686299538629\n",
            "aprox=0.6921278136273322\n",
            "aprox=0.6941644735051327\n",
            "aprox=0.6921319531799294\n",
            "aprox=0.6941603507458523\n",
            "aprox=0.6921360592478766\n",
            "aprox=0.6941562612680786\n",
            "aprox=0.6921401322358205\n",
            "aprox=0.6941522046704282\n",
            "aprox=0.6921441725419141\n",
            "aprox=0.6941481805579461\n",
            "aprox=0.6921481805579461\n",
            "aprox=0.6941441885419781\n",
            "aprox=0.6921521566694682\n",
            "aprox=0.6941402282400447\n",
            "aprox=0.6921561012559178\n",
            "aprox=0.6941362992757197\n",
            "aprox=0.6921600146907395\n",
            "aprox=0.6941324012785107\n",
            "aprox=0.6921638973415029\n",
            "aprox=0.6941285338837425\n",
            "aprox=0.692167749570017\n",
            "aprox=0.6941246967324437\n",
            "aprox=0.6921715717324437\n",
            "aprox=0.6941208894712352\n",
            "aprox=0.6921753641794064\n",
            "aprox=0.6941171117522219\n",
            "aprox=0.6921791272560979\n",
            "aprox=0.6941133632328871\n",
            "aprox=0.6921828613023852\n",
            "aprox=0.6941096435759883\n",
            "aprox=0.6921865666529113\n",
            "aprox=0.6941059524494565\n",
            "aprox=0.692190243637196\n",
            "aprox=0.6941022895262973\n",
            "aprox=0.6921938925797324\n",
            "aprox=0.6940986544844943\n",
            "aprox=0.6921975138000837\n",
            "aprox=0.6940950470069148\n",
            "aprox=0.6922011076129754\n",
            "aprox=0.6940914667812174\n",
            "aprox=0.6922046743283872\n",
            "aprox=0.694087913499762\n",
            "aprox=0.6922082142516417\n",
            "aprox=0.6940843868595217\n",
            "aprox=0.6922117276834917\n",
            "aprox=0.6940808865619964\n",
            "aprox=0.6922152149202053\n",
            "aprox=0.694077412313129\n",
            "aprox=0.6922186762536495\n",
            "aprox=0.6940739638232228\n",
            "aprox=0.692222111971371\n",
            "aprox=0.6940705408068608\n",
            "aprox=0.6922255223566763\n",
            "aprox=0.6940671429828273\n",
            "aprox=0.6922289076887097\n",
            "aprox=0.6940637700740309\n",
            "aprox=0.692232268242529\n",
            "aprox=0.6940604218074284\n",
            "aprox=0.6922356042891803\n",
            "aprox=0.6940570979139526\n",
            "aprox=0.6922389160957708\n",
            "aprox=0.6940537981284387\n",
            "aprox=0.6922422039255401\n",
            "aprox=0.6940505221895547\n",
            "aprox=0.6922454680379301\n",
            "aprox=0.6940472698397319\n",
            "aprox=0.6922487086886527\n",
            "aprox=0.694044040825098\n",
            "aprox=0.6922519261297575\n",
            "aprox=0.6940408348954105\n",
            "aprox=0.6922551206096962\n",
            "aprox=0.6940376518039921\n",
            "aprox=0.6922582923733871\n",
            "aprox=0.6940344913076677\n",
            "aprox=0.6922614416622777\n",
            "aprox=0.6940313531667024\n",
            "aprox=0.6922645687144056\n",
            "aprox=0.6940282371447406\n",
            "aprox=0.6922676737644589\n",
            "aprox=0.6940251430087471\n",
            "aprox=0.6922707570438348\n",
            "aprox=0.6940220705289486\n",
            "aprox=0.6922738187806968\n",
            "aprox=0.6940190194787771\n",
            "aprox=0.6922768592000315\n",
            "aprox=0.694015989634814\n",
            "aprox=0.6922798785237029\n",
            "aprox=0.6940129807767358\n",
            "aprox=0.6922828769705074\n",
            "aprox=0.6940099926872604\n",
            "aprox=0.692285854756226\n",
            "aprox=0.6940070251520951\n",
            "aprox=0.6922888120936759\n",
            "aprox=0.6940040779598852\n",
            "aprox=0.6922917491927619\n",
            "aprox=0.6940011509021636\n",
            "aprox=0.6922946662605254\n",
            "aprox=0.6939982437733022\n",
            "aprox=0.6922975635011934\n",
            "aprox=0.6939953563704634\n",
            "aprox=0.6923004411162261\n",
            "aprox=0.6939924884935527\n",
            "aprox=0.6923032993043635\n",
            "aprox=0.6939896399451729\n",
            "aprox=0.6923061382616712\n",
            "aprox=0.6939868105305788\n",
            "aprox=0.6923089581815854\n",
            "aprox=0.6939840000576324\n",
            "aprox=0.6923117592549568\n",
            "aprox=0.6939812083367598\n",
            "aprox=0.6923145416700931\n",
            "aprox=0.6939784351809084\n",
            "aprox=0.6923173056128021\n",
            "aprox=0.6939756804055053\n",
            "aprox=0.6923200512664325\n",
            "aprox=0.6939729438284159\n",
            "aprox=0.6923227788119143\n",
            "aprox=0.6939702252699044\n",
            "aprox=0.6923254884277991\n",
            "aprox=0.6939675245525938\n",
            "aprox=0.6923281802902987\n",
            "aprox=0.693964841501428\n",
            "aprox=0.6923308545733234\n",
            "aprox=0.6939621759436334\n",
            "aprox=0.6923335114485194\n",
            "aprox=0.693959527708682\n",
            "aprox=0.6923361510853053\n",
            "aprox=0.6939568966282551\n",
            "aprox=0.6923387736509088\n",
            "aprox=0.6939542825362076\n",
            "aprox=0.6923413793104012\n",
            "aprox=0.6939516852685332\n",
            "aprox=0.6923439682267326\n",
            "aprox=0.6939491046633297\n",
            "aprox=0.6923465405607656\n",
            "aprox=0.6939465405607657\n",
            "aprox=0.6923490964713088\n",
            "aprox=0.6939439928030473\n",
            "aprox=0.6923516361151492\n",
            "aprox=0.693941461234386\n",
            "aprox=0.6923541596470845\n",
            "aprox=0.6939389457009671\n",
            "aprox=0.6923566672199545\n",
            "aprox=0.6939364460509182\n",
            "aprox=0.6923591589846722\n",
            "aprox=0.6939339621342785\n",
            "aprox=0.6923616350902533\n",
            "aprox=0.6939314938029691\n",
            "aprox=0.6923640956838469\n",
            "aprox=0.693929040910764\n",
            "aprox=0.692366540910764\n",
            "aprox=0.6939266033132601\n",
            "aprox=0.6923689709145062\n",
            "aprox=0.6939241808678499\n",
            "aprox=0.692371385836794\n",
            "aprox=0.6939217734336932\n",
            "aprox=0.6923737858175941\n",
            "aprox=0.6939193808716899\n",
            "aprox=0.6923761709951467\n",
            "aprox=0.6939170030444534\n",
            "aprox=0.6923785415059919\n",
            "aprox=0.6939146398162838\n",
            "aprox=0.6923808974849954\n",
            "aprox=0.6939122910531424\n",
            "aprox=0.6923832390653749\n",
            "aprox=0.6939099566226268\n",
            "aprox=0.6923855663787244\n",
            "aprox=0.6939076363939451\n",
            "aprox=0.6923878795550393\n",
            "aprox=0.6939053302378921\n",
            "aprox=0.6923901787227407\n",
            "aprox=0.6939030380268254\n",
            "aprox=0.6923924640086985\n",
            "aprox=0.6939007596346412\n",
            "aprox=0.6923947355382556\n",
            "aprox=0.6938984949367518\n",
            "aprox=0.6923969934352503\n",
            "aprox=0.6938962438100629\n",
            "aprox=0.6923992378220389\n",
            "aprox=0.6938940061329507\n",
            "aprox=0.6924014688195179\n",
            "aprox=0.6938917817852407\n",
            "aprox=0.6924036865471455\n",
            "aprox=0.6938895706481856\n",
            "aprox=0.692405891122963\n",
            "aprox=0.6938873726044446\n",
            "aprox=0.6924080826636162\n",
            "aprox=0.6938851875380623\n",
            "aprox=0.692410261284375\n",
            "aprox=0.6938830153344486\n",
            "aprox=0.6924124270991545\n",
            "aprox=0.6938808558803586\n",
            "aprox=0.6924145802205346\n",
            "aprox=0.6938787090638728\n",
            "aprox=0.6924167207597792\n",
            "aprox=0.6938765747743778\n",
            "aprox=0.6924188488268559\n",
            "aprox=0.6938744529025473\n",
            "aprox=0.6924209645304543\n",
            "aprox=0.6938723433403237\n",
            "aprox=0.6924230679780048\n",
            "aprox=0.6938702459808992\n",
            "aprox=0.6924251592756969\n",
            "aprox=0.6938681607186984\n",
            "aprox=0.6924272385284966\n",
            "aprox=0.69386608744936\n",
            "aprox=0.6924293058401646\n",
            "aprox=0.6938640260697199\n",
            "aprox=0.6924313613132729\n",
            "aprox=0.6938619764777936\n",
            "aprox=0.6924334050492221\n",
            "aprox=0.69385993857276\n",
            "aprox=0.6924354371482585\n",
            "aprox=0.6938579122549441\n",
            "aprox=0.6924374577094895\n",
            "aprox=0.6938558974258016\n",
            "aprox=0.6924394668309007\n",
            "aprox=0.6938538939879022\n",
            "aprox=0.6924414646093712\n",
            "aprox=0.6938519018449142\n",
            "aprox=0.6924434511406888\n",
            "aprox=0.6938499209015889\n",
            "aprox=0.6924454265195664\n",
            "aprox=0.693847951063746\n",
            "aprox=0.6924473908396563\n",
            "aprox=0.6938459922382577\n",
            "aprox=0.692449344193565\n",
            "aprox=0.6938440443330349\n",
            "aprox=0.6924512866728678\n",
            "aprox=0.6938421072570125\n",
            "aprox=0.6924532183681236\n",
            "aprox=0.6938401809201347\n",
            "aprox=0.6924551393688881\n",
            "aprox=0.6938382652333418\n",
            "aprox=0.6924570497637286\n",
            "aprox=0.6938363601085562\n",
            "aprox=0.6924589496402367\n",
            "aprox=0.6938344654586686\n",
            "aprox=0.6924608390850422\n",
            "aprox=0.693832581197525\n",
            "aprox=0.6924627181838263\n",
            "aprox=0.6938307072399139\n",
            "aprox=0.6924645870213347\n",
            "aprox=0.693828843501553\n",
            "aprox=0.6924664456813896\n",
            "aprox=0.6938269898990767\n",
            "aprox=0.6924682942469027\n",
            "aprox=0.6938251463500235\n",
            "aprox=0.692470132799888\n",
            "aprox=0.6938233127728244\n",
            "aprox=0.692471961421473\n",
            "aprox=0.6938214890867902\n",
            "aprox=0.6924737801919115\n",
            "aprox=0.6938196752121\n",
            "aprox=0.6924755891905946\n",
            "aprox=0.6938178710697892\n",
            "aprox=0.6924773884960627\n",
            "aprox=0.6938160765817387\n",
            "aprox=0.6924791781860168\n",
            "aprox=0.693814291670663\n",
            "aprox=0.6924809583373297\n",
            "aprox=0.6938125162600993\n",
            "aprox=0.6924827290260568\n",
            "aprox=0.6938107502743968\n",
            "aprox=0.6924844903274472\n",
            "aprox=0.6938089936387055\n",
            "aprox=0.6924862423159542\n",
            "aprox=0.6938072462789662\n",
            "aprox=0.6924879850652459\n",
            "aprox=0.6938055081218993\n",
            "aprox=0.6924897186482152\n",
            "aprox=0.6938037790949957\n",
            "aprox=0.6924914431369904\n",
            "aprox=0.6938020591265055\n",
            "aprox=0.6924931586029452\n",
            "aprox=0.6938003481454289\n",
            "aprox=0.6924948651167083\n",
            "aprox=0.6937986460815062\n",
            "aprox=0.6924965627481728\n",
            "aprox=0.6937969528652079\n",
            "aprox=0.6924982515665067\n",
            "aprox=0.6937952684277259\n",
            "aprox=0.6924999316401611\n",
            "aprox=0.6937935927009632\n",
            "aprox=0.6925016030368805\n",
            "aprox=0.6937919256175257\n",
            "aprox=0.6925032658237112\n",
            "aprox=0.6937902671107126\n",
            "aprox=0.6925049200670108\n",
            "aprox=0.6937886171145076\n",
            "aprox=0.6925065658324563\n",
            "aprox=0.6937869755635703\n",
            "aprox=0.6925082031850537\n",
            "aprox=0.6937853423932274\n",
            "aprox=0.6925098321891457\n",
            "aprox=0.6937837175394642\n",
            "aprox=0.692511452908421\n",
            "aprox=0.6937821009389166\n",
            "aprox=0.6925130654059216\n",
            "aprox=0.6937804925288621\n",
            "aprox=0.692514669744052\n",
            "aprox=0.6937788922472126\n",
            "aprox=0.6925162659845863\n",
            "aprox=0.6937773000325056\n",
            "aprox=0.6925178541886768\n",
            "aprox=0.693775715823897\n",
            "aprox=0.6925194344168618\n",
            "aprox=0.6937741395611529\n",
            "aprox=0.6925210067290727\n",
            "aprox=0.6937725711846422\n",
            "aprox=0.6925225711846422\n",
            "aprox=0.6937710106353289\n",
            "aprox=0.6925241278423114\n",
            "aprox=0.6937694578547647\n",
            "aprox=0.6925256767602374\n",
            "aprox=0.6937679127850821\n",
            "aprox=0.6925272179960003\n",
            "aprox=0.6937663753689867\n",
            "aprox=0.6925287516066104\n",
            "aprox=0.6937648455497502\n",
            "aprox=0.6925302776485156\n",
            "aprox=0.6937633232712036\n",
            "aprox=0.6925317961776075\n",
            "aprox=0.6937618084777305\n",
            "aprox=0.6925333072492292\n",
            "aprox=0.6937603011142599\n",
            "aprox=0.6925348109181815\n",
            "aprox=0.6937588011262598\n",
            "aprox=0.6925363072387292\n",
            "aprox=0.6937573084597304\n",
            "aprox=0.6925377962646084\n",
            "aprox=0.693755823061198\n",
            "aprox=0.6925392780490325\n",
            "aprox=0.693754344877708\n",
            "aprox=0.6925407526446983\n",
            "aprox=0.6937528738568195\n",
            "aprox=0.6925422201037928\n",
            "aprox=0.6937514099465981\n",
            "aprox=0.6925436804779991\n",
            "aprox=0.6937499530956106\n",
            "aprox=0.6925451338185021\n",
            "aprox=0.6937485032529185\n",
            "aprox=0.6925465801759954\n",
            "aprox=0.6937470603680722\n",
            "aprox=0.6925480196006861\n",
            "aprox=0.6937456243911053\n",
            "aprox=0.6925494521423015\n",
            "aprox=0.6937441952725285\n",
            "aprox=0.6925508778500942\n",
            "aprox=0.6937427729633242\n",
            "aprox=0.692552296772848\n",
            "aprox=0.6937413574149408\n",
            "aprox=0.6925537089588838\n",
            "aprox=0.6937399485792871\n",
            "aprox=0.6925551144560643\n",
            "aprox=0.693738546408727\n",
            "aprox=0.6925565133118003\n",
            "aprox=0.6937371508560742\n",
            "aprox=0.6925579055730554\n",
            "aprox=0.6937357618745866\n",
            "aprox=0.6925592912863513\n",
            "aprox=0.6937343794179611\n",
            "aprox=0.6925606704977734\n",
            "aprox=0.6937330034403291\n",
            "aprox=0.6925620432529754\n",
            "aprox=0.6937316338962503\n",
            "aprox=0.6925634095971849\n",
            "aprox=0.6937302707407088\n",
            "aprox=0.6925647695752076\n",
            "aprox=0.6937289139291075\n",
            "aprox=0.6925661232314331\n",
            "aprox=0.6937275634172635\n",
            "aprox=0.6925674706098389\n",
            "aprox=0.6937262191614032\n",
            "aprox=0.6925688117539958\n",
            "aprox=0.6937248811181577\n",
            "aprox=0.6925701467070722\n",
            "aprox=0.6937235492445578\n",
            "aprox=0.692571475511839\n",
            "aprox=0.6937222234980299\n",
            "aprox=0.6925727982106736\n",
            "aprox=0.6937209038363912\n",
            "aprox=0.6925741148455655\n",
            "aprox=0.693719590217845\n",
            "aprox=0.6925754254581196\n",
            "aprox=0.6937182826009767\n",
            "aprox=0.6925767300895611\n",
            "aprox=0.6937169809447492\n",
            "aprox=0.69257802878074\n",
            "aprox=0.6937156852084989\n",
            "aprox=0.6925793215721353\n",
            "aprox=0.693714395351931\n",
            "aprox=0.6925806085038585\n",
            "aprox=0.6937131113351156\n",
            "aprox=0.6925818896156586\n",
            "aprox=0.6937118331184834\n",
            "aprox=0.6925831649469258\n",
            "aprox=0.6937105606628221\n",
            "aprox=0.6925844345366959\n",
            "aprox=0.6937092939292718\n",
            "aprox=0.6925856984236538\n",
            "aprox=0.6937080328793216\n",
            "aprox=0.6925869566461378\n",
            "aprox=0.6937067774748052\n",
            "aprox=0.692588209242143\n",
            "aprox=0.6937055276778973\n",
            "aprox=0.6925894562493259\n",
            "aprox=0.6937042834511096\n",
            "aprox=0.6925906977050071\n",
            "aprox=0.6937030447572875\n",
            "aprox=0.6925919336461764\n",
            "aprox=0.693701811559606\n",
            "aprox=0.6925931641094951\n",
            "aprox=0.693700583821566\n",
            "aprox=0.6925943891313004\n",
            "aprox=0.6936993615069911\n",
            "aprox=0.6925956087476092\n",
            "aprox=0.6936981445800238\n",
            "aprox=0.6925968229941207\n",
            "aprox=0.6936969330051218\n",
            "aprox=0.6925980319062207\n",
            "aprox=0.6936957267470549\n",
            "aprox=0.6925992355189847\n",
            "aprox=0.6936945257709015\n",
            "aprox=0.6926004338671816\n",
            "aprox=0.693693330042045\n",
            "aprox=0.6926016269852765\n",
            "aprox=0.6936921395261707\n",
            "aprox=0.6926028149074344\n",
            "aprox=0.6936909541892624\n",
            "aprox=0.6926039976675232\n",
            "aprox=0.6936897739975992\n",
            "aprox=0.6926051752991177\n",
            "aprox=0.6936885989177526\n",
            "aprox=0.6926063478355015\n",
            "aprox=0.6936874289165825\n",
            "aprox=0.6926075153096711\n",
            "aprox=0.6936862639612353\n",
            "aprox=0.6926086777543388\n",
            "aprox=0.6936851040191396\n",
            "aprox=0.6926098352019353\n",
            "aprox=0.693683949058004\n",
            "aprox=0.6926109876846135\n",
            "aprox=0.6936827990458139\n",
            "aprox=0.6926121352342507\n",
            "aprox=0.6936816539508283\n",
            "aprox=0.6926132778824522\n",
            "aprox=0.693680513741577\n",
            "aprox=0.6926144156605536\n",
            "aprox=0.6936793783868582\n",
            "aprox=0.6926155485996242\n",
            "aprox=0.6936782478557346\n",
            "aprox=0.6926166767304692\n",
            "aprox=0.6936771221175317\n",
            "aprox=0.6926178000836334\n",
            "aprox=0.6936760011418345\n",
            "aprox=0.6926189186894032\n",
            "aprox=0.6936748848984845\n",
            "aprox=0.6926200325778094\n",
            "aprox=0.6936737733575775\n",
            "aprox=0.6926211417786301\n",
            "aprox=0.6936726664894608\n",
            "aprox=0.6926222463213936\n",
            "aprox=0.6936715642647304\n",
            "aprox=0.6926233462353804\n",
            "aprox=0.6936704666542285\n",
            "aprox=0.692624441549626\n",
            "aprox=0.6936693736290408\n",
            "aprox=0.6926255322929239\n",
            "aprox=0.6936682851604943\n",
            "aprox=0.6926266184938276\n",
            "aprox=0.6936672012201544\n",
            "aprox=0.6926277001806533\n",
            "aprox=0.6936661217798226\n",
            "aprox=0.6926287773814823\n",
            "aprox=0.6936650468115342\n",
            "aprox=0.6926298501241636\n",
            "aprox=0.6936639762875555\n",
            "aprox=0.6926309184363159\n",
            "aprox=0.693662910180382\n",
            "aprox=0.6926319823453304\n",
            "aprox=0.6936618484627352\n",
            "aprox=0.692633041878373\n",
            "aprox=0.6936607911075611\n",
            "aprox=0.6926340970623865\n",
            "aprox=0.6936597380880276\n",
            "aprox=0.6926351479240932\n",
            "aprox=0.6936586893775221\n",
            "aprox=0.6926361944899965\n",
            "aprox=0.6936576449496492\n",
            "aprox=0.6926372367863839\n",
            "aprox=0.693656604778229\n",
            "aprox=0.6926382748393288\n",
            "aprox=0.6936555688372943\n",
            "aprox=0.6926393086746927\n",
            "aprox=0.6936545371010886\n",
            "aprox=0.6926403383181271\n",
            "aprox=0.6936535095440642\n",
            "aprox=0.6926413637950763\n",
            "aprox=0.6936524861408802\n",
            "aprox=0.6926423851307791\n",
            "aprox=0.6936514668663997\n",
            "aprox=0.6926434023502707\n",
            "aprox=0.6936504516956886\n",
            "aprox=0.6926444154783848\n",
            "aprox=0.693649440604013\n",
            "aprox=0.692645424539756\n",
            "aprox=0.6936484335668373\n",
            "aprox=0.6926464295588213\n",
            "aprox=0.6936474305598223\n",
            "aprox=0.6926474305598223\n",
            "0.6936464315588232\n",
            "0.6931471805599453\n"
          ]
        }
      ]
    },
    {
      "cell_type": "markdown",
      "source": [
        "# Cálculo $\\pi$\n",
        "\n",
        "O valor de $\\pi$ pode ser calculado através da série \n",
        "\n",
        "$$\\pi = \\frac{4}{1} - \\frac{4}{3} + \\frac{4}{5} - \\ldots$$\n",
        "\n",
        "Cada termo desta série tem um formato $(-1)^{k+1}\\frac{4}{2k-1}$ para $k = 1, 2, \\ldots$\n",
        "\n",
        "\n",
        "A medida que $k$ cresce, o termo vai se tornando cada vez menor, e sua contribuição para o valor $\\pi$ se torna menor.  Faça um programa que calcula o valor de $\\pi$ através da série acima, somando termo a termo, parando quando a diferença absoluta entre o valor de $\\pi$ calculado na iteração anterior e da iteração atual seja menor que um $tol$."
      ],
      "metadata": {
        "id": "Q_W8AOVe9O1f"
      }
    },
    {
      "cell_type": "code",
      "source": [
        "import matplotlib.pyplot as plt\n",
        "import math as m\n",
        "\n",
        "def aproxima_pi(tol):\n",
        "\n",
        "  ant = 0 # k == 0\n",
        "  prox = 4 # k == 1\n",
        "  k    = 2\n",
        "\n",
        "  while m.fabs(prox-ant) > tol:\n",
        "    ant = prox\n",
        "    prox = prox + (-1)**(k+1)*4/(2*k-1)\n",
        "    k = k + 1\n",
        "\n",
        "  return (prox,k-1)\n",
        "\n",
        "\n",
        "print( aproxima_pi(1e-1) )\n",
        "print( aproxima_pi(1e-2) )\n",
        "\n",
        "print( aproxima_pi(1e-3) )\n",
        "print( aproxima_pi(1e-4) )\n",
        "print( aproxima_pi(1e-5) )\n",
        "\n",
        "x = range(1,6)\n",
        "y = [ aproxima_pi(10**(-t))[1] for t in x]\n",
        "print(y)\n",
        "#plt.plot(x,y, color='red', linewidth=2)\n",
        "x=range(1,100)\n",
        "y=[math.sin(t) for t in x ]\n",
        "plt.plot(x,y, color='red', linewidth=2)\n",
        "plt.show()"
      ],
      "metadata": {
        "colab": {
          "base_uri": "https://localhost:8080/",
          "height": 376
        },
        "id": "tcep7SPF9QDf",
        "outputId": "b7d9ed10-b43b-4182-82da-22ea3bfc5596"
      },
      "execution_count": null,
      "outputs": [
        {
          "output_type": "stream",
          "name": "stdout",
          "text": [
            "(3.189184782277596, 21)\n",
            "(3.1465677471829556, 201)\n",
            "(3.1420924036835256, 2001)\n",
            "(3.1416426510898874, 20001)\n",
            "(3.141597653564762, 200001)\n",
            "[21, 201, 2001, 20001, 200001]\n"
          ]
        },
        {
          "output_type": "display_data",
          "data": {
            "text/plain": [
              "<Figure size 432x288 with 1 Axes>"
            ],
            "image/png": "[encoded data removed]"
          },
          "metadata": {
            "needs_background": "light"
          }
        }
      ]
    },
    {
      "cell_type": "markdown",
      "source": [
        "# Laço for\n",
        "\n",
        "Sintaxe\n",
        "```\n",
        "for x in lista:\n",
        "  print(x)\n",
        "```"
      ],
      "metadata": {
        "id": "9JXhMnv-tWBQ"
      }
    },
    {
      "cell_type": "markdown",
      "source": [
        "Faça o programa que soma os pares entre inf e sup usando o for"
      ],
      "metadata": {
        "id": "h0QL6AYytgGI"
      }
    },
    {
      "cell_type": "code",
      "source": [
        "def soma_pares(inf,sup):\n",
        "  soma = 0\n",
        "  for x in range(inf, sup+1):\n",
        "    if x%2 == 0:\n",
        "      soma = soma + x\n",
        "    print(\"x = {} soma = {}\".format(x,soma))\n",
        "  return soma\n",
        "\n",
        "soma_pares(3,20)\n",
        "\n",
        "\n"
      ],
      "metadata": {
        "colab": {
          "base_uri": "https://localhost:8080/"
        },
        "id": "6ekKzkrAtflJ",
        "outputId": "9697049e-df17-4422-ba05-f49e3b4b7903"
      },
      "execution_count": null,
      "outputs": [
        {
          "output_type": "stream",
          "name": "stdout",
          "text": [
            "x = 3 soma = 0\n",
            "x = 4 soma = 4\n",
            "x = 5 soma = 4\n",
            "x = 6 soma = 10\n",
            "x = 7 soma = 10\n",
            "x = 8 soma = 18\n",
            "x = 9 soma = 18\n",
            "x = 10 soma = 28\n",
            "x = 11 soma = 28\n",
            "x = 12 soma = 40\n",
            "x = 13 soma = 40\n",
            "x = 14 soma = 54\n",
            "x = 15 soma = 54\n",
            "x = 16 soma = 70\n",
            "x = 17 soma = 70\n",
            "x = 18 soma = 88\n",
            "x = 19 soma = 88\n",
            "x = 20 soma = 108\n"
          ]
        },
        {
          "output_type": "execute_result",
          "data": {
            "text/plain": [
              "108"
            ]
          },
          "metadata": {},
          "execution_count": 63
        }
      ]
    },
    {
      "cell_type": "markdown",
      "source": [
        "#Exercício \n",
        "\n",
        "Faça uma função que dada uma palavra retorna uma lista formada por todas as vogais que aparecem na palavra na ordem em que elas aparecem.\n",
        "\n"
      ],
      "metadata": {
        "id": "lrijDnv_uMxu"
      }
    },
    {
      "cell_type": "code",
      "source": [
        "def vogais_na_palavra(s):\n",
        "  vogais = \"aeiouAEIOU\"\n",
        "  lista = []\n",
        "  for letra in s:\n",
        "    if letra in vogais:\n",
        "      lista.append(letra)\n",
        "  return lista\n",
        "\n",
        "vogais_na_palavra(\"samuel robson\")\n",
        "def mult4ou6(start,end):\n",
        "  lista=[]\n",
        "  for x in range(start, end+1):\n",
        "    if x%4==0 or x%6==0:\n",
        "      lista.append(x)\n",
        "  return lista\n",
        "mult4ou6(20,50)"
      ],
      "metadata": {
        "colab": {
          "base_uri": "https://localhost:8080/"
        },
        "id": "2yRpr25UuQP2",
        "outputId": "19db9004-2ce0-43bd-8716-654eb8d4d69b"
      },
      "execution_count": null,
      "outputs": [
        {
          "output_type": "execute_result",
          "data": {
            "text/plain": [
              "[20, 24, 28, 30, 32, 36, 40, 42, 44, 48]"
            ]
          },
          "metadata": {},
          "execution_count": 27
        }
      ]
    },
    {
      "cell_type": "markdown",
      "source": [
        "\n",
        "# Exercício Cálculo $\\pi$\n",
        "\n",
        "\n",
        "O valor de $\\pi$ pode ser calculado através da série \n",
        "\n",
        "$$\\pi = \\frac{4}{1} - \\frac{4}{3} + \\frac{4}{5} - \\ldots$$\n",
        "\n",
        "Cada termo desta série tem um formato $(-1)^{k+1}\\frac{4}{2k-1}$ para $k = 1, 2, \\ldots$\n",
        "\n",
        "\n",
        "Calcule o valor de $\\pi$ tomando $n$ primeiros termos da série."
      ],
      "metadata": {
        "id": "T6A8jed-0KYy"
      }
    },
    {
      "cell_type": "code",
      "source": [
        "import matplotlib.pyplot as plt\n",
        "import math as m\n",
        "\n",
        "def termo(k):\n",
        "  return (-1)**(k+1) * 4/(2*k-1)\n",
        "\n",
        "def aproxima_pi(n):\n",
        "\n",
        "  acc = 0\n",
        "\n",
        "  for k in range(1, n+1):\n",
        "    acc = acc + termo(k)\n",
        "\n",
        "  return acc\n",
        "\n",
        "\n",
        "x = range(1,101) # 1 até 100\n",
        "approx_pi = [ aproxima_pi(t) for t in x]\n",
        "pi_values = [ m.pi for t in x]\n",
        "\n",
        "#print(approx_pi)\n",
        "print(approx_pi[-1])\n",
        "\n",
        "plt.plot(x,approx_pi,color='red')\n",
        "plt.plot(x,pi_values,color='blue')\n",
        "plt.show()"
      ],
      "metadata": {
        "colab": {
          "base_uri": "https://localhost:8080/",
          "height": 282
        },
        "id": "EjgC8c4L0LvB",
        "outputId": "6f69aac5-f515-4992-8cab-8c5783a907af"
      },
      "execution_count": null,
      "outputs": [
        {
          "output_type": "stream",
          "name": "stdout",
          "text": [
            "3.1315929035585537\n"
          ]
        },
        {
          "output_type": "display_data",
          "data": {
            "text/plain": [
              "<Figure size 432x288 with 1 Axes>"
            ],
            "image/png": "[encoded data removed]"
          },
          "metadata": {
            "needs_background": "light"
          }
        }
      ]
    },
    {
      "cell_type": "code",
      "source": [
        "import matplotlib.pyplot as plt\n",
        "import math as m\n",
        "\n",
        "def aproxima_pi(n):\n",
        "\n",
        "  res = 0\n",
        "\n",
        "  for k in range(1, n+1):\n",
        "    res = res + (-1)**(k+1) * 4/(2*k-1)\n",
        "\n",
        "  return res\n",
        "\n",
        "\n",
        "x = range(1,101)\n",
        "approx_pi = [ aproxima_pi(t) for t in x]\n",
        "pi_values = [ m.pi for t in x]\n",
        "error     = [ m.fabs(m.pi - aproxima_pi(t)) for t in x]\n",
        "\n",
        "plt.plot(x,error,color='red')\n",
        "plt.show()"
      ],
      "metadata": {
        "id": "cqPHefzA0UDG",
        "colab": {
          "base_uri": "https://localhost:8080/",
          "height": 265
        },
        "outputId": "c847c32a-ec9c-411c-b763-13b5ad9ac02d"
      },
      "execution_count": null,
      "outputs": [
        {
          "output_type": "display_data",
          "data": {
            "text/plain": [
              "<Figure size 432x288 with 1 Axes>"
            ],
            "image/png": "[encoded data removed]"
          },
          "metadata": {
            "needs_background": "light"
          }
        }
      ]
    },
    {
      "cell_type": "markdown",
      "source": [],
      "metadata": {
        "id": "JRak3BQ6e0oh"
      }
    },
    {
      "cell_type": "code",
      "source": [
        "import matplotlib.pyplot as plt\n",
        "import math as m\n",
        "\n",
        "def termo(k):\n",
        "  return (-1)**(k+1) * 4/(2*k-1)\n",
        "\n",
        "def aproxima_pi(n):\n",
        "\n",
        "  acc = 0\n",
        "\n",
        "  for k in range(1, n+1):\n",
        "    acc = acc + termo(k)\n",
        "\n",
        "  return acc\n",
        "\n",
        "\n",
        "x = range(1,101) # 1 até 100\n",
        "approx_pi = [ aproxima_pi(t) for t in x]\n",
        "pi_values = [ m.pi for t in x]\n",
        "\n",
        "#print(approx_pi)\n",
        "print(approx_pi[-1])\n",
        "\n",
        "plt.plot(x,approx_pi,color='red')\n",
        "plt.plot(x,pi_values,color='blue')\n",
        "plt.show()"
      ],
      "metadata": {
        "colab": {
          "base_uri": "https://localhost:8080/",
          "height": 282
        },
        "outputId": "6f69aac5-f515-4992-8cab-8c5783a907af",
        "id": "DYEuUmOHe0oh"
      },
      "execution_count": null,
      "outputs": [
        {
          "output_type": "stream",
          "name": "stdout",
          "text": [
            "3.1315929035585537\n"
          ]
        },
        {
          "output_type": "display_data",
          "data": {
            "text/plain": [
              "<Figure size 432x288 with 1 Axes>"
            ],
            "image/png": "[encoded data removed]"
          },
          "metadata": {
            "needs_background": "light"
          }
        }
      ]
    },
    {
      "cell_type": "code",
      "source": [
        "import matplotlib.pyplot as plt\n",
        "import math as m\n",
        "\n",
        "def aproxima_pi(n):\n",
        "\n",
        "  res = 0\n",
        "\n",
        "  for k in range(1, n+1):\n",
        "    res = res + (-1)**(k+1) * 4/(2*k-1)\n",
        "\n",
        "  return res\n",
        "\n",
        "\n",
        "x = range(1,101)\n",
        "approx_pi = [ aproxima_pi(t) for t in x]\n",
        "pi_values = [ m.pi for t in x]\n",
        "error     = [ m.fabs(m.pi - aproxima_pi(t)) for t in x]\n",
        "\n",
        "plt.plot(x,error,color='red')\n",
        "plt.show()"
      ],
      "metadata": {
        "colab": {
          "base_uri": "https://localhost:8080/",
          "height": 265
        },
        "outputId": "c847c32a-ec9c-411c-b763-13b5ad9ac02d",
        "id": "p1y3tvsVe0oi"
      },
      "execution_count": null,
      "outputs": [
        {
          "output_type": "display_data",
          "data": {
            "text/plain": [
              "<Figure size 432x288 with 1 Axes>"
            ],
            "image/png": "[encoded data removed]"
          },
          "metadata": {
            "needs_background": "light"
          }
        }
      ]
    },
    {
      "cell_type": "markdown",
      "source": [
        "# Cálculo do pi (Método de Monte Carlo)\n",
        "\n",
        "Considere um 1/4 de uma circunferência inscrita em um \n",
        "quadrado de lado 1. Considerando que a razão entre a \n",
        "área da circuferência e a área do quadrado é $\\frac{\\pi}{4}$.\n",
        "Então o valor de $\\pi$ pode ser aproximado da seguinte maneira:\n",
        "\n",
        "1. Gere n pontos espalhados uniformente no quadrado de lado 1.\n",
        "2. Conte o número de pontos que estão dentro do 1/4 da circunferência inscrita no quadrado.\n",
        "3. Calcule a razão entre os pontos que estão dentro e o total de pontos.\n",
        "4. Multiplique por 4"
      ],
      "metadata": {
        "id": "B94WY8e70cqF"
      }
    },
    {
      "cell_type": "code",
      "source": [
        "import random\n",
        "\n",
        "def aprox_pi(n):\n",
        "\n",
        "  dentro  = 0\n",
        "  for i in range(1,n+1):\n",
        "    x = random.random()\n",
        "    y = random.random()\n",
        "    if x*x + y*y <= 1:\n",
        "      dentro = dentro + 1\n",
        "  \n",
        "  r = dentro/n\n",
        "  return 4*r\n",
        "\n",
        "\n",
        "x = [ 10**i for i in range(1,8)]\n",
        "y = [ aprox_pi(x[i]) for i in range(len(x))]\n",
        "\n",
        "print(x)\n",
        "print(y)"
      ],
      "metadata": {
        "id": "_8vegW4I0d4G"
      },
      "execution_count": null,
      "outputs": []
    },
    {
      "cell_type": "markdown",
      "source": [
        "A função $\\pi(N)$ devolve a quantidade de primos menores ou iguais a N. Essa função pode ser aproximada pela seguinte expressão:\n",
        "\n",
        "$$\\pi(N) \\approx \\frac{N}{ln(N)}$$\n",
        "\n",
        "\n",
        "Calcule o valor das duas funções para os 1000 primeiros números naturais e faça o gráfico do erro de aproximação."
      ],
      "metadata": {
        "id": "o7CT2GJR3vX_"
      }
    },
    {
      "cell_type": "code",
      "source": [
        "import matplotlib.pyplot as plt\n",
        "import math as m\n",
        "\n",
        "def divisores(n):\n",
        "  return [ x for x in range(1,n+1) if n % x == 0]\n",
        "def primo(n):\n",
        "  return len(divisores(n))==2 \n",
        "\n",
        "\n",
        "def count_prime(n):\n",
        "  cont = 0\n",
        "  for i in range(2, n+1):\n",
        "    if primo(i):\n",
        "      cont += 1 # cont = cont + 1\n",
        "  return cont\n",
        "\n",
        "n = 1000\n",
        "x = range(2, n+1)\n",
        "y = [ count_prime(k) for k in x]\n",
        "z = [ k/m.log(k) for k in x]\n",
        "\n",
        "plt.plot(x, y, color='blue')\n",
        "plt.plot(x, z, color='red')\n",
        "\n",
        "\n",
        "plt.show()"
      ],
      "metadata": {
        "id": "RdS_n15l3xp5",
        "colab": {
          "base_uri": "https://localhost:8080/",
          "height": 268
        },
        "outputId": "d8e77fda-8ce1-485e-d82b-cdd5b39090fd"
      },
      "execution_count": null,
      "outputs": [
        {
          "output_type": "display_data",
          "data": {
            "text/plain": [
              "<Figure size 432x288 with 1 Axes>"
            ],
            "image/png": "[encoded data removed]"
          },
          "metadata": {
            "needs_background": "light"
          }
        }
      ]
    },
    {
      "cell_type": "markdown",
      "source": [
        "A função $\\pi(N)$ devolve a quantidade de primos menores ou iguais a N. Essa função pode ser aproximada pela seguinte expressão:\n",
        "\n",
        "$$\\pi(N) \\approx \\sum_{k=0}^{ \\infty } \\frac{xk!}{(log~x) ^{k+1}}$$\n",
        "\n"
      ],
      "metadata": {
        "id": "HRv2HSug6KVe"
      }
    },
    {
      "cell_type": "markdown",
      "source": [
        "# Exercício\n",
        "\n",
        "Faça um procedimento que ao ser chamado, o procedimento imprime uma figura da seguinte forma:\n",
        "```\n",
        "....*....\n",
        "...***...\n",
        "..*****..\n",
        ".*******.\n",
        "*********\n",
        ".*******.\n",
        "..*****..\n",
        "...***...\n",
        "....*....\n",
        "```"
      ],
      "metadata": {
        "id": "V3LL7nNnp70Y"
      }
    },
    {
      "cell_type": "code",
      "source": [],
      "metadata": {
        "id": "WeJMEASVqTY4"
      },
      "execution_count": null,
      "outputs": []
    },
    {
      "cell_type": "markdown",
      "source": [
        "# Erro numérico\n",
        "\n",
        "Considere o seguinte programa:\n",
        "\n",
        "```python\n",
        "def erro():\n",
        "  terco = 1/3\n",
        "  for i in range(1,31):\n",
        "    terco = 4*terco - 1\n",
        "    print(\"i = {}, terco = {:.10f}\".format( i, terco)  )\n",
        "```\n",
        "\n",
        "\n",
        "| Iteração   | Terco                                                                                                                                       |\n",
        "|------------|---------------------------------------------------------------------------------------------------------------------------------------------|\n",
        "| início     | $$Terco = \\frac{1}{3} - \\epsilon$$                                                                                                          |\n",
        "| $$i=1$$    | $$Terco = 4(\\frac{1}{3} - \\epsilon)-1$$<br>$$Terco = \\frac{4}{3} - 4\\epsilon-\\frac{3}{3}$$<br>$$Terco = \\frac{1}{3} - 4\\epsilon$$           |\n",
        "| $$i=2$$    | $$Terco = 4(\\frac{1}{3} - 4\\epsilon)-1$$<br>$$Terco = \\frac{4}{3} - 4^2\\epsilon-\\frac{3}{3}$$<br>$$Terco = \\frac{1}{3} - 4^2\\epsilon$$      |\n",
        "| $$\\ldots$$ | $$\\ldots$$                                                                                                                                  |\n",
        "| $$i=30$$   | $$Terco = 4(\\frac{1}{3} - 4^{29}\\epsilon)-1$$<br>$$Terco = \\frac{4}{3} - 4^{30}\\epsilon-\\frac{3}{3}$$<br>$$Terco = \\frac{1}{3} - 4^{30}\\epsilon$$ |"
      ],
      "metadata": {
        "id": "xnYmfwzEuvx9"
      }
    },
    {
      "cell_type": "code",
      "source": [
        "def erro():\n",
        "  terco = 1/3\n",
        "  for i in range(1,31):\n",
        "    terco = 4*terco - 1\n",
        "    print(\"i = {}, terco = {:.10f}\".format( i, terco)  )\n",
        "\n",
        "erro()"
      ],
      "metadata": {
        "colab": {
          "base_uri": "https://localhost:8080/"
        },
        "id": "F08S0wNWu39K",
        "outputId": "161f3bd0-7cad-4650-b72a-44a256a0ea2a"
      },
      "execution_count": null,
      "outputs": [
        {
          "output_type": "stream",
          "name": "stdout",
          "text": [
            "i = 1, terco = 0.3333333333\n",
            "i = 2, terco = 0.3333333333\n",
            "i = 3, terco = 0.3333333333\n",
            "i = 4, terco = 0.3333333333\n",
            "i = 5, terco = 0.3333333333\n",
            "i = 6, terco = 0.3333333333\n",
            "i = 7, terco = 0.3333333333\n",
            "i = 8, terco = 0.3333333333\n",
            "i = 9, terco = 0.3333333333\n",
            "i = 10, terco = 0.3333333333\n",
            "i = 11, terco = 0.3333333333\n",
            "i = 12, terco = 0.3333333330\n",
            "i = 13, terco = 0.3333333321\n",
            "i = 14, terco = 0.3333333284\n",
            "i = 15, terco = 0.3333333135\n",
            "i = 16, terco = 0.3333332539\n",
            "i = 17, terco = 0.3333330154\n",
            "i = 18, terco = 0.3333320618\n",
            "i = 19, terco = 0.3333282471\n",
            "i = 20, terco = 0.3333129883\n",
            "i = 21, terco = 0.3332519531\n",
            "i = 22, terco = 0.3330078125\n",
            "i = 23, terco = 0.3320312500\n",
            "i = 24, terco = 0.3281250000\n",
            "i = 25, terco = 0.3125000000\n",
            "i = 26, terco = 0.2500000000\n",
            "i = 27, terco = 0.0000000000\n",
            "i = 28, terco = -1.0000000000\n",
            "i = 29, terco = -5.0000000000\n",
            "i = 30, terco = -21.0000000000\n"
          ]
        }
      ]
    },
    {
      "cell_type": "markdown",
      "source": [
        "# Problema OBI\n",
        "\n",
        "**Entrada**\n",
        "```\n",
        "3 100\n",
        "50 50\n",
        "100 0\n",
        "49 50\n",
        "```\n",
        "\n",
        "**Saída**\n",
        "```\n",
        "2\n",
        "```"
      ],
      "metadata": {
        "id": "5OnJyyg5q1gZ"
      }
    },
    {
      "cell_type": "code",
      "source": [
        "a,b = [2,3]\n",
        "\n",
        "print(a)"
      ],
      "metadata": {
        "colab": {
          "base_uri": "https://localhost:8080/"
        },
        "id": "x2ifYjz-q1BM",
        "outputId": "8111200d-cd1a-4537-86df-dc1422524888"
      },
      "execution_count": null,
      "outputs": [
        {
          "output_type": "stream",
          "name": "stdout",
          "text": [
            "2\n"
          ]
        }
      ]
    },
    {
      "cell_type": "code",
      "source": [
        "n,p = [int(x) for x in input().split()]\n",
        "contador=0\n",
        "for i in range(n):\n",
        "  a,b = [int(x) for x in input().split()]\n",
        "  if a+b>=p:\n",
        "    contador+=1\n",
        "print(contador)"
      ],
      "metadata": {
        "colab": {
          "base_uri": "https://localhost:8080/"
        },
        "id": "4RxfHhJDr3__",
        "outputId": "f9a61d4a-e217-4d98-d1a7-8a76865f083a"
      },
      "execution_count": null,
      "outputs": [
        {
          "output_type": "stream",
          "name": "stdout",
          "text": [
            "3 100\n",
            "50 50\n",
            "100 0\n",
            "49 50\n",
            "2\n"
          ]
        }
      ]
    },
    {
      "cell_type": "markdown",
      "source": [
        "# Repetições Aninhadas\n",
        "\n",
        "Podemos combinar mais de uma estrutura de repetição para obter resultados interessantes"
      ],
      "metadata": {
        "id": "E-k0CMdbivlx"
      }
    },
    {
      "cell_type": "markdown",
      "source": [
        "Faça um programa para imprimir a seguinte tabela\n",
        "```\n",
        "1\n",
        "1 2\n",
        "1 2 3\n",
        "1 2 3 4\n",
        "1 2 3 4 5\n",
        "1 2 3 4 5 6\n",
        "1 2 3 4 5 6 7\n",
        "1 2 3 4 5 6 7 8\n",
        "1 2 3 4 5 6 7 8 9\n",
        "```\n"
      ],
      "metadata": {
        "id": "RbTd3dHpjDz3"
      }
    },
    {
      "cell_type": "code",
      "source": [
        "def print_table():\n",
        "  i = 1\n",
        "  while i <= 9:\n",
        "    j = 1\n",
        "    while j <= i:\n",
        "      print(j, end = ' ')\n",
        "      j += 1\n",
        "    print(end = '\\n')\n",
        "    i += 1\n",
        "print_table()"
      ],
      "metadata": {
        "colab": {
          "base_uri": "https://localhost:8080/"
        },
        "id": "K2PmpGpDkvyR",
        "outputId": "c4a0da7b-aedd-4b36-93b8-8959e0ef8319"
      },
      "execution_count": null,
      "outputs": [
        {
          "output_type": "stream",
          "name": "stdout",
          "text": [
            "1 \n",
            "1 2 \n",
            "1 2 3 \n",
            "1 2 3 4 \n",
            "1 2 3 4 5 \n",
            "1 2 3 4 5 6 \n",
            "1 2 3 4 5 6 7 \n",
            "1 2 3 4 5 6 7 8 \n",
            "1 2 3 4 5 6 7 8 9 \n"
          ]
        }
      ]
    },
    {
      "cell_type": "code",
      "source": [
        "def print_table():\n",
        "  for i in range(1,10):\n",
        "    for j in range(1, i+1):\n",
        "      print(j, end = ' ')\n",
        "    print(end='\\n')\n",
        "\n",
        "print_table()\n"
      ],
      "metadata": {
        "colab": {
          "base_uri": "https://localhost:8080/"
        },
        "id": "VIKop5eTkQRW",
        "outputId": "96ba622f-cd73-40e3-c259-c608687d75d4"
      },
      "execution_count": null,
      "outputs": [
        {
          "output_type": "stream",
          "name": "stdout",
          "text": [
            "1 \n",
            "1 2 \n",
            "1 2 3 \n",
            "1 2 3 4 \n",
            "1 2 3 4 5 \n",
            "1 2 3 4 5 6 \n",
            "1 2 3 4 5 6 7 \n",
            "1 2 3 4 5 6 7 8 \n",
            "1 2 3 4 5 6 7 8 9 \n"
          ]
        }
      ]
    },
    {
      "cell_type": "markdown",
      "source": [
        "Dado uma lista de $n$ números, faça uma função que devolve uma lista de listas representando a matriz quadrada $nxn$ de Vandermonde.\n",
        "\n",
        "Seja $x = [x_1,x_2,x_3]$\n",
        "\n",
        "A matriz de Vandermonde será:\n",
        "\n",
        "\n",
        "$ \\begin{bmatrix}\n",
        "1 & x_1 & x_1^2 \\\\\n",
        "1 & x_2 & x_2^2 \\\\\n",
        "1 & x_3 & x_3^2 \n",
        "\\end{bmatrix}  $\n",
        "\n"
      ],
      "metadata": {
        "id": "f0vO1WflzRBi"
      }
    },
    {
      "cell_type": "code",
      "source": [
        "def matriz_vandermond(l):\n",
        "  n = len(l)\n",
        "\n",
        "  m = []\n",
        "  \n",
        "  for x in l:\n",
        "    row = []\n",
        "    for i in range(n):\n",
        "      row.append(x**i)\n",
        "    m.append(row)\n",
        "  return m\n",
        "\n",
        "print( matriz_vandermond([2,3,4,5]) )    \n"
      ],
      "metadata": {
        "colab": {
          "base_uri": "https://localhost:8080/"
        },
        "id": "w_Tzb2J37x7N",
        "outputId": "7519cf06-3164-41f4-f9c9-51c6e2aaf2a0"
      },
      "execution_count": null,
      "outputs": [
        {
          "output_type": "stream",
          "name": "stdout",
          "text": [
            "[[1, 2, 4, 8], [1, 3, 9, 27], [1, 4, 16, 64], [1, 5, 25, 125]]\n"
          ]
        }
      ]
    },
    {
      "cell_type": "markdown",
      "source": [
        "Dado um inteiro $n$, construa a função identidade(n) que devolve a matriz $I_{n}$\n",
        "\n",
        "Para $n = 3$\n",
        "\n",
        "$ \\begin{bmatrix}\n",
        "1 & 0 & 0 \\\\\n",
        "0 & 1 & 0 \\\\\n",
        "0 & 0 & 1 \n",
        "\\end{bmatrix}  $\n",
        "\n"
      ],
      "metadata": {
        "id": "cWUV86OG8Vfv"
      }
    },
    {
      "cell_type": "code",
      "source": [
        "def identidade(n):\n",
        "  m = []\n",
        "\n",
        "  for i in range(n):\n",
        "    row = []\n",
        "    for j in range(n):\n",
        "        if i == j:\n",
        "          row.append(1)\n",
        "        else:\n",
        "          row.append(0)\n",
        "    m.append(row)\n",
        "  return m\n",
        "\n",
        "identidade(5)"
      ],
      "metadata": {
        "colab": {
          "base_uri": "https://localhost:8080/"
        },
        "id": "73_f8M9b8UxO",
        "outputId": "61b4b045-90d4-4d5c-ada0-1ca1fce526ec"
      },
      "execution_count": null,
      "outputs": [
        {
          "output_type": "execute_result",
          "data": {
            "text/plain": [
              "[[1, 0, 0, 0, 0],\n",
              " [0, 1, 0, 0, 0],\n",
              " [0, 0, 1, 0, 0],\n",
              " [0, 0, 0, 1, 0],\n",
              " [0, 0, 0, 0, 1]]"
            ]
          },
          "metadata": {},
          "execution_count": 24
        }
      ]
    },
    {
      "cell_type": "markdown",
      "source": [
        "# Exercício\n",
        "\n",
        "(Triângulo de Floyd) O seguinte triângulo formado por linhas de números consecutivos, cada linha contendo um número a mais que na linha anterior, é chamado de Triângulo de Floyd.\n",
        "\n",
        "```\n",
        "1\n",
        "2 3\n",
        "4 5 6\n",
        "7 8 9 10\n",
        "11 12 13 14 15\n",
        "16 17 18 19 20 21\n",
        "\n",
        "```"
      ],
      "metadata": {
        "id": "qMmhc6kbrlSZ"
      }
    },
    {
      "cell_type": "code",
      "source": [
        "\n",
        "\n",
        "  "
      ],
      "metadata": {
        "id": "PmJUUCpXN2Um"
      },
      "execution_count": null,
      "outputs": []
    },
    {
      "cell_type": "code",
      "source": [
        "\n",
        "\n",
        "  "
      ],
      "metadata": {
        "colab": {
          "base_uri": "https://localhost:8080/"
        },
        "id": "X7gkQmttEqds",
        "outputId": "5dc9ca93-9e5c-4a39-c0b3-b0f1cdbeb29d"
      },
      "execution_count": null,
      "outputs": [
        {
          "output_type": "stream",
          "name": "stdout",
          "text": [
            "[[5, 7, -1], [6, 0, -3], [-4, 3, 0]]\n",
            "True\n",
            "[[5, 7], [-4, 3]]\n"
          ]
        }
      ]
    },
    {
      "cell_type": "markdown",
      "source": [
        "# Exercício \n",
        "\n",
        "(Matriz válida)Faça uma função que verifica se uma matriz é válida.\n",
        "\n",
        "```python\n",
        "matriz_valida( [[1,2,3], [4,5,6] ] ) == True\n",
        "matriz_valida( [[1,2,3], [4,5,6,7] ] ) == False\n",
        "```"
      ],
      "metadata": {
        "id": "FClMvUldHZx9"
      }
    },
    {
      "cell_type": "code",
      "source": [],
      "metadata": {
        "id": "yDsRCl9kKvrF"
      },
      "execution_count": null,
      "outputs": []
    },
    {
      "cell_type": "markdown",
      "source": [
        "# Exercício\n",
        "\n",
        "(Matriz Quadrada) Faça uma função que verifica se uma matriz é quadrada.\n",
        "\n",
        "```python\n",
        "matriz_quadrada( [[1,2,3], [4,5,6] ] ) == False\n",
        "matriz_quadrada( [[1,2,3], [4,5,6,7] ] ) == False\n",
        "matriz_quadrada( [[1,2,3], [4,5,6] , [7,8,9]] ) == True\n",
        "\n",
        "```"
      ],
      "metadata": {
        "id": "1OVlnl7NFlxU"
      }
    },
    {
      "cell_type": "code",
      "source": [],
      "metadata": {
        "id": "rpI38eIgKwLF"
      },
      "execution_count": null,
      "outputs": []
    },
    {
      "cell_type": "markdown",
      "source": [
        "# Exercício\n",
        "(Matriz transposta)Dado uma matriz $A = (a_{ij})_{m \\times n}$ a transposta de A é $A^T = (b_{ji})_{n x m}$ tal que\n",
        "\n",
        "$$b_{ij} = a_{ji}$$\n",
        "\n",
        "Sendo,\n",
        "\n",
        "i: posição na linha\n",
        "\n",
        "j: posição na coluna\n",
        "\n",
        "aij: um elemento da matriz na posição ij\n",
        "\n",
        "m: número de linhas da matriz\n",
        "\n",
        "n: número de colunas da matriz\n",
        "\n",
        "$A^T$: matriz transposta de A\n",
        "\n",
        "Note que a matriz $A$ é de ordem $m \\times n$, enquanto sua transposta $A^T$ é de ordem $n \\times  m$.\n",
        "\n",
        "$ A = \\begin{bmatrix}\n",
        "1 & 5 \\\\\n",
        "7 & 3 \\\\\n",
        "8 & 2 \n",
        "\\end{bmatrix}  $\n",
        "\n",
        "$ A^T = \\begin{bmatrix}\n",
        "1 & 7 & 8 \\\\\n",
        "5 & 3 & 2 \n",
        "\\end{bmatrix}  $\n",
        "\n",
        "Faça uma função que recebe uma lista de listas representando uma matriz A e devolve uma lista de listas representando $A^T$."
      ],
      "metadata": {
        "id": "VCAbzUUe9wV8"
      }
    },
    {
      "cell_type": "markdown",
      "source": [
        "# Exercício\n",
        "\n",
        "(Matriz simétrica)Uma matriz é dita simétrica quando $A = A^T$.\n",
        "\n",
        "Faça uma função que verifica se uma matriz é simétrica."
      ],
      "metadata": {
        "id": "uYCtcy4RBenl"
      }
    },
    {
      "cell_type": "markdown",
      "source": [
        "#Exercício\n",
        "\n",
        "Dado uma matriz $A_{n \\times m}$, a matriz menor $M(A, i,j)_{ n-1 \\times n-1}$ é uma matriz obtida removendo a i-ésima linha e j-ésima coluna da matriz A.\n",
        "\n",
        "$\n",
        "A = \\begin{bmatrix}\n",
        "5 & 7 & -1 \\\\\n",
        "6 & 0 & -3 \\\\\n",
        "-4 & 3 & 0 \n",
        "\\end{bmatrix} \n",
        "$\n",
        "\n",
        "\n",
        "$\n",
        "M(A,0,0) = \\begin{bmatrix}\n",
        "0 & -3 \\\\\n",
        "3 & 0 \n",
        "\\end{bmatrix} \n",
        "$\n",
        "\n",
        "$\n",
        "M(A,1,2) = \\begin{bmatrix}\n",
        "5 & 7  \\\\\n",
        "-4 & 3  \\\\\n",
        "\\end{bmatrix} \n",
        "$\n",
        "\n",
        "\n",
        "\n",
        "\n"
      ],
      "metadata": {
        "id": "afyAp42wBuxV"
      }
    },
    {
      "cell_type": "markdown",
      "source": [
        "# Exercício \n",
        "Uma matriz quadrada inteira é chamada de quadrado mágico se a soma dos elementos de cada linha, a soma dos elementos de cada coluna e as soma dos elementos das diagonais principal e secundária são todos iguais.\n",
        "Exemplo: As matrizes abaixo são quadrados mágicos:\n",
        "\n",
        "$ \\begin{bmatrix}\n",
        "3 & 4 & 8 \\\\\n",
        "10 & 5 & 0 \\\\\n",
        "2 & 6 & 7 \n",
        "\\end{bmatrix}  $\n",
        "\n",
        "$ \\begin{bmatrix}\n",
        "1 & 1 & 1 \\\\\n",
        "1 & 1 & 1 \\\\\n",
        "1 & 1 & 1 \n",
        "\\end{bmatrix}  $\n",
        "\n",
        "Faça um programa que verifica se uma dada matriz quadrada lida é ou não um quadrado mágico."
      ],
      "metadata": {
        "id": "BsY11R17qu8V"
      }
    },
    {
      "cell_type": "markdown",
      "source": [
        "# Exercício\n",
        "Faça um programa que lê um inteiro positivo N e imprime um triângulo constituı́do por números com o seguinte formato.\n",
        "```\n",
        "6 5 4 3 2 1\n",
        "5 4 3 2 1\n",
        "4 3 2 1\n",
        "3 2 1\n",
        "2 1\n",
        "1\n",
        "```\n",
        "No caso a tabela foi impressa com valor de 6\n"
      ],
      "metadata": {
        "id": "v0nHaHjoshjm"
      }
    },
    {
      "cell_type": "markdown",
      "source": [
        "# Exercício\n",
        "\n",
        "Faça um programa que recebe duas listas de listas representando duas matrizes e devolva uma lista de lista representando a soma das duas matrizes.\n",
        "\n",
        "$ \\begin{bmatrix}\n",
        "5 & 7 & -1 \\\\\n",
        "6 & 0 & -3 \\\\\n",
        "-4 & 3 & 0 \n",
        "\\end{bmatrix}  + \\begin{bmatrix}\n",
        "0 & 3 & -5 \\\\\n",
        "2 & 0 & 0 \\\\\n",
        "-1 & -5 & 3 \n",
        "\\end{bmatrix} = \\begin{bmatrix}\n",
        "5 & 10 & -6 \\\\\n",
        "8 & 0 & -3 \\\\\n",
        "-5 & -2 & 3 \n",
        "\\end{bmatrix} $"
      ],
      "metadata": {
        "id": "nVQqdb-o67iG"
      }
    },
    {
      "cell_type": "markdown",
      "source": [
        "# Exercício\n",
        "\n",
        "Faça um programa que recebe duas listas de listas representando duas matrizes e devolva uma lista de lista representando a multiplicação das duas matrizes.\n",
        "\n",
        "$ \\begin{bmatrix}\n",
        "2 & 3 & 1 \\\\\n",
        "-1 & 0 & 2 \n",
        "\\end{bmatrix} \\times \\begin{bmatrix}\n",
        "1 & -2 \\\\\n",
        "0 & 5 \\\\\n",
        "4 & 1 \n",
        "\\end{bmatrix} = \\begin{bmatrix}\n",
        "6 & 12 \\\\\n",
        "7 & 4 \n",
        "\\end{bmatrix} $"
      ],
      "metadata": {
        "id": "4yuVBwIe8JFT"
      }
    },
    {
      "cell_type": "markdown",
      "metadata": {
        "id": "JIHd9rP2CvVh"
      },
      "source": [
        "# Listas por Compreensão\n",
        "\n",
        "Lista por compreensão é recurso sintático que permite criar uma nova lista baseada em uma lista anterior ou em um iterador.\n",
        "\n",
        "```python\n",
        "[x for x in range(10)] == [0,1,2,3,4,5,6,7,8,9]\n",
        "```\n",
        "```python\n",
        "[ (x,y) for x in [1,2,3] for y in [4,5]] == [(1, 4), (1, 5), (2, 4), (2, 5), (3, 4), (3, 5)]\n",
        "```\n",
        "```python\n",
        "[ x for x in range(1,11) if x%2 == 0] == [2, 4, 6, 8, 10]\n",
        "```\n",
        "\n",
        "\n",
        "\n",
        "\n",
        "\n"
      ]
    },
    {
      "cell_type": "markdown",
      "metadata": {
        "id": "vYkmbJg-Fiqt"
      },
      "source": [
        "# Exercício\n",
        "\n",
        "Faça um programa que recebe uma lista e devolve uma lista com a soma dos elementos consecutivos.\n",
        "\n",
        "\n",
        "somaConsecutivos ( [3,1,5,2] ) == [4,6,7]\n"
      ]
    },
    {
      "cell_type": "code",
      "metadata": {
        "colab": {
          "base_uri": "https://localhost:8080/"
        },
        "id": "rZDU6N2hFzYb",
        "outputId": "dd121550-26ca-407a-cd3f-24dba3535edf"
      },
      "source": [
        "\n"
      ],
      "execution_count": null,
      "outputs": [
        {
          "output_type": "stream",
          "text": [
            "[4, 6, 7, 10, 11]\n"
          ],
          "name": "stdout"
        }
      ]
    },
    {
      "cell_type": "markdown",
      "source": [
        "# Exercício\n",
        "\n",
        "1. Faça um programa que recebe um número e devolve uma lista dos seus divivsores.\n",
        "\n",
        "divisores(12) == [1,2,3,4,6,12]"
      ],
      "metadata": {
        "id": "yOfkBV7-JTgZ"
      }
    },
    {
      "cell_type": "markdown",
      "source": [
        "# Exercício\n",
        "\n",
        "\n",
        "2. Faça um programa que recebe um número e decide se ele é primo ou não.\n",
        "\n",
        "primo(11) == True"
      ],
      "metadata": {
        "id": "luxqE55oJYuK"
      }
    },
    {
      "cell_type": "markdown",
      "source": [
        "# Exercício\n",
        "\n",
        "\n",
        "\n",
        "3. Faça um programa que recebe um número e decide se ele é perfeito ou não.\n",
        "\n",
        "perfeito(6) == True"
      ],
      "metadata": {
        "id": "zt5h97wiJb_k"
      }
    },
    {
      "cell_type": "markdown",
      "source": [
        "# Exercício\n",
        "\n",
        "\n",
        "\n",
        "4. Faça um programa que recebe um número n e devolve uma lista de todos os primos até n\n",
        "\n",
        "lista_primo(10) = [2,3,5,7]"
      ],
      "metadata": {
        "id": "89xDVMTUJiTz"
      }
    },
    {
      "cell_type": "markdown",
      "source": [
        "# Dicionários\n",
        "\n",
        "* Dicionários são estruturas para armazenar dados. Não são sequências como strings, listas e tuplas.\n",
        "* São mapeamentos formados por pares de chave − valor.\n",
        " * Chave1 → Conteúdo1\n",
        " * Chave2 → Conteúdo2\n",
        " *Chave3 → Conteúdo3\n",
        "* Representam uma coleção não ordenada de valores onde cada valor é referenciado\n",
        "através de sua chave.\n"
      ],
      "metadata": {
        "id": "W2JTITzmvNwa"
      }
    },
    {
      "cell_type": "code",
      "source": [],
      "metadata": {
        "id": "mH8feDK0kPYI"
      },
      "execution_count": null,
      "outputs": []
    },
    {
      "cell_type": "code",
      "source": [
        "telefone = {}\n",
        "\n",
        "\n",
        "telefone[\"Joao\"] = \"99865-7896\"\n",
        "telefone[\"José\"] = \"99789-7896\"\n",
        "telefone[\"Arnaldo\"] = \"97894-7456\"\n",
        "\n",
        "\n",
        "print( telefone[\"Joao\"] )\n",
        "\n",
        "print( telefone.keys() )\n",
        "\n",
        "print( telefone.values() )\n",
        "\n",
        "print( telefone.items() )\n",
        "\n",
        "\n",
        "for chave, valor in telefone.items():\n",
        "    print( \"chave = {}, valor = {} \".format(chave,valor) )\n",
        "\n"
      ],
      "metadata": {
        "colab": {
          "base_uri": "https://localhost:8080/"
        },
        "id": "z3g1RpmJvrFF",
        "outputId": "46dc4d52-8411-427d-e6e9-65ce1a65d209"
      },
      "execution_count": null,
      "outputs": [
        {
          "output_type": "stream",
          "name": "stdout",
          "text": [
            "99865-7896\n",
            "dict_keys(['Joao', 'José', 'Arnaldo'])\n",
            "dict_values(['99865-7896', '99789-7896', '97894-7456'])\n",
            "dict_items([('Joao', '99865-7896'), ('José', '99789-7896'), ('Arnaldo', '97894-7456')])\n",
            "chave = Joao, valor = 99865-7896 \n",
            "chave = José, valor = 99789-7896 \n",
            "chave = Arnaldo, valor = 97894-7456 \n"
          ]
        }
      ]
    },
    {
      "cell_type": "markdown",
      "source": [
        "#Exercício \n",
        "\n",
        "Escreva uma função que receba uma frase como parâmetro e retorne um dicionário,\n",
        "onde cada chave seja um caracter e seu valor seja o número de vezes que o caracter aparece na frase lida.\n",
        "Exemplo:\n",
        "``` \n",
        "“Os ratos” → {“O”:1, “ “:1, “s”:2, “r”:1, “a”:1, “t”:1,”o”:1}\n",
        "```\n",
        "Faça uma versão usando while e outra usando for."
      ],
      "metadata": {
        "id": "UDJM2Egh5pe6"
      }
    },
    {
      "cell_type": "code",
      "source": [
        "def cria_dicionario(frase):\n",
        "  i = 0\n",
        "  dic = {} \n",
        "  while i < len(frase):\n",
        "    if frase[i] not in dic.keys():\n",
        "      dic[ frase[i] ] = 1\n",
        "    else:\n",
        "      dic[ frase[i] ] += 1\n",
        "    i += 1\n",
        "  return dic\n",
        "\n",
        "\n",
        "cria_dicionario(\"Os ratos\")"
      ],
      "metadata": {
        "colab": {
          "base_uri": "https://localhost:8080/"
        },
        "id": "sijI4uVL53e7",
        "outputId": "d0e954ad-8444-4929-8bbf-60c82b83d597"
      },
      "execution_count": null,
      "outputs": [
        {
          "output_type": "execute_result",
          "data": {
            "text/plain": [
              "{'O': 1, 's': 2, ' ': 1, 'r': 1, 'a': 1, 't': 1, 'o': 1}"
            ]
          },
          "metadata": {},
          "execution_count": 70
        }
      ]
    },
    {
      "cell_type": "code",
      "source": [
        "def cria_dicionario(frase):\n",
        "  i = 0\n",
        "  dic = {} \n",
        "  for c in frase:\n",
        "    if c not in dic.keys():\n",
        "      dic[ c ] = 1\n",
        "    else:\n",
        "      dic[ c ] += 1\n",
        "    i += 1\n",
        "  return dic\n",
        "\n",
        "\n",
        "cria_dicionario(\"Os ratos\")"
      ],
      "metadata": {
        "colab": {
          "base_uri": "https://localhost:8080/"
        },
        "id": "aXNBpuuE6YjV",
        "outputId": "95729239-e17c-434a-a36c-e87da96e42bf"
      },
      "execution_count": null,
      "outputs": [
        {
          "output_type": "execute_result",
          "data": {
            "text/plain": [
              "{'O': 1, 's': 2, ' ': 1, 'r': 1, 'a': 1, 't': 1, 'o': 1}"
            ]
          },
          "metadata": {},
          "execution_count": 71
        }
      ]
    },
    {
      "cell_type": "markdown",
      "source": [
        "# Numpy \n",
        "\n",
        "A biblioteca numpy prover várias funções para manipulação de vetores e matrizes.\n",
        "\n",
        "A função numpy.array converte uma lista em um vetor:\n",
        "\n",
        "```python\n",
        ">>> import numpy as np\n",
        ">>> x = np.array( [1,2,3,4])\n",
        ">>> x\n",
        "array([1, 2, 3, 4])\n",
        ">>> type(x)\n",
        "<class 'numpy.ndarray'>\n",
        ">>> x.shape\n",
        "(4,)\n",
        ">>> x = np.array( [ [1,2],[3,4]] )\n",
        ">>> x.shape\n",
        "(2, 2)\n",
        "\n",
        "```\n",
        "\n",
        "A função numpy.arange(start, stop, step) cria um vetor.\n",
        "\n",
        "```pythonn\n",
        ">>> np.arange(0, 1, 0.2)\n",
        "array([0. , 0.2, 0.4, 0.6, 0.8])\n",
        "```\n",
        "A função numpy.zeros(n) cria um vetor com zeros.\n",
        "\n",
        "```python\n",
        ">>> np.zeros( 4)\n",
        "array([0., 0., 0., 0.])\n",
        ">>> np.zeros( (3,3) )\n",
        "array([[0., 0., 0.],\n",
        "       [0., 0., 0.],\n",
        "       [0., 0., 0.]])\n",
        "```\n",
        "\n",
        "\n",
        "A função numpy.eyes devolve a matriz identidade:\n",
        "```\n",
        ">>> np.eye(3)\n",
        "array([[1., 0., 0.],\n",
        "       [0., 1., 0.],\n",
        "       [0., 0., 1.]])\n",
        "```\n"
      ],
      "metadata": {
        "id": "JBjuAdzP-Txd"
      }
    },
    {
      "cell_type": "markdown",
      "source": [
        "# Parametrização de notas\n",
        "\n",
        "Você é um professor que acabou de avaliar seus alunos em uma prova. Você acredita que fez o teste muito desafiador e a maioria dos alunos se saiu pior do que o esperado. Você decidiu que vai fazer uma parametrização das notas de todos. Será uma parametrização relativamente rudimentar, no entanto. Você pegará a maior nota será 10. \n"
      ],
      "metadata": {
        "id": "kLtM11W1-WNz"
      }
    },
    {
      "cell_type": "code",
      "source": [
        "import numpy as np\n",
        "def curve_grades(grades):\n",
        "  grades = np.array(grades) # criação do vetor\n",
        "  best_grade = max(grades) # pega a maior nota do vetor\n",
        "\n",
        "  grades = 10 * ( grades / best_grade) # vetorização \n",
        "  \n",
        "  # processo de realizar a mesma operação a todos os elementos do vetor\n",
        "  return grades\n",
        "\n",
        "curve_grades( [5.0 , 8.0, 6.7, 7.8 ] )"
      ],
      "metadata": {
        "id": "a2Cg_Fej-ZxO",
        "colab": {
          "base_uri": "https://localhost:8080/"
        },
        "outputId": "08d75a8c-dd55-4a71-b1ff-4de1f7df19eb"
      },
      "execution_count": null,
      "outputs": [
        {
          "output_type": "execute_result",
          "data": {
            "text/plain": [
              "array([ 6.25 , 10.   ,  8.375,  9.75 ])"
            ]
          },
          "metadata": {},
          "execution_count": 2
        }
      ]
    },
    {
      "cell_type": "markdown",
      "source": [
        "A função np.vectorize recebe uma função como parâmetro e devolve uma função vetorizada que recebe uma vetor numpy como entradas.\n",
        "\n",
        "```python\n",
        "def fatorial(n):\n",
        "  res = 1\n",
        "  for i in range(1,n+1):\n",
        "    res *= i\n",
        "  return res\n",
        "\n",
        "n = 10\n",
        "num = np.array( [x**i for i in range(0,n+1) ] )\n",
        "den = np.vectorize(fatorial)\n",
        "\n",
        "input = np.arange(0, n+1)\n",
        "\n",
        "print( np.sum( num/den(input))  )\n",
        "\n",
        "\n",
        "```"
      ],
      "metadata": {
        "id": "aHDdaiyEkP1I"
      }
    },
    {
      "cell_type": "code",
      "source": [
        "\n",
        "\n",
        "def fatorial(n):\n",
        "  res = 1\n",
        "  for i in range(1,n+1):\n",
        "    res *= i\n",
        "  return res\n",
        "\n",
        "x = 4\n",
        "n = 10\n",
        "num = np.array( [x**i for i in range(0,n+1) ] )\n",
        "den = np.vectorize(fatorial)\n",
        "input = np.arange(0, n+1)\n",
        "\n",
        "print( np.sum( num/den(input))  )\n",
        "\n",
        "\n"
      ],
      "metadata": {
        "colab": {
          "base_uri": "https://localhost:8080/"
        },
        "id": "3zi8UYsSkygK",
        "outputId": "f1967c57-82b2-4a4e-cdcd-fdc1ff8da7d5"
      },
      "execution_count": null,
      "outputs": [
        {
          "output_type": "stream",
          "name": "stdout",
          "text": [
            "54.44310405643739\n"
          ]
        }
      ]
    },
    {
      "cell_type": "markdown",
      "source": [
        "# Série de Maclaurin\n",
        "\n",
        "As séries de Maclaurian são uma forma de aproximar funções mais complicadas com uma série infinita de termos somandos em torno de zero\n",
        "\n",
        "Para $e^x$,  a série de Maclaurian é a seguinte soma:\n",
        "\n",
        "$$e^x = \\sum_{n=0}^{\\infty} \\frac{x^n}{n!} = 1 + x + \\frac{x^2}{2} + \\frac{x^3}{6} + \\ldots$$\n",
        "\n",
        "Vamos comparar o cálculo de $e^x$ usando for range, lista por compreensão e numpy."
      ],
      "metadata": {
        "id": "Uyvm5vd4-c4d"
      }
    },
    {
      "cell_type": "code",
      "source": [
        "import numpy as np\n",
        "from math import factorial\n",
        "\n",
        "def e_x_range(x, terms):\n",
        "  res = 0\n",
        "  for n in range(0, terms+1):\n",
        "    res = res + x**n/factorial(n)\n",
        "  return res\n",
        "\n",
        "\n",
        "def e_x_list(x, terms):\n",
        "  terms = [ x**n/factorial(n) for n in range(0,terms+1) ]\n",
        "  return sum(terms)\n",
        "\n",
        "fac = np.vectorize(factorial)\n",
        "  \n",
        "def e_x_numpy(x, terms):\n",
        "  n   = np.array( range(1,terms+1))\n",
        "  return np.sum( (x**n) / fac(n) )\n",
        "\n",
        "\n",
        "def time_this( f, args):\n",
        "  import time\n",
        "  start = time.time()  \n",
        "  f(*args) #use tuples\n",
        "  stop = time.time()\n",
        "  return stop-start\n",
        "\n",
        "num = 20\n",
        "print( np.math.exp(4) )\n",
        "print( \"e_x_range\", time_this( e_x_range , (4,num) ) )\n",
        "print( \"e_x_list\", time_this( e_x_list , (4,num) ) )\n",
        "print( \"e_x_numpy\", time_this( e_x_numpy , (4,num) ) )"
      ],
      "metadata": {
        "colab": {
          "base_uri": "https://localhost:8080/"
        },
        "id": "GswABV_t-x4I",
        "outputId": "993cecad-bcc7-4a34-c721-a13cd25aed10"
      },
      "execution_count": null,
      "outputs": [
        {
          "output_type": "stream",
          "name": "stdout",
          "text": [
            "54.598150033144236\n",
            "e_x_range 2.3126602172851562e-05\n",
            "e_x_list 2.6464462280273438e-05\n",
            "e_x_numpy 0.0002722740173339844\n"
          ]
        }
      ]
    },
    {
      "cell_type": "markdown",
      "source": [
        "# Resolução de sistemas lineares\n",
        "\n",
        "Resolva o seguinte sistema linear:\n",
        "\n",
        "$$\n",
        "\\begin{aligned}\n",
        "4x_1  - 2x_2 + x_3 & = & 11\\\\\n",
        "-2x_1 + 4x_2 - 2x_3 & =& 7 \\\\\n",
        "x_1 - 2x_2 + 4x_3 &=& 17\n",
        "\\end{aligned}\n",
        "$$"
      ],
      "metadata": {
        "id": "PXGYMQiw-3cR"
      }
    },
    {
      "cell_type": "code",
      "source": [
        "import numpy as np\n",
        "\n",
        "A = np.array( [[4,-2,1], [-2,4,-2] ,[ 1, -2 , 4]] ) \n",
        "\n",
        "b = np.array( [11,-16,17] )\n",
        "\n",
        "x = np.linalg.solve(A, b)\n",
        "\n",
        "print( A )\n",
        "print( A.shape )\n",
        "print( x )\n",
        "print( np.linalg.inv(A) )\n",
        "print( np.linalg.det(A) ) \n",
        "print( np.linalg.cond(A) )\n",
        "\n",
        "#check solution\n",
        "print( np.allclose( A.dot(x), b) )\n",
        "\n"
      ],
      "metadata": {
        "id": "oAtCOhZ0-4Do",
        "colab": {
          "base_uri": "https://localhost:8080/"
        },
        "outputId": "097f262e-0ee7-4a22-d919-135d8f17f57d"
      },
      "execution_count": null,
      "outputs": [
        {
          "output_type": "stream",
          "name": "stdout",
          "text": [
            "[[ 4 -2  1]\n",
            " [-2  4 -2]\n",
            " [ 1 -2  4]]\n",
            "(3, 3)\n",
            "[ 1. -2.  3.]\n",
            "[[0.33333333 0.16666667 0.        ]\n",
            " [0.16666667 0.41666667 0.16666667]\n",
            " [0.         0.16666667 0.33333333]]\n",
            "36.0\n",
            "4.529210992451762\n",
            "True\n"
          ]
        }
      ]
    },
    {
      "cell_type": "markdown",
      "source": [
        "\n",
        "# Exercício Cálculo $\\pi$\n",
        "\n",
        "\n",
        "O valor de $\\pi$ pode ser calculado através da série \n",
        "\n",
        "$$\\pi = \\frac{4}{1} - \\frac{4}{3} + \\frac{4}{5} - \\ldots$$\n",
        "\n",
        "Cada termo desta série tem um formato $(-1)^{k+1}\\frac{4}{2k-1}$ para $k = 1, 2, \\ldots$\n",
        "\n",
        "\n",
        "Calcule o valor de $\\pi$ tomando $n$ primeiros termos da série."
      ],
      "metadata": {
        "id": "f6knWpZnfC5b"
      }
    },
    {
      "cell_type": "code",
      "source": [
        "n = 1000\n",
        "num = 4* np.ones(n)\n",
        "den = np.arange(1, 2*n+1, 2)\n",
        "sinal = np.array( [ (-1)**(i+1) for i in range(1,n+1)] )\n",
        "pi = np.sum( num*sinal/den )\n",
        "print(pi)\n",
        "\n",
        "\n",
        "def t(k):\n",
        "  return (-1)**(k+1)*4/(2*k-1)\n",
        "\n",
        "termo = np.vectorize(t)\n",
        "\n",
        "print( np.sum( termo(np.arange(1, 1001) )) )\n"
      ],
      "metadata": {
        "colab": {
          "base_uri": "https://localhost:8080/"
        },
        "id": "tCM2MQotfEoJ",
        "outputId": "4b6cc0dd-88b8-458f-83db-0e9b063425f6"
      },
      "execution_count": null,
      "outputs": [
        {
          "output_type": "stream",
          "name": "stdout",
          "text": [
            "3.140592653839792\n",
            "3.140592653839792\n"
          ]
        }
      ]
    },
    {
      "cell_type": "markdown",
      "source": [],
      "metadata": {
        "id": "8dl6xRGupK8W"
      }
    },
    {
      "cell_type": "markdown",
      "source": [
        "# Exercício Série harmônica alternada\n",
        "\n",
        "A série harmônica alternada é definida da seguinte maneira:\n",
        "\n",
        "$$ \\sum_{k=1}^{\\infty} \\frac{(-1)^{k+1}}{k} = 1 - \\frac{1}{2} + \\frac{1}{3} - \\frac{1}{4}+\\frac{1}{5} + \\ldots = ln(2)$$\n",
        "\n",
        "Faça uma função **alt_harmonic(n)** que calcula uma aproximação para $ln(2)$ somando os n primeiras parcelas da série."
      ],
      "metadata": {
        "id": "2h4sN3n6h78A"
      }
    },
    {
      "cell_type": "code",
      "source": [],
      "metadata": {
        "id": "U7jjhs4pjWrr"
      },
      "execution_count": null,
      "outputs": []
    },
    {
      "cell_type": "markdown",
      "source": [
        "# Operação Matricial\n",
        "Desenhe um círculo e aplique uma transformação nos pontos dos círculos:\n",
        "\n",
        "\n",
        "```python\n",
        "import matplotlib.pyplot as plt\n",
        "import numpy as np\n",
        "\n",
        "\n",
        "def matrix_effect(A, x, y):\n",
        "  B = np.row_stack( (x,y) )\n",
        "  C = A.dot(B)\n",
        "  return (C[0,:], C[1,:])\n",
        "\n",
        "t = np.linspace(0,np.pi*2,100)\n",
        "x = np.cos(t)\n",
        "y = np.sin(t)\n",
        "\n",
        "fig, axs = plt.subplots(2)\n",
        "\n",
        "axs[0].plot(x,y,linewidth=2)\n",
        "\n",
        "A = np.array([\n",
        "    [2, 5],\n",
        "    [7, 3]\n",
        "])\n",
        "\n",
        "new_x, new_y = matrix_effect(A, x, y)\n",
        "axs[1].plot(new_x,new_y,linewidth=2)\n",
        "```\n",
        "![download.png](data:image/png;base64,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)\n",
        "\n",
        "\n",
        "\n",
        "\n",
        "\n"
      ],
      "metadata": {
        "id": "SgAhbS5gh7Oe"
      }
    },
    {
      "cell_type": "markdown",
      "source": [
        "# Decomposição em vetores singulares\n",
        "\n",
        "A decomposição em vetores singulares de uma matrix  M com dimensão $m \\times n$ é uma fatoração da forma $U \\Sigma V^T$ onde \n",
        "* $U$ é uma matriz coluna-ortonomal $m \\times r$, ou seja, cada uma de suas colunas é um vetor unitário e o produto interno de suas colunas é zero. \n",
        "* $\\Sigma$ é uma matriz diagonal $r \\times n$\n",
        "* $V^T$ é uma matriz linha ortonomal $n \\times n$, ou seja, cada uma das suas linhas é um vetor unitário e o produto interno de duas linhas é 0.\n",
        "\n",
        "```python\n",
        ">>> M = np.array( [[1,0,1,0],[0,1,0,1]])\n",
        ">>> U, s, Vt = LA.svd(M)\n",
        ">>> U\n",
        "array([[1., 0.],\n",
        "       [0., 1.]])\n",
        ">>> Vt\n",
        "array([[ 0.70710678,  0.        ,  0.70710678,  0.        ],\n",
        "       [ 0.        ,  0.70710678,  0.        ,  0.70710678],\n",
        "       [-0.70710678,  0.        ,  0.70710678,  0.        ],\n",
        "       [ 0.        , -0.70710678,  0.        ,  0.70710678]])\n",
        ">>> LA.norm( Vt[1, :] )\n",
        "0.9999999999999998\n",
        ">>> LA.norm( Vt[2, :] )\n",
        "0.9999999999999999\n",
        ">>> LA.norm( Vt[3, :] )\n",
        "0.9999999999999999\n",
        ">>> Vt[0, :].dot( Vt[1, : ]) \n",
        "0.0\n",
        ">>> s\n",
        "array([1.41421356, 1.41421356])\n",
        ">>> m, r = U.shape\n",
        ">>> n, n = Vt.shape\n",
        ">>> from scipy import linalg\n",
        ">>> Sig = linalg.diagsvd(s, r, n)\n",
        ">>> Sig\n",
        "array([[1.41421356, 0.        , 0.        , 0.        ],\n",
        "       [0.        , 1.41421356, 0.        , 0.        ]])\n",
        ">>> U.dot( Sig.dot(Vt))\n",
        "array([[1., 0., 1., 0.],\n",
        "       [0., 1., 0., 1.]])\n",
        "```"
      ],
      "metadata": {
        "id": "Ulk4aNjhp3J0"
      }
    },
    {
      "cell_type": "code",
      "source": [
        "import numpy as np\n",
        "import pandas as pd\n",
        "import cv2 as cv \n",
        "from google.colab.patches import cv2_imshow # for image display\n",
        "from skimage import io\n",
        "from PIL import Image \n",
        "import matplotlib.pylab as plt\n",
        "\n",
        "\n",
        "url = \"https://images.all-free-download.com/images/graphiclarge/cute_cat_03_hd_pictures_168993.jpg\"\n",
        "image = io.imread(url)\n",
        "image_2 = cv.cvtColor(image, cv.COLOR_BGR2GRAY)\n",
        "#cv2_imshow(image_2)\n",
        "\n",
        "print( type(image_2) )\n",
        "print( image_2.shape )\n",
        "\n",
        "U, D, V = np.linalg.svd(image_2) \n",
        "#print(D)\n",
        "#print(D.size )\n",
        "\n",
        "\n",
        "figsize = (20,15)\n",
        "rows = 1\n",
        "cols = 5\n",
        "axs = plt.figure( figsize= figsize ).subplots(rows, cols)\n",
        "cases = [10, 30 ,50 , 482 , 562 ]\n",
        "\n",
        "\n",
        "\n",
        "for ax, i  in zip( axs, cases):\n",
        "  \n",
        "  reconstimg = np.matrix(U[:, :i]) * np.diag(D[:i]) * np.matrix(V[:i, :])\n",
        "  ax.imshow(reconstimg, cmap='gray')\n",
        "  title = \"n = %s\" % i\n",
        "  ax.set_title(title)\n",
        "  \n",
        "\n",
        "plt.show()\n",
        "  \n"
      ],
      "metadata": {
        "colab": {
          "base_uri": "https://localhost:8080/",
          "height": 281
        },
        "id": "4B_g4a8hqDLx",
        "outputId": "b31e7e2a-61a0-4c3b-8bef-f555cc7fb20e"
      },
      "execution_count": null,
      "outputs": [
        {
          "output_type": "stream",
          "name": "stdout",
          "text": [
            "<class 'numpy.ndarray'>\n",
            "(562, 600)\n"
          ]
        },
        {
          "output_type": "display_data",
          "data": {
            "text/plain": [
              "<Figure size 1440x1080 with 5 Axes>"
            ],
            "image/png": "[encoded data removed]"
          },
          "metadata": {
            "needs_background": "light"
          }
        }
      ]
    },
    {
      "cell_type": "markdown",
      "source": [
        "# Pandas\n",
        "\n",
        "A biblioteca pandas prover funções para a criação e manipulação dos data frames. Em um data.frame cada coluna representa uma variável e cada linha uma observação (valores para as variáveis).\n",
        "\n",
        "```python\n",
        "import pandas as pd\n",
        "\n",
        "df = pd.DataFrame( {'nome' : ['João', 'Pedro', 'Amanda'], \n",
        " 'altura' : [1.80, 1.77,1.71],\n",
        " 'idade'  : [22,21,18],\n",
        " 'sexo'   : ['M', 'M', 'F']\n",
        "})\n",
        "\n",
        "print(df)\n",
        "\n",
        "df.describe()\n",
        "```\n",
        "\n",
        "A função pd.DataFrame.describe apresenta algumas informações estatísticas sobre os dados armazenados.\n",
        "```python\n",
        "     nome  altura  idade sexo\n",
        "0    João    1.80     22    M\n",
        "1   Pedro    1.77     21    M\n",
        "2  Amanda    1.71     18    F\n",
        "altura\tidade\n",
        "count\t3.000000\t3.000000\n",
        "mean\t1.760000\t20.333333\n",
        "std\t0.045826\t2.081666\n",
        "min\t1.710000\t18.000000\n",
        "25%\t1.740000\t19.500000\n",
        "50%\t1.770000\t21.000000\n",
        "75%\t1.785000\t21.500000\n",
        "max\t1.800000\t22.000000\n",
        "```\n",
        "\n",
        "Os dados de uma coluna podem ser acessados diretamente e também podemos fazer perguntas sobre os dados.\n",
        "\n",
        "```python\n",
        "import pandas as pd\n",
        "\n",
        "df = pd.DataFrame( {'nome' : ['João', 'Pedro', 'Amanda'], \n",
        " 'altura' : [1.80, 1.77,1.71],\n",
        " 'idade'  : [22,21,18],\n",
        " 'sexo'   : ['M', 'M', 'F']\n",
        "})\n",
        "\n",
        "print( df['nome'] )\n",
        "print( df[ df['idade'] > 18] )\n",
        "\n",
        "```\n",
        "\n",
        "Saída:\n",
        "```\n",
        "0      João\n",
        "1     Pedro\n",
        "2    Amanda\n",
        "Name: nome, dtype: object\n",
        "    nome  altura  idade sexo\n",
        "0   João    1.80     22    M\n",
        "1  Pedro    1.77     21    M\n",
        "```\n",
        "\n",
        "Podemos adicionar novas colunas de dados:\n",
        "\n",
        "```python\n",
        "import pandas as pd\n",
        "\n",
        "df = pd.DataFrame( {'nome' : ['João', 'Pedro', 'Amanda'], \n",
        " 'altura' : [1.80, 1.77,1.71],\n",
        " 'idade'  : [22,21,18],\n",
        " 'sexo'   : ['M', 'M', 'F']\n",
        "})\n",
        "\n",
        "df['peso'] = [78.3, 82.1, 66.5]\n",
        "\n",
        "print(df)\n",
        "\n",
        "```\n",
        "saída:\n",
        "\n",
        "```python\n",
        "    nome  altura  idade sexo  peso\n",
        "0    João    1.80     22    M  78.3\n",
        "1   Pedro    1.77     21    M  82.1\n",
        "2  Amanda    1.71     18    F  66.5\n",
        "```\n",
        "\n",
        "Podemos adicionar novas variáveis a partir de informações prévias:\n",
        "\n",
        "```pyhton\n",
        "import pandas as pd\n",
        "\n",
        "df = pd.DataFrame( {'nome' : ['João', 'Pedro', 'Amanda'], \n",
        " 'altura' : [1.80, 1.77,1.71],\n",
        " 'idade'  : [22,21,18],\n",
        " 'sexo'   : ['M', 'M', 'F']\n",
        "})\n",
        "\n",
        "df['peso'] = [78.3, 82.1, 66.5]\n",
        "df['imc']  = df['peso'] / df['altura']**2\n",
        "print(df)\n",
        "```\n",
        "\n",
        "Saída:\n",
        "```\n",
        "     nome  altura  idade sexo  peso        imc\n",
        "0    João    1.80     22    M  78.3  24.166667\n",
        "1   Pedro    1.77     21    M  82.1  26.205752\n",
        "2  Amanda    1.71     18    F  66.5  22.742040\n",
        "```\n",
        "\n",
        "Você pode ler dados no formato csv:\n",
        "\n",
        "```python\n",
        "import numpy as np\n",
        "\n",
        "import pandas as pd\n",
        "\n",
        "url = \"https://juejung.github.io/jdocs/Comp/html/_downloads/66ad2a5fc21a463e267163745790f8d3/Lecture_Data_Excel_a.csv\"\n",
        "\n",
        "df = pd.read_csv( url)\n",
        "\n",
        "print(df)\n",
        "\n",
        "print(df.dtypes )\n",
        "\n",
        "df.describe()\n",
        "\n",
        "df['Frequency'] = df['Frequency'].astype(float)\n",
        "\n",
        "print(df.dtypes )\n",
        "```\n",
        "Saída\n",
        "\n",
        "```python\n",
        "                 Area  Frequency  Unnamed: 2  Unnamed: 3\n",
        "0          Accounting         73         NaN         NaN\n",
        "1             Finance         52         NaN         NaN\n",
        "2  General management         36         NaN         NaN\n",
        "3     Marketing sales         64         NaN         NaN\n",
        "4               other         28         NaN         NaN\n",
        "Area           object\n",
        "Frequency       int64\n",
        "Unnamed: 2    float64\n",
        "Unnamed: 3    float64\n",
        "dtype: object\n",
        "Area           object\n",
        "Frequency     float64\n",
        "Unnamed: 2    float64\n",
        "Unnamed: 3    float64\n",
        "dtype: object\n",
        "```\n",
        "\n",
        "Cada coluna de um data frame é representado como o tipo pandas.Series. Segundo a documentação, um pandas.Series é um vetor unidimensional com eixos rotulados \n",
        "\n",
        "```python\n",
        "vimport pandas as pd\n",
        "import numpy as np\n",
        "\n",
        "ser = pd.Series([ 2, 3, 4, np.nan, np.nan, 6] )\n",
        "\n",
        "print(ser)\n",
        "\n",
        "print(ser.isnull() )\n",
        "\n",
        "print(ser.isnull().sum() )\n",
        "\n",
        "print( ser.isnull().values)\n",
        "\n",
        "print( ser.isnull().values.any() )\n",
        "\n",
        "\n",
        "```\n",
        "\n",
        "Adicionando novas observações\n",
        "\n",
        "```python\n",
        "import pandas as pd\n",
        "\n",
        "df = pd.DataFrame( {'nome' : ['João', 'Pedro', 'Amanda'], \n",
        " 'altura' : [1.80, 1.77,1.71],\n",
        " 'idade'  : [22,21,18],\n",
        " 'sexo'   : ['M', 'M', 'F']\n",
        "})\n",
        "\n",
        "\n",
        "\n",
        "df['peso'] = [78.3, 82.1, 66.5]\n",
        "df['imc']  = df['peso'] / df['altura']**2\n",
        "\n",
        "df = df.append( pd.Series(['Fabio',1.65,20,'M',88.1, 88.1/1.65**2] , index = df.columns ), ignore_index=True )\n",
        "\n",
        "print(df)\n",
        "\n",
        "```\n",
        "\n",
        "Saída\n",
        "\n",
        "```\n",
        "    nome  altura  idade sexo  peso        imc\n",
        "0    João    1.80     22    M  78.3  24.166667\n",
        "1   Pedro    1.77     21    M  82.1  26.205752\n",
        "2  Amanda    1.71     18    F  66.5  22.742040\n",
        "3   Fabio    1.65     20    M  88.1  32.359963\n",
        "```\n",
        "\n",
        "Remoção de colunas, linhas, adicionandos valores faltando, etc\n",
        "\n",
        "```python\n",
        "import pandas as pd\n",
        "\n",
        "df = pd.DataFrame( {'nome' : ['João', 'Pedro', 'Amanda'], \n",
        " 'altura' : [1.80, 1.77,1.71],\n",
        " 'idade'  : [22,21,18],\n",
        " 'sexo'   : ['M', 'M', 'F']\n",
        "})\n",
        "\n",
        "\n",
        "\n",
        "df['peso'] = [78.3, 82.1, 66.5]\n",
        "df['imc']  = df['peso'] / df['altura']**2\n",
        "\n",
        "df = df.append( pd.Series(['Fabio',1.65,20,'M',88.1, 88.1/1.65**2] , index = df.columns ), ignore_index=True )\n",
        "\n",
        "print('removendo coluna imc')\n",
        "print( df.drop('imc', 1) )\n",
        "print('removendo linha 0')\n",
        "print( df.drop(0, 0) )\n",
        "print('adicionando coluna com valores faltando ')\n",
        "df['renda'] = [20000, np.nan, 15000, np.nan]\n",
        "print(df)\n",
        "\n",
        "print('devolve o número de linhas sem elementos faltando')\n",
        "print( df.dropna().shape[0] )\n",
        "\n",
        "print('couting rows with missing values')\n",
        "nans = df.shape[0] - df.dropna().shape[0]\n",
        "print(nans)\n",
        "\n",
        "print('seleciona as linhas com valores não informados')\n",
        "print(df[df.isnull().any(axis=1)])\n",
        "\n",
        "print(df[df['renda'].isnull()])\n",
        "\n",
        "print(df[df['renda'].notnull()])\n",
        "\n",
        "df = df.append( pd.Series(['Maria',1.65,20,'M',np.nan, np.nan, 7000] , index = df.columns ), ignore_index=True )\n",
        "\n",
        "print(df)\n",
        "\n",
        "print('seleciona as linhas com valores não informados')\n",
        "print(df[df.isnull().any(axis=1)])\n",
        "\n",
        "df.sort_values('renda', ascending=False, inplace=True) \n",
        "\n",
        "print(df)\n",
        "```\n",
        "\n",
        "Saída:\n",
        "\n",
        "```\n",
        "removendo coluna imc\n",
        "     nome  altura  idade sexo  peso\n",
        "0    João    1.80     22    M  78.3\n",
        "1   Pedro    1.77     21    M  82.1\n",
        "2  Amanda    1.71     18    F  66.5\n",
        "3   Fabio    1.65     20    M  88.1\n",
        "removendo linha 0\n",
        "     nome  altura  idade sexo  peso        imc\n",
        "1   Pedro    1.77     21    M  82.1  26.205752\n",
        "2  Amanda    1.71     18    F  66.5  22.742040\n",
        "3   Fabio    1.65     20    M  88.1  32.359963\n",
        "adicionando coluna com valores faltando \n",
        "     nome  altura  idade sexo  peso        imc    renda\n",
        "0    João    1.80     22    M  78.3  24.166667  20000.0\n",
        "1   Pedro    1.77     21    M  82.1  26.205752      NaN\n",
        "2  Amanda    1.71     18    F  66.5  22.742040  15000.0\n",
        "3   Fabio    1.65     20    M  88.1  32.359963      NaN\n",
        "devolve o número de linhas sem elementos faltando\n",
        "2\n",
        "couting rows with missing values\n",
        "2\n",
        "seleciona as linhas com valores não informados\n",
        "    nome  altura  idade sexo  peso        imc  renda\n",
        "1  Pedro    1.77     21    M  82.1  26.205752    NaN\n",
        "3  Fabio    1.65     20    M  88.1  32.359963    NaN\n",
        "    nome  altura  idade sexo  peso        imc  renda\n",
        "1  Pedro    1.77     21    M  82.1  26.205752    NaN\n",
        "3  Fabio    1.65     20    M  88.1  32.359963    NaN\n",
        "     nome  altura  idade sexo  peso        imc    renda\n",
        "0    João    1.80     22    M  78.3  24.166667  20000.0\n",
        "2  Amanda    1.71     18    F  66.5  22.742040  15000.0\n",
        "     nome  altura  idade sexo  peso        imc    renda\n",
        "0    João    1.80     22    M  78.3  24.166667  20000.0\n",
        "1   Pedro    1.77     21    M  82.1  26.205752      NaN\n",
        "2  Amanda    1.71     18    F  66.5  22.742040  15000.0\n",
        "3   Fabio    1.65     20    M  88.1  32.359963      NaN\n",
        "4   Maria    1.65     20    M   NaN        NaN   7000.0\n",
        "seleciona as linhas com valores não informados\n",
        "    nome  altura  idade sexo  peso        imc   renda\n",
        "1  Pedro    1.77     21    M  82.1  26.205752     NaN\n",
        "3  Fabio    1.65     20    M  88.1  32.359963     NaN\n",
        "4  Maria    1.65     20    M   NaN        NaN  7000.0\n",
        "     nome  altura  idade sexo  peso        imc    renda\n",
        "0    João    1.80     22    M  78.3  24.166667  20000.0\n",
        "2  Amanda    1.71     18    F  66.5  22.742040  15000.0\n",
        "4   Maria    1.65     20    M   NaN        NaN   7000.0\n",
        "1   Pedro    1.77     21    M  82.1  26.205752      NaN\n",
        "3   Fabio    1.65     20    M  88.1  32.359963      NaN\n",
        "```\n",
        " "
      ],
      "metadata": {
        "id": "KhhYMFXYq7gE"
      }
    },
    {
      "cell_type": "markdown",
      "source": [
        "# Censo da Califórnia de 1990"
      ],
      "metadata": {
        "id": "cSXZdxhiM-ui"
      }
    },
    {
      "cell_type": "code",
      "source": [
        "import pandas as pd\n",
        "\n",
        "# leitura de dados\n",
        "df_train = pd.read_csv(\"/content/sample_data/california_housing_train.csv\", low_memory=False)\n",
        "\n",
        "# shape \n",
        "print( df_train.shape  )\n",
        "#colunas\n",
        "print( df_train.columns )\n",
        "#primeiras linhas\n",
        "df_train.head(10)"
      ],
      "metadata": {
        "colab": {
          "base_uri": "https://localhost:8080/",
          "height": 455
        },
        "id": "3sXvon7H1IGT",
        "outputId": "307fa04a-6f9d-45a3-8755-90f1e6d18c2d"
      },
      "execution_count": 4,
      "outputs": [
        {
          "output_type": "stream",
          "name": "stdout",
          "text": [
            "(17000, 9)\n",
            "Index(['longitude', 'latitude', 'housing_median_age', 'total_rooms',\n",
            "       'total_bedrooms', 'population', 'households', 'median_income',\n",
            "       'median_house_value'],\n",
            "      dtype='object')\n"
          ]
        },
        {
          "output_type": "execute_result",
          "data": {
            "text/plain": [
              "   longitude  latitude  housing_median_age  total_rooms  total_bedrooms  \\\n",
              "0    -114.31     34.19                15.0       5612.0          1283.0   \n",
              "1    -114.47     34.40                19.0       7650.0          1901.0   \n",
              "2    -114.56     33.69                17.0        720.0           174.0   \n",
              "3    -114.57     33.64                14.0       1501.0           337.0   \n",
              "4    -114.57     33.57                20.0       1454.0           326.0   \n",
              "5    -114.58     33.63                29.0       1387.0           236.0   \n",
              "6    -114.58     33.61                25.0       2907.0           680.0   \n",
              "7    -114.59     34.83                41.0        812.0           168.0   \n",
              "8    -114.59     33.61                34.0       4789.0          1175.0   \n",
              "9    -114.60     34.83                46.0       1497.0           309.0   \n",
              "\n",
              "   population  households  median_income  median_house_value  \n",
              "0      1015.0       472.0         1.4936             66900.0  \n",
              "1      1129.0       463.0         1.8200             80100.0  \n",
              "2       333.0       117.0         1.6509             85700.0  \n",
              "3       515.0       226.0         3.1917             73400.0  \n",
              "4       624.0       262.0         1.9250             65500.0  \n",
              "5       671.0       239.0         3.3438             74000.0  \n",
              "6      1841.0       633.0         2.6768             82400.0  \n",
              "7       375.0       158.0         1.7083             48500.0  \n",
              "8      3134.0      1056.0         2.1782             58400.0  \n",
              "9       787.0       271.0         2.1908             48100.0  "
            ],
            "text/html": [
              "\n",
              "  <div id=\"df-581136e3-e823-4930-96ff-73a0f119d5fe\">\n",
              "    <div class=\"colab-df-container\">\n",
              "      <div>\n",
              "<style scoped>\n",
              "    .dataframe tbody tr th:only-of-type {\n",
              "        vertical-align: middle;\n",
              "    }\n",
              "\n",
              "    .dataframe tbody tr th {\n",
              "        vertical-align: top;\n",
              "    }\n",
              "\n",
              "    .dataframe thead th {\n",
              "        text-align: right;\n",
              "    }\n",
              "</style>\n",
              "<table border=\"1\" class=\"dataframe\">\n",
              "  <thead>\n",
              "    <tr style=\"text-align: right;\">\n",
              "      <th></th>\n",
              "      <th>longitude</th>\n",
              "      <th>latitude</th>\n",
              "      <th>housing_median_age</th>\n",
              "      <th>total_rooms</th>\n",
              "      <th>total_bedrooms</th>\n",
              "      <th>population</th>\n",
              "      <th>households</th>\n",
              "      <th>median_income</th>\n",
              "      <th>median_house_value</th>\n",
              "    </tr>\n",
              "  </thead>\n",
              "  <tbody>\n",
              "    <tr>\n",
              "      <th>0</th>\n",
              "      <td>-114.31</td>\n",
              "      <td>34.19</td>\n",
              "      <td>15.0</td>\n",
              "      <td>5612.0</td>\n",
              "      <td>1283.0</td>\n",
              "      <td>1015.0</td>\n",
              "      <td>472.0</td>\n",
              "      <td>1.4936</td>\n",
              "      <td>66900.0</td>\n",
              "    </tr>\n",
              "    <tr>\n",
              "      <th>1</th>\n",
              "      <td>-114.47</td>\n",
              "      <td>34.40</td>\n",
              "      <td>19.0</td>\n",
              "      <td>7650.0</td>\n",
              "      <td>1901.0</td>\n",
              "      <td>1129.0</td>\n",
              "      <td>463.0</td>\n",
              "      <td>1.8200</td>\n",
              "      <td>80100.0</td>\n",
              "    </tr>\n",
              "    <tr>\n",
              "      <th>2</th>\n",
              "      <td>-114.56</td>\n",
              "      <td>33.69</td>\n",
              "      <td>17.0</td>\n",
              "      <td>720.0</td>\n",
              "      <td>174.0</td>\n",
              "      <td>333.0</td>\n",
              "      <td>117.0</td>\n",
              "      <td>1.6509</td>\n",
              "      <td>85700.0</td>\n",
              "    </tr>\n",
              "    <tr>\n",
              "      <th>3</th>\n",
              "      <td>-114.57</td>\n",
              "      <td>33.64</td>\n",
              "      <td>14.0</td>\n",
              "      <td>1501.0</td>\n",
              "      <td>337.0</td>\n",
              "      <td>515.0</td>\n",
              "      <td>226.0</td>\n",
              "      <td>3.1917</td>\n",
              "      <td>73400.0</td>\n",
              "    </tr>\n",
              "    <tr>\n",
              "      <th>4</th>\n",
              "      <td>-114.57</td>\n",
              "      <td>33.57</td>\n",
              "      <td>20.0</td>\n",
              "      <td>1454.0</td>\n",
              "      <td>326.0</td>\n",
              "      <td>624.0</td>\n",
              "      <td>262.0</td>\n",
              "      <td>1.9250</td>\n",
              "      <td>65500.0</td>\n",
              "    </tr>\n",
              "    <tr>\n",
              "      <th>5</th>\n",
              "      <td>-114.58</td>\n",
              "      <td>33.63</td>\n",
              "      <td>29.0</td>\n",
              "      <td>1387.0</td>\n",
              "      <td>236.0</td>\n",
              "      <td>671.0</td>\n",
              "      <td>239.0</td>\n",
              "      <td>3.3438</td>\n",
              "      <td>74000.0</td>\n",
              "    </tr>\n",
              "    <tr>\n",
              "      <th>6</th>\n",
              "      <td>-114.58</td>\n",
              "      <td>33.61</td>\n",
              "      <td>25.0</td>\n",
              "      <td>2907.0</td>\n",
              "      <td>680.0</td>\n",
              "      <td>1841.0</td>\n",
              "      <td>633.0</td>\n",
              "      <td>2.6768</td>\n",
              "      <td>82400.0</td>\n",
              "    </tr>\n",
              "    <tr>\n",
              "      <th>7</th>\n",
              "      <td>-114.59</td>\n",
              "      <td>34.83</td>\n",
              "      <td>41.0</td>\n",
              "      <td>812.0</td>\n",
              "      <td>168.0</td>\n",
              "      <td>375.0</td>\n",
              "      <td>158.0</td>\n",
              "      <td>1.7083</td>\n",
              "      <td>48500.0</td>\n",
              "    </tr>\n",
              "    <tr>\n",
              "      <th>8</th>\n",
              "      <td>-114.59</td>\n",
              "      <td>33.61</td>\n",
              "      <td>34.0</td>\n",
              "      <td>4789.0</td>\n",
              "      <td>1175.0</td>\n",
              "      <td>3134.0</td>\n",
              "      <td>1056.0</td>\n",
              "      <td>2.1782</td>\n",
              "      <td>58400.0</td>\n",
              "    </tr>\n",
              "    <tr>\n",
              "      <th>9</th>\n",
              "      <td>-114.60</td>\n",
              "      <td>34.83</td>\n",
              "      <td>46.0</td>\n",
              "      <td>1497.0</td>\n",
              "      <td>309.0</td>\n",
              "      <td>787.0</td>\n",
              "      <td>271.0</td>\n",
              "      <td>2.1908</td>\n",
              "      <td>48100.0</td>\n",
              "    </tr>\n",
              "  </tbody>\n",
              "</table>\n",
              "</div>\n",
              "      <button class=\"colab-df-convert\" onclick=\"convertToInteractive('df-581136e3-e823-4930-96ff-73a0f119d5fe')\"\n",
              "              title=\"Convert this dataframe to an interactive table.\"\n",
              "              style=\"display:none;\">\n",
              "        \n",
              "  <svg xmlns=\"http://www.w3.org/2000/svg\" height=\"24px\"viewBox=\"0 0 24 24\"\n",
              "       width=\"24px\">\n",
              "    <path d=\"M0 0h24v24H0V0z\" fill=\"none\"/>\n",
              "    <path d=\"M18.56 5.44l.94 2.06.94-2.06 2.06-.94-2.06-.94-.94-2.06-.94 2.06-2.06.94zm-11 1L8.5 8.5l.94-2.06 2.06-.94-2.06-.94L8.5 2.5l-.94 2.06-2.06.94zm10 10l.94 2.06.94-2.06 2.06-.94-2.06-.94-.94-2.06-.94 2.06-2.06.94z\"/><path d=\"M17.41 7.96l-1.37-1.37c-.4-.4-.92-.59-1.43-.59-.52 0-1.04.2-1.43.59L10.3 9.45l-7.72 7.72c-.78.78-.78 2.05 0 2.83L4 21.41c.39.39.9.59 1.41.59.51 0 1.02-.2 1.41-.59l7.78-7.78 2.81-2.81c.8-.78.8-2.07 0-2.86zM5.41 20L4 18.59l7.72-7.72 1.47 1.35L5.41 20z\"/>\n",
              "  </svg>\n",
              "      </button>\n",
              "      \n",
              "  <style>\n",
              "    .colab-df-container {\n",
              "      display:flex;\n",
              "      flex-wrap:wrap;\n",
              "      gap: 12px;\n",
              "    }\n",
              "\n",
              "    .colab-df-convert {\n",
              "      background-color: #E8F0FE;\n",
              "      border: none;\n",
              "      border-radius: 50%;\n",
              "      cursor: pointer;\n",
              "      display: none;\n",
              "      fill: #1967D2;\n",
              "      height: 32px;\n",
              "      padding: 0 0 0 0;\n",
              "      width: 32px;\n",
              "    }\n",
              "\n",
              "    .colab-df-convert:hover {\n",
              "      background-color: #E2EBFA;\n",
              "      box-shadow: 0px 1px 2px rgba(60, 64, 67, 0.3), 0px 1px 3px 1px rgba(60, 64, 67, 0.15);\n",
              "      fill: #174EA6;\n",
              "    }\n",
              "\n",
              "    [theme=dark] .colab-df-convert {\n",
              "      background-color: #3B4455;\n",
              "      fill: #D2E3FC;\n",
              "    }\n",
              "\n",
              "    [theme=dark] .colab-df-convert:hover {\n",
              "      background-color: #434B5C;\n",
              "      box-shadow: 0px 1px 3px 1px rgba(0, 0, 0, 0.15);\n",
              "      filter: drop-shadow(0px 1px 2px rgba(0, 0, 0, 0.3));\n",
              "      fill: #FFFFFF;\n",
              "    }\n",
              "  </style>\n",
              "\n",
              "      <script>\n",
              "        const buttonEl =\n",
              "          document.querySelector('#df-581136e3-e823-4930-96ff-73a0f119d5fe button.colab-df-convert');\n",
              "        buttonEl.style.display =\n",
              "          google.colab.kernel.accessAllowed ? 'block' : 'none';\n",
              "\n",
              "        async function convertToInteractive(key) {\n",
              "          const element = document.querySelector('#df-581136e3-e823-4930-96ff-73a0f119d5fe');\n",
              "          const dataTable =\n",
              "            await google.colab.kernel.invokeFunction('convertToInteractive',\n",
              "                                                     [key], {});\n",
              "          if (!dataTable) return;\n",
              "\n",
              "          const docLinkHtml = 'Like what you see? Visit the ' +\n",
              "            '<a target=\"_blank\" href=https://colab.research.google.com/notebooks/data_table.ipynb>data table notebook</a>'\n",
              "            + ' to learn more about interactive tables.';\n",
              "          element.innerHTML = '';\n",
              "          dataTable['output_type'] = 'display_data';\n",
              "          await google.colab.output.renderOutput(dataTable, element);\n",
              "          const docLink = document.createElement('div');\n",
              "          docLink.innerHTML = docLinkHtml;\n",
              "          element.appendChild(docLink);\n",
              "        }\n",
              "      </script>\n",
              "    </div>\n",
              "  </div>\n",
              "  "
            ]
          },
          "metadata": {},
          "execution_count": 4
        }
      ]
    },
    {
      "cell_type": "code",
      "source": [
        "df_train.info()\n",
        "\n"
      ],
      "metadata": {
        "colab": {
          "base_uri": "https://localhost:8080/"
        },
        "id": "elavku9O1PNY",
        "outputId": "7fc2d8f0-12ec-4cda-deef-6e58b6e652da"
      },
      "execution_count": 11,
      "outputs": [
        {
          "output_type": "stream",
          "name": "stdout",
          "text": [
            "<class 'pandas.core.frame.DataFrame'>\n",
            "RangeIndex: 17000 entries, 0 to 16999\n",
            "Data columns (total 9 columns):\n",
            " #   Column              Non-Null Count  Dtype  \n",
            "---  ------              --------------  -----  \n",
            " 0   longitude           17000 non-null  float64\n",
            " 1   latitude            17000 non-null  float64\n",
            " 2   housing_median_age  17000 non-null  float64\n",
            " 3   total_rooms         17000 non-null  float64\n",
            " 4   total_bedrooms      17000 non-null  float64\n",
            " 5   population          17000 non-null  float64\n",
            " 6   households          17000 non-null  float64\n",
            " 7   median_income       17000 non-null  float64\n",
            " 8   median_house_value  17000 non-null  float64\n",
            "dtypes: float64(9)\n",
            "memory usage: 1.2 MB\n"
          ]
        }
      ]
    },
    {
      "cell_type": "code",
      "source": [
        "df_train.describe()"
      ],
      "metadata": {
        "colab": {
          "base_uri": "https://localhost:8080/",
          "height": 300
        },
        "id": "9_ELgouLQTXw",
        "outputId": "34f9d1cd-8532-49b8-eb8b-f35cb50e4cd1"
      },
      "execution_count": 12,
      "outputs": [
        {
          "output_type": "execute_result",
          "data": {
            "text/plain": [
              "          longitude      latitude  housing_median_age   total_rooms  \\\n",
              "count  17000.000000  17000.000000        17000.000000  17000.000000   \n",
              "mean    -119.562108     35.625225           28.589353   2643.664412   \n",
              "std        2.005166      2.137340           12.586937   2179.947071   \n",
              "min     -124.350000     32.540000            1.000000      2.000000   \n",
              "25%     -121.790000     33.930000           18.000000   1462.000000   \n",
              "50%     -118.490000     34.250000           29.000000   2127.000000   \n",
              "75%     -118.000000     37.720000           37.000000   3151.250000   \n",
              "max     -114.310000     41.950000           52.000000  37937.000000   \n",
              "\n",
              "       total_bedrooms    population    households  median_income  \\\n",
              "count    17000.000000  17000.000000  17000.000000   17000.000000   \n",
              "mean       539.410824   1429.573941    501.221941       3.883578   \n",
              "std        421.499452   1147.852959    384.520841       1.908157   \n",
              "min          1.000000      3.000000      1.000000       0.499900   \n",
              "25%        297.000000    790.000000    282.000000       2.566375   \n",
              "50%        434.000000   1167.000000    409.000000       3.544600   \n",
              "75%        648.250000   1721.000000    605.250000       4.767000   \n",
              "max       6445.000000  35682.000000   6082.000000      15.000100   \n",
              "\n",
              "       median_house_value  \n",
              "count        17000.000000  \n",
              "mean        207300.912353  \n",
              "std         115983.764387  \n",
              "min          14999.000000  \n",
              "25%         119400.000000  \n",
              "50%         180400.000000  \n",
              "75%         265000.000000  \n",
              "max         500001.000000  "
            ],
            "text/html": [
              "\n",
              "  <div id=\"df-394ce6c4-7424-4c34-9db5-a673e59d5678\">\n",
              "    <div class=\"colab-df-container\">\n",
              "      <div>\n",
              "<style scoped>\n",
              "    .dataframe tbody tr th:only-of-type {\n",
              "        vertical-align: middle;\n",
              "    }\n",
              "\n",
              "    .dataframe tbody tr th {\n",
              "        vertical-align: top;\n",
              "    }\n",
              "\n",
              "    .dataframe thead th {\n",
              "        text-align: right;\n",
              "    }\n",
              "</style>\n",
              "<table border=\"1\" class=\"dataframe\">\n",
              "  <thead>\n",
              "    <tr style=\"text-align: right;\">\n",
              "      <th></th>\n",
              "      <th>longitude</th>\n",
              "      <th>latitude</th>\n",
              "      <th>housing_median_age</th>\n",
              "      <th>total_rooms</th>\n",
              "      <th>total_bedrooms</th>\n",
              "      <th>population</th>\n",
              "      <th>households</th>\n",
              "      <th>median_income</th>\n",
              "      <th>median_house_value</th>\n",
              "    </tr>\n",
              "  </thead>\n",
              "  <tbody>\n",
              "    <tr>\n",
              "      <th>count</th>\n",
              "      <td>17000.000000</td>\n",
              "      <td>17000.000000</td>\n",
              "      <td>17000.000000</td>\n",
              "      <td>17000.000000</td>\n",
              "      <td>17000.000000</td>\n",
              "      <td>17000.000000</td>\n",
              "      <td>17000.000000</td>\n",
              "      <td>17000.000000</td>\n",
              "      <td>17000.000000</td>\n",
              "    </tr>\n",
              "    <tr>\n",
              "      <th>mean</th>\n",
              "      <td>-119.562108</td>\n",
              "      <td>35.625225</td>\n",
              "      <td>28.589353</td>\n",
              "      <td>2643.664412</td>\n",
              "      <td>539.410824</td>\n",
              "      <td>1429.573941</td>\n",
              "      <td>501.221941</td>\n",
              "      <td>3.883578</td>\n",
              "      <td>207300.912353</td>\n",
              "    </tr>\n",
              "    <tr>\n",
              "      <th>std</th>\n",
              "      <td>2.005166</td>\n",
              "      <td>2.137340</td>\n",
              "      <td>12.586937</td>\n",
              "      <td>2179.947071</td>\n",
              "      <td>421.499452</td>\n",
              "      <td>1147.852959</td>\n",
              "      <td>384.520841</td>\n",
              "      <td>1.908157</td>\n",
              "      <td>115983.764387</td>\n",
              "    </tr>\n",
              "    <tr>\n",
              "      <th>min</th>\n",
              "      <td>-124.350000</td>\n",
              "      <td>32.540000</td>\n",
              "      <td>1.000000</td>\n",
              "      <td>2.000000</td>\n",
              "      <td>1.000000</td>\n",
              "      <td>3.000000</td>\n",
              "      <td>1.000000</td>\n",
              "      <td>0.499900</td>\n",
              "      <td>14999.000000</td>\n",
              "    </tr>\n",
              "    <tr>\n",
              "      <th>25%</th>\n",
              "      <td>-121.790000</td>\n",
              "      <td>33.930000</td>\n",
              "      <td>18.000000</td>\n",
              "      <td>1462.000000</td>\n",
              "      <td>297.000000</td>\n",
              "      <td>790.000000</td>\n",
              "      <td>282.000000</td>\n",
              "      <td>2.566375</td>\n",
              "      <td>119400.000000</td>\n",
              "    </tr>\n",
              "    <tr>\n",
              "      <th>50%</th>\n",
              "      <td>-118.490000</td>\n",
              "      <td>34.250000</td>\n",
              "      <td>29.000000</td>\n",
              "      <td>2127.000000</td>\n",
              "      <td>434.000000</td>\n",
              "      <td>1167.000000</td>\n",
              "      <td>409.000000</td>\n",
              "      <td>3.544600</td>\n",
              "      <td>180400.000000</td>\n",
              "    </tr>\n",
              "    <tr>\n",
              "      <th>75%</th>\n",
              "      <td>-118.000000</td>\n",
              "      <td>37.720000</td>\n",
              "      <td>37.000000</td>\n",
              "      <td>3151.250000</td>\n",
              "      <td>648.250000</td>\n",
              "      <td>1721.000000</td>\n",
              "      <td>605.250000</td>\n",
              "      <td>4.767000</td>\n",
              "      <td>265000.000000</td>\n",
              "    </tr>\n",
              "    <tr>\n",
              "      <th>max</th>\n",
              "      <td>-114.310000</td>\n",
              "      <td>41.950000</td>\n",
              "      <td>52.000000</td>\n",
              "      <td>37937.000000</td>\n",
              "      <td>6445.000000</td>\n",
              "      <td>35682.000000</td>\n",
              "      <td>6082.000000</td>\n",
              "      <td>15.000100</td>\n",
              "      <td>500001.000000</td>\n",
              "    </tr>\n",
              "  </tbody>\n",
              "</table>\n",
              "</div>\n",
              "      <button class=\"colab-df-convert\" onclick=\"convertToInteractive('df-394ce6c4-7424-4c34-9db5-a673e59d5678')\"\n",
              "              title=\"Convert this dataframe to an interactive table.\"\n",
              "              style=\"display:none;\">\n",
              "        \n",
              "  <svg xmlns=\"http://www.w3.org/2000/svg\" height=\"24px\"viewBox=\"0 0 24 24\"\n",
              "       width=\"24px\">\n",
              "    <path d=\"M0 0h24v24H0V0z\" fill=\"none\"/>\n",
              "    <path d=\"M18.56 5.44l.94 2.06.94-2.06 2.06-.94-2.06-.94-.94-2.06-.94 2.06-2.06.94zm-11 1L8.5 8.5l.94-2.06 2.06-.94-2.06-.94L8.5 2.5l-.94 2.06-2.06.94zm10 10l.94 2.06.94-2.06 2.06-.94-2.06-.94-.94-2.06-.94 2.06-2.06.94z\"/><path d=\"M17.41 7.96l-1.37-1.37c-.4-.4-.92-.59-1.43-.59-.52 0-1.04.2-1.43.59L10.3 9.45l-7.72 7.72c-.78.78-.78 2.05 0 2.83L4 21.41c.39.39.9.59 1.41.59.51 0 1.02-.2 1.41-.59l7.78-7.78 2.81-2.81c.8-.78.8-2.07 0-2.86zM5.41 20L4 18.59l7.72-7.72 1.47 1.35L5.41 20z\"/>\n",
              "  </svg>\n",
              "      </button>\n",
              "      \n",
              "  <style>\n",
              "    .colab-df-container {\n",
              "      display:flex;\n",
              "      flex-wrap:wrap;\n",
              "      gap: 12px;\n",
              "    }\n",
              "\n",
              "    .colab-df-convert {\n",
              "      background-color: #E8F0FE;\n",
              "      border: none;\n",
              "      border-radius: 50%;\n",
              "      cursor: pointer;\n",
              "      display: none;\n",
              "      fill: #1967D2;\n",
              "      height: 32px;\n",
              "      padding: 0 0 0 0;\n",
              "      width: 32px;\n",
              "    }\n",
              "\n",
              "    .colab-df-convert:hover {\n",
              "      background-color: #E2EBFA;\n",
              "      box-shadow: 0px 1px 2px rgba(60, 64, 67, 0.3), 0px 1px 3px 1px rgba(60, 64, 67, 0.15);\n",
              "      fill: #174EA6;\n",
              "    }\n",
              "\n",
              "    [theme=dark] .colab-df-convert {\n",
              "      background-color: #3B4455;\n",
              "      fill: #D2E3FC;\n",
              "    }\n",
              "\n",
              "    [theme=dark] .colab-df-convert:hover {\n",
              "      background-color: #434B5C;\n",
              "      box-shadow: 0px 1px 3px 1px rgba(0, 0, 0, 0.15);\n",
              "      filter: drop-shadow(0px 1px 2px rgba(0, 0, 0, 0.3));\n",
              "      fill: #FFFFFF;\n",
              "    }\n",
              "  </style>\n",
              "\n",
              "      <script>\n",
              "        const buttonEl =\n",
              "          document.querySelector('#df-394ce6c4-7424-4c34-9db5-a673e59d5678 button.colab-df-convert');\n",
              "        buttonEl.style.display =\n",
              "          google.colab.kernel.accessAllowed ? 'block' : 'none';\n",
              "\n",
              "        async function convertToInteractive(key) {\n",
              "          const element = document.querySelector('#df-394ce6c4-7424-4c34-9db5-a673e59d5678');\n",
              "          const dataTable =\n",
              "            await google.colab.kernel.invokeFunction('convertToInteractive',\n",
              "                                                     [key], {});\n",
              "          if (!dataTable) return;\n",
              "\n",
              "          const docLinkHtml = 'Like what you see? Visit the ' +\n",
              "            '<a target=\"_blank\" href=https://colab.research.google.com/notebooks/data_table.ipynb>data table notebook</a>'\n",
              "            + ' to learn more about interactive tables.';\n",
              "          element.innerHTML = '';\n",
              "          dataTable['output_type'] = 'display_data';\n",
              "          await google.colab.output.renderOutput(dataTable, element);\n",
              "          const docLink = document.createElement('div');\n",
              "          docLink.innerHTML = docLinkHtml;\n",
              "          element.appendChild(docLink);\n",
              "        }\n",
              "      </script>\n",
              "    </div>\n",
              "  </div>\n",
              "  "
            ]
          },
          "metadata": {},
          "execution_count": 12
        }
      ]
    },
    {
      "cell_type": "code",
      "source": [
        "df_train.isnull().sum()"
      ],
      "metadata": {
        "colab": {
          "base_uri": "https://localhost:8080/"
        },
        "id": "1IyF-qJUQidH",
        "outputId": "cc4d6178-8501-4ca9-bfde-5cc428836580"
      },
      "execution_count": 14,
      "outputs": [
        {
          "output_type": "execute_result",
          "data": {
            "text/plain": [
              "longitude             0\n",
              "latitude              0\n",
              "housing_median_age    0\n",
              "total_rooms           0\n",
              "total_bedrooms        0\n",
              "population            0\n",
              "households            0\n",
              "median_income         0\n",
              "median_house_value    0\n",
              "dtype: int64"
            ]
          },
          "metadata": {},
          "execution_count": 14
        }
      ]
    },
    {
      "cell_type": "code",
      "source": [
        "import seaborn as sns\n",
        "#histograma\n",
        "sns.distplot(df_train['median_house_value'])"
      ],
      "metadata": {
        "colab": {
          "base_uri": "https://localhost:8080/",
          "height": 366
        },
        "id": "dY5PD2sLODNh",
        "outputId": "41c8d1ac-20fe-414e-b3c0-86c469415e90"
      },
      "execution_count": 7,
      "outputs": [
        {
          "output_type": "stream",
          "name": "stderr",
          "text": [
            "/usr/local/lib/python3.7/dist-packages/seaborn/distributions.py:2619: FutureWarning: `distplot` is a deprecated function and will be removed in a future version. Please adapt your code to use either `displot` (a figure-level function with similar flexibility) or `histplot` (an axes-level function for histograms).\n",
            "  warnings.warn(msg, FutureWarning)\n"
          ]
        },
        {
          "output_type": "execute_result",
          "data": {
            "text/plain": [
              "<matplotlib.axes._subplots.AxesSubplot at 0x7f21b495b150>"
            ]
          },
          "metadata": {},
          "execution_count": 7
        },
        {
          "output_type": "display_data",
          "data": {
            "text/plain": [
              "<Figure size 432x288 with 1 Axes>"
            ],
            "image/png": "[encoded data removed]"
          },
          "metadata": {
            "needs_background": "light"
          }
        }
      ]
    },
    {
      "cell_type": "code",
      "source": [
        "df_train.hist(bins=75,figsize=(16,14))\n"
      ],
      "metadata": {
        "colab": {
          "base_uri": "https://localhost:8080/",
          "height": 1000
        },
        "id": "hTtmtFDqRSWF",
        "outputId": "8b76b8c5-de95-4a5a-8635-041d745793b5"
      },
      "execution_count": 15,
      "outputs": [
        {
          "output_type": "execute_result",
          "data": {
            "text/plain": [
              "array([[<matplotlib.axes._subplots.AxesSubplot object at 0x7f21b1633150>,\n",
              "        <matplotlib.axes._subplots.AxesSubplot object at 0x7f21b15b3650>,\n",
              "        <matplotlib.axes._subplots.AxesSubplot object at 0x7f21b1569c50>],\n",
              "       [<matplotlib.axes._subplots.AxesSubplot object at 0x7f21b152e290>,\n",
              "        <matplotlib.axes._subplots.AxesSubplot object at 0x7f21b1562890>,\n",
              "        <matplotlib.axes._subplots.AxesSubplot object at 0x7f21b1519e90>],\n",
              "       [<matplotlib.axes._subplots.AxesSubplot object at 0x7f21b14dd550>,\n",
              "        <matplotlib.axes._subplots.AxesSubplot object at 0x7f21b1493a90>,\n",
              "        <matplotlib.axes._subplots.AxesSubplot object at 0x7f21b1493ad0>]],\n",
              "      dtype=object)"
            ]
          },
          "metadata": {},
          "execution_count": 15
        },
        {
          "output_type": "display_data",
          "data": {
            "text/plain": [
              "<Figure size 1152x1008 with 9 Axes>"
            ],
            "image/png": "[encoded data removed]"
          },
          "metadata": {
            "needs_background": "light"
          }
        }
      ]
    },
    {
      "cell_type": "code",
      "source": [
        "import seaborn as sns\n",
        "#histogram\n",
        "sns.distplot(df_train['median_income'])"
      ],
      "metadata": {
        "colab": {
          "base_uri": "https://localhost:8080/",
          "height": 355
        },
        "id": "TwYIx-FvOGWM",
        "outputId": "dd55232d-c56e-4ab1-b361-cd7ba43df260"
      },
      "execution_count": 8,
      "outputs": [
        {
          "output_type": "stream",
          "name": "stderr",
          "text": [
            "/usr/local/lib/python3.7/dist-packages/seaborn/distributions.py:2619: FutureWarning: `distplot` is a deprecated function and will be removed in a future version. Please adapt your code to use either `displot` (a figure-level function with similar flexibility) or `histplot` (an axes-level function for histograms).\n",
            "  warnings.warn(msg, FutureWarning)\n"
          ]
        },
        {
          "output_type": "execute_result",
          "data": {
            "text/plain": [
              "<matplotlib.axes._subplots.AxesSubplot at 0x7f21b1fdd7d0>"
            ]
          },
          "metadata": {},
          "execution_count": 8
        },
        {
          "output_type": "display_data",
          "data": {
            "text/plain": [
              "<Figure size 432x288 with 1 Axes>"
            ],
            "image/png": "[encoded data removed]"
          },
          "metadata": {
            "needs_background": "light"
          }
        }
      ]
    },
    {
      "cell_type": "code",
      "source": [
        "import matplotlib.pyplot as plt\n",
        "\n",
        "vars = ['population', 'median_income']\n",
        "\n",
        "i = 1\n",
        "for var in vars:\n",
        "  plt.subplot(1, 2, i)\n",
        "  plt.scatter( df_train['median_house_value'].values, df_train[var].values)\n",
        "  plt.xlabel('median_house_value')\n",
        "  plt.ylabel(var)\n",
        "  i += 1"
      ],
      "metadata": {
        "colab": {
          "base_uri": "https://localhost:8080/",
          "height": 280
        },
        "id": "uL2VYxkIOhkE",
        "outputId": "fe23a9dc-097e-4628-e535-e6bc596280f6"
      },
      "execution_count": 10,
      "outputs": [
        {
          "output_type": "display_data",
          "data": {
            "text/plain": [
              "<Figure size 432x288 with 2 Axes>"
            ],
            "image/png": "[encoded data removed]"
          },
          "metadata": {
            "needs_background": "light"
          }
        }
      ]
    },
    {
      "cell_type": "code",
      "source": [
        "#heatmap using seaborn\n",
        "#set the context for plotting \n",
        "sns.set(context=\"paper\",font=\"monospace\")\n",
        "housing_corr_matrix = df_train.corr()\n",
        "#set the matplotlib figure\n",
        "fig, axe = plt.subplots(figsize=(12,8))\n",
        "#Generate color palettes \n",
        "cmap = sns.diverging_palette(220,10,center = \"light\", as_cmap=True)\n",
        "#draw the heatmap\n",
        "sns.heatmap(housing_corr_matrix,vmax=1,square =True, cmap=cmap,annot=True );"
      ],
      "metadata": {
        "colab": {
          "base_uri": "https://localhost:8080/",
          "height": 572
        },
        "id": "Bw2E2JTHR9tt",
        "outputId": "a7552307-9b01-4058-c698-36df4d2133ca"
      },
      "execution_count": 16,
      "outputs": [
        {
          "output_type": "display_data",
          "data": {
            "text/plain": [
              "<Figure size 864x576 with 2 Axes>"
            ],
            "image/png": "[encoded data removed]"
          },
          "metadata": {}
        }
      ]
    },
    {
      "cell_type": "markdown",
      "source": [
        "# TOP 250 Movies IMBD"
      ],
      "metadata": {
        "id": "ovsyt42BTpFA"
      }
    },
    {
      "cell_type": "code",
      "source": [
        "import pandas as pd\n",
        "import numpy as np\n",
        "from sklearn.metrics.pairwise import cosine_similarity\n",
        "from sklearn.feature_extraction.text import CountVectorizer\n",
        "\n",
        "df = pd.read_csv('https://raw.githubusercontent.com/WittmannF/imdb-tv-ratings/master/data/top-250-movie-ratings.csv')\n",
        "\n",
        "df.head(3)"
      ],
      "metadata": {
        "colab": {
          "base_uri": "https://localhost:8080/",
          "height": 143
        },
        "id": "4mSG_qYyTsvx",
        "outputId": "030cab21-25db-4a3a-a4fa-93e44bef4a78"
      },
      "execution_count": 17,
      "outputs": [
        {
          "output_type": "execute_result",
          "data": {
            "text/plain": [
              "  Unnamed: 0                     Title  Year  Rating Rating Count\n",
              "0  tt0111161  The Shawshank Redemption  1994     9.2    2,089,382\n",
              "1  tt0068646             The Godfather  1972     9.2    1,433,884\n",
              "2  tt0071562    The Godfather: Part II  1974     9.0      995,997"
            ],
            "text/html": [
              "\n",
              "  <div id=\"df-34252204-0fd0-493f-966d-cdc766f7033d\">\n",
              "    <div class=\"colab-df-container\">\n",
              "      <div>\n",
              "<style scoped>\n",
              "    .dataframe tbody tr th:only-of-type {\n",
              "        vertical-align: middle;\n",
              "    }\n",
              "\n",
              "    .dataframe tbody tr th {\n",
              "        vertical-align: top;\n",
              "    }\n",
              "\n",
              "    .dataframe thead th {\n",
              "        text-align: right;\n",
              "    }\n",
              "</style>\n",
              "<table border=\"1\" class=\"dataframe\">\n",
              "  <thead>\n",
              "    <tr style=\"text-align: right;\">\n",
              "      <th></th>\n",
              "      <th>Unnamed: 0</th>\n",
              "      <th>Title</th>\n",
              "      <th>Year</th>\n",
              "      <th>Rating</th>\n",
              "      <th>Rating Count</th>\n",
              "    </tr>\n",
              "  </thead>\n",
              "  <tbody>\n",
              "    <tr>\n",
              "      <th>0</th>\n",
              "      <td>tt0111161</td>\n",
              "      <td>The Shawshank Redemption</td>\n",
              "      <td>1994</td>\n",
              "      <td>9.2</td>\n",
              "      <td>2,089,382</td>\n",
              "    </tr>\n",
              "    <tr>\n",
              "      <th>1</th>\n",
              "      <td>tt0068646</td>\n",
              "      <td>The Godfather</td>\n",
              "      <td>1972</td>\n",
              "      <td>9.2</td>\n",
              "      <td>1,433,884</td>\n",
              "    </tr>\n",
              "    <tr>\n",
              "      <th>2</th>\n",
              "      <td>tt0071562</td>\n",
              "      <td>The Godfather: Part II</td>\n",
              "      <td>1974</td>\n",
              "      <td>9.0</td>\n",
              "      <td>995,997</td>\n",
              "    </tr>\n",
              "  </tbody>\n",
              "</table>\n",
              "</div>\n",
              "      <button class=\"colab-df-convert\" onclick=\"convertToInteractive('df-34252204-0fd0-493f-966d-cdc766f7033d')\"\n",
              "              title=\"Convert this dataframe to an interactive table.\"\n",
              "              style=\"display:none;\">\n",
              "        \n",
              "  <svg xmlns=\"http://www.w3.org/2000/svg\" height=\"24px\"viewBox=\"0 0 24 24\"\n",
              "       width=\"24px\">\n",
              "    <path d=\"M0 0h24v24H0V0z\" fill=\"none\"/>\n",
              "    <path d=\"M18.56 5.44l.94 2.06.94-2.06 2.06-.94-2.06-.94-.94-2.06-.94 2.06-2.06.94zm-11 1L8.5 8.5l.94-2.06 2.06-.94-2.06-.94L8.5 2.5l-.94 2.06-2.06.94zm10 10l.94 2.06.94-2.06 2.06-.94-2.06-.94-.94-2.06-.94 2.06-2.06.94z\"/><path d=\"M17.41 7.96l-1.37-1.37c-.4-.4-.92-.59-1.43-.59-.52 0-1.04.2-1.43.59L10.3 9.45l-7.72 7.72c-.78.78-.78 2.05 0 2.83L4 21.41c.39.39.9.59 1.41.59.51 0 1.02-.2 1.41-.59l7.78-7.78 2.81-2.81c.8-.78.8-2.07 0-2.86zM5.41 20L4 18.59l7.72-7.72 1.47 1.35L5.41 20z\"/>\n",
              "  </svg>\n",
              "      </button>\n",
              "      \n",
              "  <style>\n",
              "    .colab-df-container {\n",
              "      display:flex;\n",
              "      flex-wrap:wrap;\n",
              "      gap: 12px;\n",
              "    }\n",
              "\n",
              "    .colab-df-convert {\n",
              "      background-color: #E8F0FE;\n",
              "      border: none;\n",
              "      border-radius: 50%;\n",
              "      cursor: pointer;\n",
              "      display: none;\n",
              "      fill: #1967D2;\n",
              "      height: 32px;\n",
              "      padding: 0 0 0 0;\n",
              "      width: 32px;\n",
              "    }\n",
              "\n",
              "    .colab-df-convert:hover {\n",
              "      background-color: #E2EBFA;\n",
              "      box-shadow: 0px 1px 2px rgba(60, 64, 67, 0.3), 0px 1px 3px 1px rgba(60, 64, 67, 0.15);\n",
              "      fill: #174EA6;\n",
              "    }\n",
              "\n",
              "    [theme=dark] .colab-df-convert {\n",
              "      background-color: #3B4455;\n",
              "      fill: #D2E3FC;\n",
              "    }\n",
              "\n",
              "    [theme=dark] .colab-df-convert:hover {\n",
              "      background-color: #434B5C;\n",
              "      box-shadow: 0px 1px 3px 1px rgba(0, 0, 0, 0.15);\n",
              "      filter: drop-shadow(0px 1px 2px rgba(0, 0, 0, 0.3));\n",
              "      fill: #FFFFFF;\n",
              "    }\n",
              "  </style>\n",
              "\n",
              "      <script>\n",
              "        const buttonEl =\n",
              "          document.querySelector('#df-34252204-0fd0-493f-966d-cdc766f7033d button.colab-df-convert');\n",
              "        buttonEl.style.display =\n",
              "          google.colab.kernel.accessAllowed ? 'block' : 'none';\n",
              "\n",
              "        async function convertToInteractive(key) {\n",
              "          const element = document.querySelector('#df-34252204-0fd0-493f-966d-cdc766f7033d');\n",
              "          const dataTable =\n",
              "            await google.colab.kernel.invokeFunction('convertToInteractive',\n",
              "                                                     [key], {});\n",
              "          if (!dataTable) return;\n",
              "\n",
              "          const docLinkHtml = 'Like what you see? Visit the ' +\n",
              "            '<a target=\"_blank\" href=https://colab.research.google.com/notebooks/data_table.ipynb>data table notebook</a>'\n",
              "            + ' to learn more about interactive tables.';\n",
              "          element.innerHTML = '';\n",
              "          dataTable['output_type'] = 'display_data';\n",
              "          await google.colab.output.renderOutput(dataTable, element);\n",
              "          const docLink = document.createElement('div');\n",
              "          docLink.innerHTML = docLinkHtml;\n",
              "          element.appendChild(docLink);\n",
              "        }\n",
              "      </script>\n",
              "    </div>\n",
              "  </div>\n",
              "  "
            ]
          },
          "metadata": {},
          "execution_count": 17
        }
      ]
    }
  ]
}